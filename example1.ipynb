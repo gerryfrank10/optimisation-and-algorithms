{
 "cells": [
  {
   "cell_type": "code",
   "id": "initial_id",
   "metadata": {
    "collapsed": true,
    "ExecuteTime": {
     "end_time": "2024-11-26T02:42:33.295685Z",
     "start_time": "2024-11-26T02:42:33.094620Z"
    }
   },
   "source": [
    "import numpy as np\n",
    "from scipy.optimize import linprog"
   ],
   "outputs": [],
   "execution_count": 1
  },
  {
   "metadata": {
    "ExecuteTime": {
     "end_time": "2024-11-26T02:42:34.666781Z",
     "start_time": "2024-11-26T02:42:34.663988Z"
    }
   },
   "cell_type": "code",
   "source": [
    "margins = np.array([2.15, 1.34, 1.72])\n",
    "c = -margins\n",
    "A = np.array([\n",
    "    [7/10, 1/3, 1/2],\n",
    "    [1/5, 2/3, 1/6],\n",
    "    [1/10, 0.0, 1/3]\n",
    "])\n",
    "b = np.array([8000, 3000, 2500])"
   ],
   "id": "f0933e8cfe119bb9",
   "outputs": [],
   "execution_count": 2
  },
  {
   "metadata": {
    "ExecuteTime": {
     "end_time": "2024-11-26T02:42:35.399890Z",
     "start_time": "2024-11-26T02:42:35.395383Z"
    }
   },
   "cell_type": "code",
   "source": [
    "sol = linprog(c, A_ub=A, b_ub=b)\n",
    "print(sol.x)"
   ],
   "id": "2031fae6d0c0953e",
   "outputs": [
    {
     "name": "stdout",
     "output_type": "stream",
     "text": [
      "[7105.26315789 1026.31578947 5368.42105263]\n"
     ]
    }
   ],
   "execution_count": 3
  },
  {
   "metadata": {
    "ExecuteTime": {
     "end_time": "2024-11-26T03:10:10.181282Z",
     "start_time": "2024-11-26T03:10:10.130179Z"
    }
   },
   "cell_type": "code",
   "source": [
    "import pyomo.environ as pyomo\n",
    "model = pyomo.ConcreteModel()\n",
    "model.I = pyomo.Set(initialize=['A', 'B', 'C'])\n",
    "model.J = pyomo.Set(initialize=['D', 'E', 'F'])\n",
    "\n",
    "model.b = pyomo.Param(model.I, initialize=dict(zip(model.I, b)))\n",
    "model.c = pyomo.Param(model.J, initialize=dict(zip(model.J, margins)))\n",
    "\n",
    "proportions = {}\n",
    "for k, i in enumerate(model.I):\n",
    "    for l, j in enumerate(model.J):\n",
    "        proportions[i, j] = A[k, l]\n",
    "\n",
    "model.f = pyomo.Param(model.I, model.J, initialize=proportions)\n",
    "model.x = pyomo.Var(model.J, within=pyomo.NonNegativeReals, name='x')\n",
    "\n",
    "# Availability constraint\n",
    "def availability_rule_cstr(model, i):\n",
    "    return sum(model.f[i, j] * model.x[j] for j in model.J) <= model.b[i]\n",
    "\n",
    "model.cstr_available = pyomo.Constraint(model.I, rule=availability_rule_cstr, name=\"cstr_available\")\n",
    "\n",
    "# Objective function\n",
    "def obj_func(model):\n",
    "    return sum(model.x[j] * model.c[j] for j in model.J)\n",
    "\n",
    "model.obj = pyomo.Objective(rule=obj_func, sense=pyomo.maximize)\n",
    "\n",
    "cbc = pyomo.SolverFactory(\"cbc\")\n",
    "sol = cbc.solve(model, tee=False)\n",
    "\n",
    "print(model.x.display())\n",
    "print(model.obj.display())"
   ],
   "id": "5ea18965133cde25",
   "outputs": [
    {
     "name": "stdout",
     "output_type": "stream",
     "text": [
      "x : Size=3, Index=J\n",
      "    Key : Lower : Value     : Upper : Fixed : Stale : Domain\n",
      "      D :     0 : 7105.2632 :  None : False : False : NonNegativeReals\n",
      "      E :     0 : 1026.3158 :  None : False : False : NonNegativeReals\n",
      "      F :     0 : 5368.4211 :  None : False : False : NonNegativeReals\n",
      "None\n",
      "obj : Size=1, Index=None, Active=True\n",
      "    Key  : Active : Value\n",
      "    None :   True : 25885.263344\n",
      "None\n"
     ]
    }
   ],
   "execution_count": 10
  },
  {
   "metadata": {
    "ExecuteTime": {
     "end_time": "2024-11-26T02:42:36.276077Z",
     "start_time": "2024-11-26T02:42:36.001320Z"
    }
   },
   "cell_type": "code",
   "source": "import pyomo.environ as pyomo",
   "id": "c53d68c241d797e3",
   "outputs": [],
   "execution_count": 4
  },
  {
   "metadata": {
    "ExecuteTime": {
     "end_time": "2024-11-26T02:54:59.165059Z",
     "start_time": "2024-11-26T02:54:59.119717Z"
    }
   },
   "cell_type": "code",
   "source": [
    "model = pyomo.ConcreteModel()\n",
    "model.x1 = pyomo.Var(domain=pyomo.NonNegativeReals)\n",
    "model.x2 = pyomo.Var(domain=pyomo.NonNegativeReals)\n",
    "\n",
    "model.c = pyomo.ConstraintList()\n",
    "model.c.add(model.x1*10 + 1 >= model.x2)\n",
    "model.c.add(model.x1*0.2 + 4 >= model.x2)\n",
    "model.c.add(model.x1 * -0.2 + 6 >= model.x2)\n",
    "\n",
    "model.objective = pyomo.Objective(rule=lambda model: model.x1 + model.x2*10, sense=pyomo.maximize)\n",
    "\n",
    "solver = pyomo.SolverFactory('cbc')\n",
    "result = solver.solve(model)\n",
    "print(result)\n",
    "print(model.x1())\n",
    "print(model.x2())"
   ],
   "id": "c1aa5cea6dd1df64",
   "outputs": [
    {
     "name": "stdout",
     "output_type": "stream",
     "text": [
      "\n",
      "Problem: \n",
      "- Name: unknown\n",
      "  Lower bound: 55.0\n",
      "  Upper bound: 55.0\n",
      "  Number of objectives: 1\n",
      "  Number of constraints: 3\n",
      "  Number of variables: 2\n",
      "  Number of nonzeros: 0\n",
      "  Sense: maximize\n",
      "Solver: \n",
      "- Status: ok\n",
      "  User time: -1.0\n",
      "  System time: 0.0\n",
      "  Wallclock time: 0.0\n",
      "  Termination condition: optimal\n",
      "  Termination message: Model was solved to optimality (subject to tolerances), and an optimal solution is available.\n",
      "  Statistics: \n",
      "    Branch and bound: \n",
      "      Number of bounded subproblems: None\n",
      "      Number of created subproblems: None\n",
      "    Black box: \n",
      "      Number of iterations: 0\n",
      "  Error rc: 0\n",
      "  Time: 0.022161006927490234\n",
      "Solution: \n",
      "- number of solutions: 0\n",
      "  number of solutions displayed: 0\n",
      "\n",
      "5.0\n",
      "5.0\n"
     ]
    }
   ],
   "execution_count": 8
  },
  {
   "metadata": {},
   "cell_type": "code",
   "outputs": [],
   "execution_count": null,
   "source": "",
   "id": "bfd0f8348162fca0"
  }
 ],
 "metadata": {
  "kernelspec": {
   "display_name": "Python 3",
   "language": "python",
   "name": "python3"
  },
  "language_info": {
   "codemirror_mode": {
    "name": "ipython",
    "version": 2
   },
   "file_extension": ".py",
   "mimetype": "text/x-python",
   "name": "python",
   "nbconvert_exporter": "python",
   "pygments_lexer": "ipython2",
   "version": "2.7.6"
  }
 },
 "nbformat": 4,
 "nbformat_minor": 5
}
