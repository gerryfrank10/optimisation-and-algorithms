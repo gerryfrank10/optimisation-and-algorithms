{
 "cells": [
  {
   "cell_type": "code",
   "id": "initial_id",
   "metadata": {
    "collapsed": true,
    "ExecuteTime": {
     "end_time": "2024-12-05T13:21:32.063197Z",
     "start_time": "2024-12-05T13:21:32.062001Z"
    }
   },
   "source": [
    "import numpy as np\n",
    "import math\n"
   ],
   "outputs": [],
   "execution_count": 1
  },
  {
   "metadata": {
    "ExecuteTime": {
     "end_time": "2024-12-05T13:32:42.025686Z",
     "start_time": "2024-12-05T13:32:42.014681Z"
    }
   },
   "cell_type": "code",
   "source": [
    "class Graph:\n",
    "    def __init__(self, size):\n",
    "        self.adj_matrix = [[0] * size for _ in range(size)]\n",
    "        self.size = size\n",
    "        self.vertex_data = [''] * size\n",
    "\n",
    "    def add_edge(self, u, v, weight):\n",
    "        if 0 <= u < self.size and 0 <= v < self.size:\n",
    "            self.adj_matrix[u][v] = weight\n",
    "            self.adj_matrix[v][u] = weight  # For undirected graph\n",
    "\n",
    "    def add_vertex_data(self, vertex, data):\n",
    "        if 0 <= vertex < self.size:\n",
    "            self.vertex_data[vertex] = data\n",
    "\n",
    "    def dijkstra(self, start_vertex_data, end_vertex_data):\n",
    "        start_vertex = self.vertex_data.index(start_vertex_data)\n",
    "        end_vertex = self.vertex_data.index(end_vertex_data)\n",
    "        distances = [float('inf')] * self.size\n",
    "        predecessors = [None] * self.size\n",
    "        distances[start_vertex] = 0\n",
    "        visited = [False] * self.size\n",
    "\n",
    "        for _ in range(self.size):\n",
    "            min_distance = float('inf')\n",
    "            u = None\n",
    "            for i in range(self.size):\n",
    "                if not visited[i] and distances[i] < min_distance:\n",
    "                    min_distance = distances[i]\n",
    "                    u = i\n",
    "\n",
    "            if u is None or u == end_vertex:\n",
    "                print(f\"Breaking out of loop. Current vertex: {self.vertex_data[u]}\")\n",
    "                print(f\"Distances: {distances}\")\n",
    "                break\n",
    "\n",
    "            visited[u] = True\n",
    "            print(f\"Visited vertex: {self.vertex_data[u]}\")\n",
    "\n",
    "            for v in range(self.size):\n",
    "                if self.adj_matrix[u][v] != 0 and not visited[v]:\n",
    "                    alt = distances[u] + self.adj_matrix[u][v]\n",
    "                    if alt < distances[v]:\n",
    "                        distances[v] = alt\n",
    "                        predecessors[v] = u\n",
    "\n",
    "        return distances[end_vertex], self.get_path(predecessors, start_vertex_data, end_vertex_data)\n",
    "\n",
    "    def get_path(self, predecessors, start_vertex, end_vertex):\n",
    "        path = []\n",
    "        current = self.vertex_data.index(end_vertex)\n",
    "        while current is not None:\n",
    "            path.insert(0, self.vertex_data[current])\n",
    "            current = predecessors[current]\n",
    "            if current == self.vertex_data.index(start_vertex):\n",
    "                path.insert(0, start_vertex)\n",
    "                break\n",
    "        return '->'.join(path)  # Join the vertices with '->'\n",
    "\n",
    "g = Graph(10)\n",
    "\n",
    "g.add_vertex_data(0, 'Bournemouth')\n",
    "g.add_vertex_data(1, 'Bath')\n",
    "g.add_vertex_data(2, 'Southampton')\n",
    "g.add_vertex_data(3, 'Oxford')\n",
    "g.add_vertex_data(4, 'Reading')\n",
    "g.add_vertex_data(5, 'London')\n",
    "\n",
    "\n",
    "g.add_edge(0, 1, 46)  # Bournemouth to bath\n",
    "g.add_edge(0, 2, 31)  # D - E, weight 2\n",
    "g.add_edge(2, 4, 28)  # A - C, weight 3\n",
    "g.add_edge(2, 3, 59)\n",
    "g.add_edge(2, 1, 13)\n",
    "g.add_edge(1, 4, 21)\n",
    "g.add_edge(1, 3, 36)\n",
    "g.add_edge(4,3,9)\n",
    "g.add_edge(4,5,25)\n",
    "g.add_edge(3,5,33)\n",
    "\n",
    "\n",
    "print(\"Dijkstra's Algorithm, from vertex Bournemouth to London:\\n\")\n",
    "distance, path = g.dijkstra('Bournemouth','London')\n",
    "print(f\"Path: {path}, Distance: {distance}\")\n",
    "\n",
    "#Python"
   ],
   "id": "cdbdd02621ef94b5",
   "outputs": [
    {
     "name": "stdout",
     "output_type": "stream",
     "text": [
      "Dijkstra's Algorithm, from vertex Bournemouth to London:\n",
      "\n",
      "Visited vertex: Bournemouth\n",
      "Visited vertex: Southampton\n",
      "Visited vertex: Bath\n",
      "Visited vertex: Reading\n",
      "Visited vertex: Oxford\n",
      "Breaking out of loop. Current vertex: London\n",
      "Distances: [0, 44, 31, 68, 59, 84, inf, inf, inf, inf]\n",
      "Path: Bournemouth->Southampton->Reading->London, Distance: 84\n"
     ]
    }
   ],
   "execution_count": 3
  },
  {
   "metadata": {},
   "cell_type": "code",
   "outputs": [],
   "execution_count": null,
   "source": "",
   "id": "4ac94eb07a30b30e"
  }
 ],
 "metadata": {
  "kernelspec": {
   "display_name": "Python 3",
   "language": "python",
   "name": "python3"
  },
  "language_info": {
   "codemirror_mode": {
    "name": "ipython",
    "version": 2
   },
   "file_extension": ".py",
   "mimetype": "text/x-python",
   "name": "python",
   "nbconvert_exporter": "python",
   "pygments_lexer": "ipython2",
   "version": "2.7.6"
  }
 },
 "nbformat": 4,
 "nbformat_minor": 5
}
