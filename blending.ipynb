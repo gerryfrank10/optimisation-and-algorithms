{
 "cells": [
  {
   "cell_type": "code",
   "id": "initial_id",
   "metadata": {
    "collapsed": true,
    "ExecuteTime": {
     "end_time": "2024-11-26T21:51:38.454398Z",
     "start_time": "2024-11-26T21:51:38.410039Z"
    }
   },
   "source": [
    "import numpy as np\n",
    "\n",
    "data = {\n",
    "    'A': {'abv': 0.045, 'cost': 0.32},\n",
    "    'B': {'abv': 0.037, 'cost': 0.25},\n",
    "    'W': {'abv': 0.000, 'cost': 0.05},\n",
    "}\n"
   ],
   "outputs": [],
   "execution_count": 1
  },
  {
   "metadata": {},
   "cell_type": "markdown",
   "source": [
    "## Objective function\n",
    "let c be the blending component, then denote volume of c used in blend as Xc the cost of the blend is\n",
    "$$ Cost =  \\sum_{c=R} Xc*Pc $$"
   ],
   "id": "2c4f96fa7fb0e7c"
  },
  {
   "metadata": {
    "ExecuteTime": {
     "end_time": "2024-11-26T22:10:40.225088Z",
     "start_time": "2024-11-26T22:10:40.176763Z"
    }
   },
   "cell_type": "code",
   "source": [
    "import pyomo.environ as pyomo\n",
    "vol = 100\n",
    "abv = 0.04\n",
    "\n",
    "def beer_blend(vol, abv, data):\n",
    "    C = data.keys()\n",
    "    model = pyomo.ConcreteModel()\n",
    "    model.x = pyomo.Var(C, domain=pyomo.NonNegativeReals)\n",
    "    model.cost = pyomo.Objective(expr = sum(model.x[c]*data[c]['cost'] for c in C))\n",
    "    model.vol = pyomo.Constraint(expr = vol == sum(model.x[c] for c in C))\n",
    "    model.abv = pyomo.Constraint(expr = 0 == sum(model.x[c]*(data[c]['abv'] - abv) for c in C))\n",
    "\n",
    "    solver = pyomo.SolverFactory('cbc')\n",
    "    solver.solve(model)\n",
    "\n",
    "    print('Optimal Blend')\n",
    "    for c in data.keys():\n",
    "        print('  ', c, ':', model.x[c](), 'gallons')\n",
    "    print()\n",
    "    print('Volume = ', model.vol(), 'gallons')\n",
    "    print('Cost = $', model.cost())\n",
    "\n",
    "beer_blend(vol, abv, data)"
   ],
   "id": "1b6b62041ee8d901",
   "outputs": [
    {
     "name": "stdout",
     "output_type": "stream",
     "text": [
      "Optimal Blend\n",
      "   A : 37.5 gallons\n",
      "   B : 62.5 gallons\n",
      "   W : 0.0 gallons\n",
      "\n",
      "Volume =  100.0 gallons\n",
      "Cost = $ 27.625\n"
     ]
    }
   ],
   "execution_count": 17
  },
  {
   "metadata": {
    "ExecuteTime": {
     "end_time": "2024-11-26T22:03:36.313579Z",
     "start_time": "2024-11-26T22:03:36.307349Z"
    }
   },
   "cell_type": "code",
   "source": "[c for c in data.keys()]",
   "id": "4465136253bbd249",
   "outputs": [
    {
     "data": {
      "text/plain": [
       "['A', 'B', 'W']"
      ]
     },
     "execution_count": 5,
     "metadata": {},
     "output_type": "execute_result"
    }
   ],
   "execution_count": 5
  },
  {
   "metadata": {},
   "cell_type": "code",
   "outputs": [],
   "execution_count": null,
   "source": "",
   "id": "50532a960bef28c0"
  }
 ],
 "metadata": {
  "kernelspec": {
   "display_name": "Python 3",
   "language": "python",
   "name": "python3"
  },
  "language_info": {
   "codemirror_mode": {
    "name": "ipython",
    "version": 2
   },
   "file_extension": ".py",
   "mimetype": "text/x-python",
   "name": "python",
   "nbconvert_exporter": "python",
   "pygments_lexer": "ipython2",
   "version": "2.7.6"
  }
 },
 "nbformat": 4,
 "nbformat_minor": 5
}
