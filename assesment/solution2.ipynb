{
 "cells": [
  {
   "metadata": {},
   "cell_type": "markdown",
   "source": "# Implementing Particle Swarm Optimization For Mock Assessment Solution",
   "id": "33dac816ffba1692"
  },
  {
   "metadata": {
    "ExecuteTime": {
     "end_time": "2025-01-11T00:52:24.231948Z",
     "start_time": "2025-01-11T00:52:22.747079Z"
    }
   },
   "cell_type": "code",
   "source": [
    "from torch.cuda import graph\n",
    "# Installing the necessary requirements\n",
    "!pip install numpy\n",
    "!pip install pandas\n",
    "!pip install matplotlib\n",
    "!pip install networkx"
   ],
   "id": "329c1b385a023822",
   "outputs": [
    {
     "name": "stdout",
     "output_type": "stream",
     "text": [
      "Requirement already satisfied: numpy in /opt/anaconda3/envs/learning/lib/python3.12/site-packages (1.26.4)\r\n",
      "Requirement already satisfied: pandas in /opt/anaconda3/envs/learning/lib/python3.12/site-packages (2.2.2)\r\n",
      "Requirement already satisfied: numpy>=1.26.0 in /opt/anaconda3/envs/learning/lib/python3.12/site-packages (from pandas) (1.26.4)\r\n",
      "Requirement already satisfied: python-dateutil>=2.8.2 in /opt/anaconda3/envs/learning/lib/python3.12/site-packages (from pandas) (2.9.0.post0)\r\n",
      "Requirement already satisfied: pytz>=2020.1 in /opt/anaconda3/envs/learning/lib/python3.12/site-packages (from pandas) (2024.1)\r\n",
      "Requirement already satisfied: tzdata>=2022.7 in /opt/anaconda3/envs/learning/lib/python3.12/site-packages (from pandas) (2023.3)\r\n",
      "Requirement already satisfied: six>=1.5 in /opt/anaconda3/envs/learning/lib/python3.12/site-packages (from python-dateutil>=2.8.2->pandas) (1.16.0)\r\n",
      "Requirement already satisfied: matplotlib in /opt/anaconda3/envs/learning/lib/python3.12/site-packages (3.9.2)\r\n",
      "Requirement already satisfied: contourpy>=1.0.1 in /opt/anaconda3/envs/learning/lib/python3.12/site-packages (from matplotlib) (1.2.0)\r\n",
      "Requirement already satisfied: cycler>=0.10 in /opt/anaconda3/envs/learning/lib/python3.12/site-packages (from matplotlib) (0.11.0)\r\n",
      "Requirement already satisfied: fonttools>=4.22.0 in /opt/anaconda3/envs/learning/lib/python3.12/site-packages (from matplotlib) (4.51.0)\r\n",
      "Requirement already satisfied: kiwisolver>=1.3.1 in /opt/anaconda3/envs/learning/lib/python3.12/site-packages (from matplotlib) (1.4.4)\r\n",
      "Requirement already satisfied: numpy>=1.23 in /opt/anaconda3/envs/learning/lib/python3.12/site-packages (from matplotlib) (1.26.4)\r\n",
      "Requirement already satisfied: packaging>=20.0 in /opt/anaconda3/envs/learning/lib/python3.12/site-packages (from matplotlib) (24.1)\r\n",
      "Requirement already satisfied: pillow>=8 in /opt/anaconda3/envs/learning/lib/python3.12/site-packages (from matplotlib) (11.0.0)\r\n",
      "Requirement already satisfied: pyparsing>=2.3.1 in /opt/anaconda3/envs/learning/lib/python3.12/site-packages (from matplotlib) (3.2.0)\r\n",
      "Requirement already satisfied: python-dateutil>=2.7 in /opt/anaconda3/envs/learning/lib/python3.12/site-packages (from matplotlib) (2.9.0.post0)\r\n",
      "Requirement already satisfied: six>=1.5 in /opt/anaconda3/envs/learning/lib/python3.12/site-packages (from python-dateutil>=2.7->matplotlib) (1.16.0)\r\n",
      "Requirement already satisfied: networkx in /opt/anaconda3/envs/learning/lib/python3.12/site-packages (3.3)\r\n"
     ]
    }
   ],
   "execution_count": 4
  },
  {
   "metadata": {
    "ExecuteTime": {
     "end_time": "2025-01-11T00:55:49.433606Z",
     "start_time": "2025-01-11T00:55:49.317907Z"
    }
   },
   "cell_type": "code",
   "source": [
    "import numpy as np\n",
    "import pandas as pd\n",
    "import matplotlib.pyplot as plt\n",
    "import math\n",
    "import networkx as nx\n",
    "from networkx.classes import neighbors"
   ],
   "id": "7791eb0105df2d10",
   "outputs": [],
   "execution_count": 6
  },
  {
   "metadata": {
    "ExecuteTime": {
     "end_time": "2025-01-11T00:55:50.004456Z",
     "start_time": "2025-01-11T00:55:49.988947Z"
    }
   },
   "cell_type": "code",
   "source": [
    "colnames = ['Node', 'Position1', 'Position2']\n",
    "position_data = pd.read_csv('sub_data_file.csv', header=None, names=colnames, index_col=['Node']) # Reading and assigning the nodes as index, to remove redundancy\n",
    "# Adding the last two base stations to the dataset just incase it's not present in the csv.\n",
    "position_data.loc[151] = [5000, -5000]\n",
    "position_data.loc[152] = [-5000, 5000]\n",
    "position_data.head()"
   ],
   "id": "666628529317aa30",
   "outputs": [
    {
     "data": {
      "text/plain": [
       "      Position1  Position2\n",
       "Node                      \n",
       "1        4873.6     4886.7\n",
       "2       -3295.7    -4330.5\n",
       "3       -2407.1     4397.4\n",
       "4       -1027.0    -4828.9\n",
       "5       -4260.1     1838.4"
      ],
      "text/html": [
       "<div>\n",
       "<style scoped>\n",
       "    .dataframe tbody tr th:only-of-type {\n",
       "        vertical-align: middle;\n",
       "    }\n",
       "\n",
       "    .dataframe tbody tr th {\n",
       "        vertical-align: top;\n",
       "    }\n",
       "\n",
       "    .dataframe thead th {\n",
       "        text-align: right;\n",
       "    }\n",
       "</style>\n",
       "<table border=\"1\" class=\"dataframe\">\n",
       "  <thead>\n",
       "    <tr style=\"text-align: right;\">\n",
       "      <th></th>\n",
       "      <th>Position1</th>\n",
       "      <th>Position2</th>\n",
       "    </tr>\n",
       "    <tr>\n",
       "      <th>Node</th>\n",
       "      <th></th>\n",
       "      <th></th>\n",
       "    </tr>\n",
       "  </thead>\n",
       "  <tbody>\n",
       "    <tr>\n",
       "      <th>1</th>\n",
       "      <td>4873.6</td>\n",
       "      <td>4886.7</td>\n",
       "    </tr>\n",
       "    <tr>\n",
       "      <th>2</th>\n",
       "      <td>-3295.7</td>\n",
       "      <td>-4330.5</td>\n",
       "    </tr>\n",
       "    <tr>\n",
       "      <th>3</th>\n",
       "      <td>-2407.1</td>\n",
       "      <td>4397.4</td>\n",
       "    </tr>\n",
       "    <tr>\n",
       "      <th>4</th>\n",
       "      <td>-1027.0</td>\n",
       "      <td>-4828.9</td>\n",
       "    </tr>\n",
       "    <tr>\n",
       "      <th>5</th>\n",
       "      <td>-4260.1</td>\n",
       "      <td>1838.4</td>\n",
       "    </tr>\n",
       "  </tbody>\n",
       "</table>\n",
       "</div>"
      ]
     },
     "execution_count": 7,
     "metadata": {},
     "output_type": "execute_result"
    }
   ],
   "execution_count": 7
  },
  {
   "metadata": {},
   "cell_type": "markdown",
   "source": "## Plotting The points",
   "id": "6148dc826935ee42"
  },
  {
   "metadata": {
    "ExecuteTime": {
     "end_time": "2025-01-11T00:56:14.970299Z",
     "start_time": "2025-01-11T00:56:14.875401Z"
    }
   },
   "cell_type": "code",
   "source": [
    "coordinate_x = position_data['Position1']\n",
    "coordinate_y = position_data['Position2']\n",
    "\n",
    "# Input Beaulieu and Lyndhurst coordinates\n",
    "beaulie_coordinate = (5000, -5000)\n",
    "lyndhurst_coordinate = (-5000, 5000)\n",
    "\n",
    "plt.figure(figsize = (14, 8))\n",
    "plt.title('Nodes Location')\n",
    "plt.scatter(coordinate_x, coordinate_y)\n",
    "plt.scatter(beaulie_coordinate[0], beaulie_coordinate[1], label='Beaulie', color='orange', marker='*')\n",
    "plt.scatter(lyndhurst_coordinate[0], lyndhurst_coordinate[1], label='Lyndhurst', color='orange', marker='*')\n",
    "plt.legend(loc='upper right')\n",
    "plt.show()"
   ],
   "id": "f89d46db751840bf",
   "outputs": [
    {
     "data": {
      "text/plain": [
       "<Figure size 1400x800 with 1 Axes>"
      ],
      "image/png": "[encoded data removed]"
     },
     "metadata": {},
     "output_type": "display_data"
    }
   ],
   "execution_count": 8
  },
  {
   "metadata": {},
   "cell_type": "markdown",
   "source": "> We are Going to create a function to get the particle to reach a destination vertex either 151, or 152.",
   "id": "c2170c0128fe1773"
  },
  {
   "metadata": {
    "ExecuteTime": {
     "end_time": "2025-01-11T00:56:16.696924Z",
     "start_time": "2025-01-11T00:56:16.391163Z"
    }
   },
   "cell_type": "code",
   "source": [
    "def calculate_distance(x1, x2, y1, y2):\n",
    "    return np.sqrt((x1 - x2) ** 2 + (y1 - y2) ** 2)\n",
    "distances = [] # List for appending in dataframe\n",
    "for i in range(len(position_data)):\n",
    "    for j in range(i + 1, len(position_data)):\n",
    "        id1 = position_data.index[i]\n",
    "        id2 = position_data.index[j]\n",
    "        x1, y1 = position_data.iloc[i]['Position1'], position_data.iloc[i]['Position2']\n",
    "        x2, y2 = position_data.iloc[j]['Position1'], position_data.iloc[j]['Position2']\n",
    "        distance = calculate_distance(x1, x2, y1, y2)\n",
    "        distances.append({\"point1\": id1, \"point2\": id2, \"distance\": distance})\n",
    "\n",
    "distance_df = pd.DataFrame(distances)\n",
    "print(f'There are total of {len(distance_df)} points.')\n",
    "distance_df.loc[(distance_df['point1'] == 1)& (distance_df['point2'] == 141)]"
   ],
   "id": "64286aa6ae1d2d8e",
   "outputs": [
    {
     "name": "stdout",
     "output_type": "stream",
     "text": [
      "There are total of 11476 points.\n"
     ]
    },
    {
     "data": {
      "text/plain": [
       "     point1  point2     distance\n",
       "139       1     141  7623.831483"
      ],
      "text/html": [
       "<div>\n",
       "<style scoped>\n",
       "    .dataframe tbody tr th:only-of-type {\n",
       "        vertical-align: middle;\n",
       "    }\n",
       "\n",
       "    .dataframe tbody tr th {\n",
       "        vertical-align: top;\n",
       "    }\n",
       "\n",
       "    .dataframe thead th {\n",
       "        text-align: right;\n",
       "    }\n",
       "</style>\n",
       "<table border=\"1\" class=\"dataframe\">\n",
       "  <thead>\n",
       "    <tr style=\"text-align: right;\">\n",
       "      <th></th>\n",
       "      <th>point1</th>\n",
       "      <th>point2</th>\n",
       "      <th>distance</th>\n",
       "    </tr>\n",
       "  </thead>\n",
       "  <tbody>\n",
       "    <tr>\n",
       "      <th>139</th>\n",
       "      <td>1</td>\n",
       "      <td>141</td>\n",
       "      <td>7623.831483</td>\n",
       "    </tr>\n",
       "  </tbody>\n",
       "</table>\n",
       "</div>"
      ]
     },
     "execution_count": 9,
     "metadata": {},
     "output_type": "execute_result"
    }
   ],
   "execution_count": 9
  },
  {
   "metadata": {
    "ExecuteTime": {
     "end_time": "2025-01-11T00:56:19.150918Z",
     "start_time": "2025-01-11T00:56:19.141487Z"
    }
   },
   "cell_type": "code",
   "source": [
    "bins = [0, 500, 1000, 1500, 2000, 2500, 3000, float('inf')]\n",
    "labels = [7,5,4,3,2,1,0]\n",
    "distance_df['transmission'] = pd.cut(distance_df['distance'], bins=bins, labels=labels, right=False)\n",
    "distance_df.drop(distance_df.index[distance_df['transmission'] == 0], inplace=True)\n",
    "distance_df.head()"
   ],
   "id": "9a6efc3f0b2c52ec",
   "outputs": [
    {
     "data": {
      "text/plain": [
       "    point1  point2     distance transmission\n",
       "6        1       8  1034.795366            4\n",
       "18       1      20  1552.523752            3\n",
       "38       1      40  2232.795239            2\n",
       "40       1      42  2475.977770            2\n",
       "53       1      55  2932.511040            1"
      ],
      "text/html": [
       "<div>\n",
       "<style scoped>\n",
       "    .dataframe tbody tr th:only-of-type {\n",
       "        vertical-align: middle;\n",
       "    }\n",
       "\n",
       "    .dataframe tbody tr th {\n",
       "        vertical-align: top;\n",
       "    }\n",
       "\n",
       "    .dataframe thead th {\n",
       "        text-align: right;\n",
       "    }\n",
       "</style>\n",
       "<table border=\"1\" class=\"dataframe\">\n",
       "  <thead>\n",
       "    <tr style=\"text-align: right;\">\n",
       "      <th></th>\n",
       "      <th>point1</th>\n",
       "      <th>point2</th>\n",
       "      <th>distance</th>\n",
       "      <th>transmission</th>\n",
       "    </tr>\n",
       "  </thead>\n",
       "  <tbody>\n",
       "    <tr>\n",
       "      <th>6</th>\n",
       "      <td>1</td>\n",
       "      <td>8</td>\n",
       "      <td>1034.795366</td>\n",
       "      <td>4</td>\n",
       "    </tr>\n",
       "    <tr>\n",
       "      <th>18</th>\n",
       "      <td>1</td>\n",
       "      <td>20</td>\n",
       "      <td>1552.523752</td>\n",
       "      <td>3</td>\n",
       "    </tr>\n",
       "    <tr>\n",
       "      <th>38</th>\n",
       "      <td>1</td>\n",
       "      <td>40</td>\n",
       "      <td>2232.795239</td>\n",
       "      <td>2</td>\n",
       "    </tr>\n",
       "    <tr>\n",
       "      <th>40</th>\n",
       "      <td>1</td>\n",
       "      <td>42</td>\n",
       "      <td>2475.977770</td>\n",
       "      <td>2</td>\n",
       "    </tr>\n",
       "    <tr>\n",
       "      <th>53</th>\n",
       "      <td>1</td>\n",
       "      <td>55</td>\n",
       "      <td>2932.511040</td>\n",
       "      <td>1</td>\n",
       "    </tr>\n",
       "  </tbody>\n",
       "</table>\n",
       "</div>"
      ]
     },
     "execution_count": 10,
     "metadata": {},
     "output_type": "execute_result"
    }
   ],
   "execution_count": 10
  },
  {
   "metadata": {
    "ExecuteTime": {
     "end_time": "2025-01-11T00:56:19.600759Z",
     "start_time": "2025-01-11T00:56:19.571399Z"
    }
   },
   "cell_type": "code",
   "source": [
    "# Adding the graph data type for simplicity.\n",
    "G = nx.Graph()\n",
    "for _, row in distance_df.iterrows():\n",
    "    G.add_edge(row['point1'], row['point2'], weight=row['transmission'])\n"
   ],
   "id": "f883445c049415e0",
   "outputs": [],
   "execution_count": 11
  },
  {
   "metadata": {
    "ExecuteTime": {
     "end_time": "2025-01-11T00:56:20.666988Z",
     "start_time": "2025-01-11T00:56:20.659529Z"
    }
   },
   "cell_type": "code",
   "source": "print(f\"Graph edges with weights: {list(G.edges(data=True))}\")",
   "id": "2edfe6abb88eb558",
   "outputs": [
    {
     "name": "stdout",
     "output_type": "stream",
     "text": [
      "Graph edges with weights: [(1.0, 8.0, {'weight': 4.0}), (1.0, 20.0, {'weight': 3.0}), (1.0, 40.0, {'weight': 2.0}), (1.0, 42.0, {'weight': 2.0}), (1.0, 55.0, {'weight': 1.0}), (1.0, 76.0, {'weight': 4.0}), (1.0, 86.0, {'weight': 1.0}), (1.0, 93.0, {'weight': 3.0}), (1.0, 94.0, {'weight': 2.0}), (1.0, 100.0, {'weight': 4.0}), (1.0, 114.0, {'weight': 4.0}), (1.0, 127.0, {'weight': 1.0}), (1.0, 133.0, {'weight': 1.0}), (1.0, 146.0, {'weight': 3.0}), (1.0, 150.0, {'weight': 1.0}), (8.0, 20.0, {'weight': 3.0}), (8.0, 40.0, {'weight': 2.0}), (8.0, 42.0, {'weight': 1.0}), (8.0, 55.0, {'weight': 1.0}), (8.0, 76.0, {'weight': 5.0}), (8.0, 86.0, {'weight': 1.0}), (8.0, 93.0, {'weight': 2.0}), (8.0, 94.0, {'weight': 4.0}), (8.0, 100.0, {'weight': 4.0}), (8.0, 114.0, {'weight': 3.0}), (8.0, 127.0, {'weight': 1.0}), (8.0, 133.0, {'weight': 3.0}), (8.0, 136.0, {'weight': 1.0}), (8.0, 146.0, {'weight': 7.0}), (8.0, 150.0, {'weight': 3.0}), (20.0, 6.0, {'weight': 2.0}), (20.0, 17.0, {'weight': 3.0}), (20.0, 21.0, {'weight': 2.0}), (20.0, 40.0, {'weight': 5.0}), (20.0, 42.0, {'weight': 5.0}), (20.0, 55.0, {'weight': 4.0}), (20.0, 76.0, {'weight': 4.0}), (20.0, 86.0, {'weight': 4.0}), (20.0, 93.0, {'weight': 7.0}), (20.0, 94.0, {'weight': 3.0}), (20.0, 96.0, {'weight': 2.0}), (20.0, 100.0, {'weight': 5.0}), (20.0, 114.0, {'weight': 7.0}), (20.0, 127.0, {'weight': 4.0}), (20.0, 133.0, {'weight': 1.0}), (20.0, 146.0, {'weight': 2.0}), (20.0, 150.0, {'weight': 3.0}), (40.0, 6.0, {'weight': 2.0}), (40.0, 17.0, {'weight': 5.0}), (40.0, 21.0, {'weight': 3.0}), (40.0, 42.0, {'weight': 7.0}), (40.0, 54.0, {'weight': 1.0}), (40.0, 55.0, {'weight': 5.0}), (40.0, 76.0, {'weight': 3.0}), (40.0, 86.0, {'weight': 4.0}), (40.0, 93.0, {'weight': 7.0}), (40.0, 94.0, {'weight': 2.0}), (40.0, 96.0, {'weight': 3.0}), (40.0, 100.0, {'weight': 4.0}), (40.0, 114.0, {'weight': 5.0}), (40.0, 127.0, {'weight': 5.0}), (40.0, 146.0, {'weight': 1.0}), (40.0, 150.0, {'weight': 3.0}), (42.0, 6.0, {'weight': 3.0}), (42.0, 17.0, {'weight': 5.0}), (42.0, 21.0, {'weight': 4.0}), (42.0, 52.0, {'weight': 1.0}), (42.0, 54.0, {'weight': 1.0}), (42.0, 55.0, {'weight': 5.0}), (42.0, 59.0, {'weight': 1.0}), (42.0, 76.0, {'weight': 3.0}), (42.0, 86.0, {'weight': 5.0}), (42.0, 93.0, {'weight': 5.0}), (42.0, 94.0, {'weight': 3.0}), (42.0, 96.0, {'weight': 4.0}), (42.0, 100.0, {'weight': 4.0}), (42.0, 101.0, {'weight': 1.0}), (42.0, 106.0, {'weight': 1.0}), (42.0, 114.0, {'weight': 4.0}), (42.0, 127.0, {'weight': 7.0}), (42.0, 146.0, {'weight': 1.0}), (42.0, 150.0, {'weight': 3.0}), (55.0, 6.0, {'weight': 4.0}), (55.0, 17.0, {'weight': 7.0}), (55.0, 21.0, {'weight': 4.0}), (55.0, 24.0, {'weight': 1.0}), (55.0, 52.0, {'weight': 2.0}), (55.0, 54.0, {'weight': 2.0}), (55.0, 59.0, {'weight': 2.0}), (55.0, 76.0, {'weight': 2.0}), (55.0, 86.0, {'weight': 7.0}), (55.0, 87.0, {'weight': 1.0}), (55.0, 93.0, {'weight': 4.0}), (55.0, 94.0, {'weight': 3.0}), (55.0, 96.0, {'weight': 5.0}), (55.0, 100.0, {'weight': 3.0}), (55.0, 101.0, {'weight': 2.0}), (55.0, 106.0, {'weight': 2.0}), (55.0, 114.0, {'weight': 3.0}), (55.0, 127.0, {'weight': 7.0}), (55.0, 133.0, {'weight': 1.0}), (55.0, 136.0, {'weight': 1.0}), (55.0, 146.0, {'weight': 1.0}), (55.0, 150.0, {'weight': 3.0}), (76.0, 6.0, {'weight': 1.0}), (76.0, 17.0, {'weight': 2.0}), (76.0, 86.0, {'weight': 2.0}), (76.0, 93.0, {'weight': 3.0}), (76.0, 94.0, {'weight': 4.0}), (76.0, 96.0, {'weight': 1.0}), (76.0, 100.0, {'weight': 5.0}), (76.0, 114.0, {'weight': 4.0}), (76.0, 127.0, {'weight': 2.0}), (76.0, 133.0, {'weight': 3.0}), (76.0, 134.0, {'weight': 1.0}), (76.0, 136.0, {'weight': 1.0}), (76.0, 146.0, {'weight': 5.0}), (76.0, 150.0, {'weight': 4.0}), (86.0, 6.0, {'weight': 4.0}), (86.0, 10.0, {'weight': 1.0}), (86.0, 17.0, {'weight': 7.0}), (86.0, 21.0, {'weight': 4.0}), (86.0, 24.0, {'weight': 1.0}), (86.0, 52.0, {'weight': 2.0}), (86.0, 54.0, {'weight': 2.0}), (86.0, 59.0, {'weight': 2.0}), (86.0, 87.0, {'weight': 1.0}), (86.0, 93.0, {'weight': 4.0}), (86.0, 94.0, {'weight': 3.0}), (86.0, 96.0, {'weight': 5.0}), (86.0, 100.0, {'weight': 3.0}), (86.0, 101.0, {'weight': 2.0}), (86.0, 106.0, {'weight': 2.0}), (86.0, 114.0, {'weight': 4.0}), (86.0, 127.0, {'weight': 7.0}), (86.0, 133.0, {'weight': 1.0}), (86.0, 134.0, {'weight': 1.0}), (86.0, 136.0, {'weight': 1.0}), (86.0, 146.0, {'weight': 1.0}), (86.0, 150.0, {'weight': 4.0}), (93.0, 6.0, {'weight': 2.0}), (93.0, 17.0, {'weight': 4.0}), (93.0, 21.0, {'weight': 3.0}), (93.0, 94.0, {'weight': 3.0}), (93.0, 96.0, {'weight': 3.0}), (93.0, 100.0, {'weight': 4.0}), (93.0, 114.0, {'weight': 5.0}), (93.0, 127.0, {'weight': 5.0}), (93.0, 146.0, {'weight': 1.0}), (93.0, 150.0, {'weight': 3.0}), (94.0, 6.0, {'weight': 3.0}), (94.0, 10.0, {'weight': 1.0}), (94.0, 17.0, {'weight': 2.0}), (94.0, 21.0, {'weight': 1.0}), (94.0, 36.0, {'weight': 1.0}), (94.0, 52.0, {'weight': 2.0}), (94.0, 59.0, {'weight': 2.0}), (94.0, 87.0, {'weight': 1.0}), (94.0, 96.0, {'weight': 2.0}), (94.0, 100.0, {'weight': 4.0}), (94.0, 101.0, {'weight': 2.0}), (94.0, 106.0, {'weight': 1.0}), (94.0, 114.0, {'weight': 3.0}), (94.0, 115.0, {'weight': 1.0}), (94.0, 127.0, {'weight': 3.0}), (94.0, 133.0, {'weight': 4.0}), (94.0, 134.0, {'weight': 3.0}), (94.0, 135.0, {'weight': 2.0}), (94.0, 136.0, {'weight': 3.0}), (94.0, 146.0, {'weight': 4.0}), (94.0, 150.0, {'weight': 5.0}), (100.0, 6.0, {'weight': 2.0}), (100.0, 17.0, {'weight': 3.0}), (100.0, 21.0, {'weight': 1.0}), (100.0, 59.0, {'weight': 1.0}), (100.0, 96.0, {'weight': 2.0}), (100.0, 114.0, {'weight': 5.0}), (100.0, 127.0, {'weight': 4.0}), (100.0, 133.0, {'weight': 2.0}), (100.0, 136.0, {'weight': 1.0}), (100.0, 146.0, {'weight': 4.0}), (100.0, 150.0, {'weight': 4.0}), (114.0, 6.0, {'weight': 1.0}), (114.0, 17.0, {'weight': 3.0}), (114.0, 21.0, {'weight': 2.0}), (114.0, 96.0, {'weight': 2.0}), (114.0, 127.0, {'weight': 4.0}), (114.0, 133.0, {'weight': 1.0}), (114.0, 146.0, {'weight': 2.0}), (114.0, 150.0, {'weight': 3.0}), (127.0, 6.0, {'weight': 3.0}), (127.0, 17.0, {'weight': 7.0}), (127.0, 21.0, {'weight': 4.0}), (127.0, 52.0, {'weight': 1.0}), (127.0, 54.0, {'weight': 2.0}), (127.0, 59.0, {'weight': 1.0}), (127.0, 96.0, {'weight': 4.0}), (127.0, 101.0, {'weight': 1.0}), (127.0, 106.0, {'weight': 1.0}), (127.0, 146.0, {'weight': 1.0}), (127.0, 150.0, {'weight': 3.0}), (133.0, 6.0, {'weight': 2.0}), (133.0, 36.0, {'weight': 4.0}), (133.0, 37.0, {'weight': 2.0}), (133.0, 52.0, {'weight': 2.0}), (133.0, 59.0, {'weight': 2.0}), (133.0, 74.0, {'weight': 2.0}), (133.0, 87.0, {'weight': 1.0}), (133.0, 92.0, {'weight': 1.0}), (133.0, 101.0, {'weight': 1.0}), (133.0, 115.0, {'weight': 2.0}), (133.0, 120.0, {'weight': 1.0}), (133.0, 134.0, {'weight': 4.0}), (133.0, 135.0, {'weight': 2.0}), (133.0, 136.0, {'weight': 4.0}), (133.0, 146.0, {'weight': 4.0}), (133.0, 150.0, {'weight': 4.0}), (146.0, 36.0, {'weight': 1.0}), (146.0, 134.0, {'weight': 1.0}), (146.0, 136.0, {'weight': 2.0}), (146.0, 150.0, {'weight': 3.0}), (150.0, 6.0, {'weight': 4.0}), (150.0, 10.0, {'weight': 1.0}), (150.0, 17.0, {'weight': 3.0}), (150.0, 21.0, {'weight': 2.0}), (150.0, 35.0, {'weight': 1.0}), (150.0, 36.0, {'weight': 1.0}), (150.0, 52.0, {'weight': 3.0}), (150.0, 54.0, {'weight': 1.0}), (150.0, 59.0, {'weight': 3.0}), (150.0, 87.0, {'weight': 2.0}), (150.0, 96.0, {'weight': 3.0}), (150.0, 101.0, {'weight': 3.0}), (150.0, 106.0, {'weight': 2.0}), (150.0, 115.0, {'weight': 1.0}), (150.0, 134.0, {'weight': 3.0}), (150.0, 135.0, {'weight': 2.0}), (150.0, 136.0, {'weight': 4.0}), (2.0, 4.0, {'weight': 2.0}), (2.0, 11.0, {'weight': 5.0}), (2.0, 12.0, {'weight': 1.0}), (2.0, 13.0, {'weight': 4.0}), (2.0, 38.0, {'weight': 1.0}), (2.0, 47.0, {'weight': 3.0}), (2.0, 48.0, {'weight': 5.0}), (2.0, 67.0, {'weight': 1.0}), (2.0, 71.0, {'weight': 3.0}), (2.0, 75.0, {'weight': 4.0}), (2.0, 82.0, {'weight': 4.0}), (2.0, 83.0, {'weight': 1.0}), (2.0, 88.0, {'weight': 1.0}), (2.0, 128.0, {'weight': 3.0}), (2.0, 132.0, {'weight': 2.0}), (2.0, 137.0, {'weight': 2.0}), (2.0, 147.0, {'weight': 3.0}), (4.0, 11.0, {'weight': 1.0}), (4.0, 12.0, {'weight': 2.0}), (4.0, 13.0, {'weight': 1.0}), (4.0, 27.0, {'weight': 1.0}), (4.0, 38.0, {'weight': 5.0}), (4.0, 47.0, {'weight': 1.0}), (4.0, 66.0, {'weight': 1.0}), (4.0, 67.0, {'weight': 3.0}), (4.0, 73.0, {'weight': 1.0}), (4.0, 75.0, {'weight': 1.0}), (4.0, 78.0, {'weight': 3.0}), (4.0, 82.0, {'weight': 2.0}), (4.0, 88.0, {'weight': 5.0}), (4.0, 105.0, {'weight': 1.0}), (4.0, 128.0, {'weight': 5.0}), (4.0, 137.0, {'weight': 7.0}), (4.0, 140.0, {'weight': 1.0}), (4.0, 143.0, {'weight': 1.0}), (11.0, 12.0, {'weight': 2.0}), (11.0, 13.0, {'weight': 7.0}), (11.0, 18.0, {'weight': 1.0}), (11.0, 31.0, {'weight': 1.0}), (11.0, 47.0, {'weight': 5.0}), (11.0, 48.0, {'weight': 5.0}), (11.0, 67.0, {'weight': 2.0}), (11.0, 71.0, {'weight': 4.0}), (11.0, 75.0, {'weight': 5.0}), (11.0, 82.0, {'weight': 5.0}), (11.0, 83.0, {'weight': 2.0}), (11.0, 88.0, {'weight': 1.0}), (11.0, 109.0, {'weight': 1.0}), (11.0, 128.0, {'weight': 2.0}), (11.0, 132.0, {'weight': 3.0}), (11.0, 137.0, {'weight': 2.0}), (11.0, 147.0, {'weight': 4.0}), (11.0, 149.0, {'weight': 2.0}), (12.0, 13.0, {'weight': 2.0}), (12.0, 18.0, {'weight': 3.0}), (12.0, 19.0, {'weight': 2.0}), (12.0, 25.0, {'weight': 4.0}), (12.0, 27.0, {'weight': 3.0}), (12.0, 38.0, {'weight': 3.0}), (12.0, 46.0, {'weight': 2.0}), (12.0, 47.0, {'weight': 3.0}), (12.0, 48.0, {'weight': 1.0}), (12.0, 58.0, {'weight': 2.0}), (12.0, 64.0, {'weight': 1.0}), (12.0, 66.0, {'weight': 3.0}), (12.0, 67.0, {'weight': 7.0}), (12.0, 73.0, {'weight': 1.0}), (12.0, 75.0, {'weight': 2.0}), (12.0, 78.0, {'weight': 1.0}), (12.0, 82.0, {'weight': 3.0}), (12.0, 88.0, {'weight': 4.0}), (12.0, 89.0, {'weight': 3.0}), (12.0, 91.0, {'weight': 1.0}), (12.0, 95.0, {'weight': 1.0}), (12.0, 98.0, {'weight': 3.0}), (12.0, 105.0, {'weight': 1.0}), (12.0, 116.0, {'weight': 2.0}), (12.0, 124.0, {'weight': 1.0}), (12.0, 128.0, {'weight': 3.0}), (12.0, 131.0, {'weight': 1.0}), (12.0, 137.0, {'weight': 3.0}), (12.0, 138.0, {'weight': 1.0}), (12.0, 140.0, {'weight': 4.0}), (12.0, 143.0, {'weight': 5.0}), (13.0, 18.0, {'weight': 2.0}), (13.0, 31.0, {'weight': 2.0}), (13.0, 47.0, {'weight': 5.0}), (13.0, 48.0, {'weight': 5.0}), (13.0, 67.0, {'weight': 2.0}), (13.0, 71.0, {'weight': 3.0}), (13.0, 75.0, {'weight': 7.0}), (13.0, 82.0, {'weight': 5.0}), (13.0, 83.0, {'weight': 3.0}), (13.0, 88.0, {'weight': 1.0}), (13.0, 109.0, {'weight': 1.0}), (13.0, 128.0, {'weight': 2.0}), (13.0, 132.0, {'weight': 4.0}), (13.0, 137.0, {'weight': 1.0}), (13.0, 147.0, {'weight': 4.0}), (13.0, 149.0, {'weight': 3.0}), (38.0, 25.0, {'weight': 1.0}), (38.0, 27.0, {'weight': 3.0}), (38.0, 47.0, {'weight': 1.0}), (38.0, 66.0, {'weight': 3.0}), (38.0, 67.0, {'weight': 4.0}), (38.0, 73.0, {'weight': 3.0}), (38.0, 78.0, {'weight': 4.0}), (38.0, 82.0, {'weight': 2.0}), (38.0, 88.0, {'weight': 7.0}), (38.0, 105.0, {'weight': 3.0}), (38.0, 116.0, {'weight': 1.0}), (38.0, 128.0, {'weight': 4.0}), (38.0, 131.0, {'weight': 1.0}), (38.0, 137.0, {'weight': 5.0}), (38.0, 140.0, {'weight': 3.0}), (38.0, 143.0, {'weight': 3.0}), (47.0, 18.0, {'weight': 3.0}), (47.0, 25.0, {'weight': 2.0}), (47.0, 31.0, {'weight': 2.0}), (47.0, 48.0, {'weight': 4.0}), (47.0, 67.0, {'weight': 3.0}), (47.0, 71.0, {'weight': 2.0}), (47.0, 75.0, {'weight': 5.0}), (47.0, 82.0, {'weight': 7.0}), (47.0, 83.0, {'weight': 3.0}), (47.0, 88.0, {'weight': 2.0}), (47.0, 89.0, {'weight': 2.0}), (47.0, 98.0, {'weight': 1.0}), (47.0, 109.0, {'weight': 1.0}), (47.0, 121.0, {'weight': 1.0}), (47.0, 128.0, {'weight': 2.0}), (47.0, 132.0, {'weight': 3.0}), (47.0, 137.0, {'weight': 2.0}), (47.0, 143.0, {'weight': 2.0}), (47.0, 147.0, {'weight': 3.0}), (47.0, 149.0, {'weight': 3.0}), (48.0, 31.0, {'weight': 1.0}), (48.0, 71.0, {'weight': 5.0}), (48.0, 75.0, {'weight': 5.0}), (48.0, 82.0, {'weight': 4.0}), (48.0, 83.0, {'weight': 2.0}), (48.0, 109.0, {'weight': 1.0}), (48.0, 128.0, {'weight': 1.0}), (48.0, 132.0, {'weight': 4.0}), (48.0, 137.0, {'weight': 1.0}), (48.0, 147.0, {'weight': 5.0}), (48.0, 149.0, {'weight': 2.0}), (67.0, 18.0, {'weight': 2.0}), (67.0, 19.0, {'weight': 1.0}), (67.0, 25.0, {'weight': 3.0}), (67.0, 27.0, {'weight': 3.0}), (67.0, 46.0, {'weight': 2.0}), (67.0, 58.0, {'weight': 2.0}), (67.0, 66.0, {'weight': 3.0}), (67.0, 73.0, {'weight': 1.0}), (67.0, 75.0, {'weight': 2.0}), (67.0, 78.0, {'weight': 2.0}), (67.0, 82.0, {'weight': 3.0}), (67.0, 88.0, {'weight': 5.0}), (67.0, 89.0, {'weight': 2.0}), (67.0, 98.0, {'weight': 2.0}), (67.0, 105.0, {'weight': 1.0}), (67.0, 116.0, {'weight': 2.0}), (67.0, 124.0, {'weight': 1.0}), (67.0, 128.0, {'weight': 3.0}), (67.0, 131.0, {'weight': 1.0}), (67.0, 137.0, {'weight': 4.0}), (67.0, 138.0, {'weight': 1.0}), (67.0, 140.0, {'weight': 4.0}), (67.0, 143.0, {'weight': 4.0}), (71.0, 75.0, {'weight': 3.0}), (71.0, 82.0, {'weight': 2.0}), (71.0, 83.0, {'weight': 2.0}), (71.0, 109.0, {'weight': 1.0}), (71.0, 132.0, {'weight': 4.0}), (71.0, 147.0, {'weight': 7.0}), (71.0, 149.0, {'weight': 1.0}), (75.0, 18.0, {'weight': 2.0}), (75.0, 25.0, {'weight': 1.0}), (75.0, 31.0, {'weight': 2.0}), (75.0, 82.0, {'weight': 5.0}), (75.0, 83.0, {'weight': 3.0}), (75.0, 88.0, {'weight': 1.0}), (75.0, 109.0, {'weight': 2.0}), (75.0, 128.0, {'weight': 2.0}), (75.0, 132.0, {'weight': 4.0}), (75.0, 137.0, {'weight': 1.0}), (75.0, 147.0, {'weight': 4.0}), (75.0, 149.0, {'weight': 3.0}), (82.0, 18.0, {'weight': 3.0}), (82.0, 25.0, {'weight': 1.0}), (82.0, 31.0, {'weight': 1.0}), (82.0, 83.0, {'weight': 2.0}), (82.0, 88.0, {'weight': 2.0}), (82.0, 89.0, {'weight': 1.0}), (82.0, 109.0, {'weight': 1.0}), (82.0, 128.0, {'weight': 3.0}), (82.0, 132.0, {'weight': 2.0}), (82.0, 137.0, {'weight': 2.0}), (82.0, 143.0, {'weight': 2.0}), (82.0, 147.0, {'weight': 2.0}), (82.0, 149.0, {'weight': 2.0}), (83.0, 18.0, {'weight': 2.0}), (83.0, 31.0, {'weight': 5.0}), (83.0, 32.0, {'weight': 1.0}), (83.0, 109.0, {'weight': 5.0}), (83.0, 121.0, {'weight': 2.0}), (83.0, 132.0, {'weight': 4.0}), (83.0, 147.0, {'weight': 2.0}), (83.0, 149.0, {'weight': 7.0}), (88.0, 18.0, {'weight': 1.0}), (88.0, 25.0, {'weight': 2.0}), (88.0, 27.0, {'weight': 2.0}), (88.0, 66.0, {'weight': 3.0}), (88.0, 73.0, {'weight': 2.0}), (88.0, 78.0, {'weight': 3.0}), (88.0, 89.0, {'weight': 1.0}), (88.0, 98.0, {'weight': 1.0}), (88.0, 105.0, {'weight': 2.0}), (88.0, 116.0, {'weight': 1.0}), (88.0, 128.0, {'weight': 4.0}), (88.0, 131.0, {'weight': 1.0}), (88.0, 137.0, {'weight': 5.0}), (88.0, 140.0, {'weight': 3.0}), (88.0, 143.0, {'weight': 3.0}), (128.0, 66.0, {'weight': 1.0}), (128.0, 78.0, {'weight': 2.0}), (128.0, 137.0, {'weight': 7.0}), (128.0, 140.0, {'weight': 1.0}), (128.0, 143.0, {'weight': 1.0}), (132.0, 18.0, {'weight': 1.0}), (132.0, 31.0, {'weight': 2.0}), (132.0, 109.0, {'weight': 3.0}), (132.0, 147.0, {'weight': 5.0}), (132.0, 149.0, {'weight': 3.0}), (137.0, 25.0, {'weight': 1.0}), (137.0, 27.0, {'weight': 1.0}), (137.0, 66.0, {'weight': 2.0}), (137.0, 73.0, {'weight': 1.0}), (137.0, 78.0, {'weight': 3.0}), (137.0, 105.0, {'weight': 1.0}), (137.0, 140.0, {'weight': 2.0}), (137.0, 143.0, {'weight': 2.0}), (147.0, 31.0, {'weight': 1.0}), (147.0, 109.0, {'weight': 1.0}), (147.0, 149.0, {'weight': 2.0}), (3.0, 9.0, {'weight': 4.0}), (3.0, 22.0, {'weight': 1.0}), (3.0, 23.0, {'weight': 5.0}), (3.0, 24.0, {'weight': 1.0}), (3.0, 26.0, {'weight': 1.0}), (3.0, 33.0, {'weight': 3.0}), (3.0, 39.0, {'weight': 2.0}), (3.0, 44.0, {'weight': 3.0}), (3.0, 50.0, {'weight': 2.0}), (3.0, 51.0, {'weight': 3.0}), (3.0, 54.0, {'weight': 1.0}), (3.0, 56.0, {'weight': 2.0}), (3.0, 68.0, {'weight': 3.0}), (3.0, 69.0, {'weight': 3.0}), (3.0, 70.0, {'weight': 7.0}), (3.0, 80.0, {'weight': 3.0}), (3.0, 99.0, {'weight': 3.0}), (3.0, 104.0, {'weight': 7.0}), (3.0, 108.0, {'weight': 3.0}), (3.0, 110.0, {'weight': 2.0}), (3.0, 111.0, {'weight': 4.0}), (3.0, 119.0, {'weight': 3.0}), (3.0, 122.0, {'weight': 1.0}), (3.0, 123.0, {'weight': 3.0}), (3.0, 125.0, {'weight': 4.0}), (3.0, 126.0, {'weight': 1.0}), (3.0, 141.0, {'weight': 2.0}), (3.0, 142.0, {'weight': 5.0}), (3.0, 144.0, {'weight': 2.0}), (3.0, 152.0, {'weight': 1.0}), (9.0, 16.0, {'weight': 1.0}), (9.0, 17.0, {'weight': 1.0}), (9.0, 21.0, {'weight': 2.0}), (9.0, 22.0, {'weight': 2.0}), (9.0, 23.0, {'weight': 4.0}), (9.0, 24.0, {'weight': 4.0}), (9.0, 26.0, {'weight': 2.0}), (9.0, 29.0, {'weight': 2.0}), (9.0, 33.0, {'weight': 3.0}), (9.0, 39.0, {'weight': 2.0}), (9.0, 44.0, {'weight': 1.0}), (9.0, 50.0, {'weight': 1.0}), (9.0, 51.0, {'weight': 1.0}), (9.0, 54.0, {'weight': 4.0}), (9.0, 56.0, {'weight': 1.0}), (9.0, 65.0, {'weight': 1.0}), (9.0, 68.0, {'weight': 5.0}), (9.0, 69.0, {'weight': 1.0}), (9.0, 70.0, {'weight': 4.0}), (9.0, 80.0, {'weight': 3.0}), (9.0, 96.0, {'weight': 2.0}), (9.0, 101.0, {'weight': 1.0}), (9.0, 102.0, {'weight': 1.0}), (9.0, 104.0, {'weight': 3.0}), (9.0, 106.0, {'weight': 1.0}), (9.0, 107.0, {'weight': 1.0}), (9.0, 108.0, {'weight': 1.0}), (9.0, 110.0, {'weight': 3.0}), (9.0, 111.0, {'weight': 2.0}), (9.0, 119.0, {'weight': 3.0}), (9.0, 122.0, {'weight': 2.0}), (9.0, 125.0, {'weight': 2.0}), (9.0, 130.0, {'weight': 2.0}), (9.0, 141.0, {'weight': 2.0}), (9.0, 142.0, {'weight': 3.0}), (9.0, 144.0, {'weight': 2.0}), (22.0, 5.0, {'weight': 1.0}), (22.0, 7.0, {'weight': 3.0}), (22.0, 10.0, {'weight': 1.0}), (22.0, 16.0, {'weight': 5.0}), (22.0, 24.0, {'weight': 4.0}), (22.0, 26.0, {'weight': 7.0}), (22.0, 29.0, {'weight': 5.0}), (22.0, 30.0, {'weight': 3.0}), (22.0, 33.0, {'weight': 5.0}), (22.0, 34.0, {'weight': 5.0}), (22.0, 39.0, {'weight': 4.0}), (22.0, 46.0, {'weight': 1.0}), (22.0, 50.0, {'weight': 3.0}), (22.0, 51.0, {'weight': 2.0}), (22.0, 54.0, {'weight': 2.0}), (22.0, 56.0, {'weight': 2.0}), (22.0, 63.0, {'weight': 2.0}), (22.0, 64.0, {'weight': 1.0}), (22.0, 65.0, {'weight': 5.0}), (22.0, 68.0, {'weight': 3.0}), (22.0, 69.0, {'weight': 3.0}), (22.0, 70.0, {'weight': 1.0}), (22.0, 79.0, {'weight': 3.0}), (22.0, 80.0, {'weight': 4.0}), (22.0, 89.0, {'weight': 1.0}), (22.0, 91.0, {'weight': 3.0}), (22.0, 95.0, {'weight': 1.0}), (22.0, 101.0, {'weight': 1.0}), (22.0, 102.0, {'weight': 5.0}), (22.0, 104.0, {'weight': 1.0}), (22.0, 106.0, {'weight': 1.0}), (22.0, 107.0, {'weight': 5.0}), (22.0, 108.0, {'weight': 2.0}), (22.0, 110.0, {'weight': 4.0}), (22.0, 111.0, {'weight': 2.0}), (22.0, 113.0, {'weight': 4.0}), (22.0, 117.0, {'weight': 3.0}), (22.0, 119.0, {'weight': 4.0}), (22.0, 121.0, {'weight': 2.0}), (22.0, 122.0, {'weight': 7.0}), (22.0, 125.0, {'weight': 2.0}), (22.0, 126.0, {'weight': 1.0}), (22.0, 130.0, {'weight': 5.0}), (22.0, 141.0, {'weight': 5.0}), (22.0, 142.0, {'weight': 3.0}), (22.0, 144.0, {'weight': 4.0}), (22.0, 148.0, {'weight': 2.0}), (23.0, 24.0, {'weight': 1.0}), (23.0, 33.0, {'weight': 2.0}), (23.0, 39.0, {'weight': 1.0}), (23.0, 44.0, {'weight': 2.0}), (23.0, 50.0, {'weight': 1.0}), (23.0, 51.0, {'weight': 2.0}), (23.0, 54.0, {'weight': 1.0}), (23.0, 56.0, {'weight': 1.0}), (23.0, 68.0, {'weight': 3.0}), (23.0, 69.0, {'weight': 1.0}), (23.0, 70.0, {'weight': 5.0}), (23.0, 80.0, {'weight': 2.0}), (23.0, 99.0, {'weight': 2.0}), (23.0, 104.0, {'weight': 5.0}), (23.0, 108.0, {'weight': 2.0}), (23.0, 110.0, {'weight': 1.0}), (23.0, 111.0, {'weight': 3.0}), (23.0, 119.0, {'weight': 2.0}), (23.0, 122.0, {'weight': 1.0}), (23.0, 123.0, {'weight': 2.0}), (23.0, 125.0, {'weight': 3.0}), (23.0, 141.0, {'weight': 1.0}), (23.0, 142.0, {'weight': 4.0}), (23.0, 144.0, {'weight': 1.0}), (23.0, 152.0, {'weight': 1.0}), (24.0, 6.0, {'weight': 2.0}), (24.0, 7.0, {'weight': 2.0}), (24.0, 10.0, {'weight': 2.0}), (24.0, 16.0, {'weight': 3.0}), (24.0, 17.0, {'weight': 1.0}), (24.0, 21.0, {'weight': 2.0}), (24.0, 26.0, {'weight': 4.0}), (24.0, 29.0, {'weight': 5.0}), (24.0, 30.0, {'weight': 2.0}), (24.0, 33.0, {'weight': 3.0}), (24.0, 34.0, {'weight': 2.0}), (24.0, 35.0, {'weight': 1.0}), (24.0, 39.0, {'weight': 2.0}), (24.0, 50.0, {'weight': 1.0}), (24.0, 51.0, {'weight': 1.0}), (24.0, 52.0, {'weight': 2.0}), (24.0, 54.0, {'weight': 5.0}), (24.0, 59.0, {'weight': 2.0}), (24.0, 64.0, {'weight': 1.0}), (24.0, 65.0, {'weight': 3.0}), (24.0, 68.0, {'weight': 5.0}), (24.0, 69.0, {'weight': 1.0}), (24.0, 70.0, {'weight': 1.0}), (24.0, 79.0, {'weight': 2.0}), (24.0, 80.0, {'weight': 3.0}), (24.0, 87.0, {'weight': 2.0}), (24.0, 91.0, {'weight': 1.0}), (24.0, 95.0, {'weight': 1.0}), (24.0, 96.0, {'weight': 2.0}), (24.0, 101.0, {'weight': 3.0}), (24.0, 102.0, {'weight': 3.0}), (24.0, 104.0, {'weight': 1.0}), (24.0, 106.0, {'weight': 3.0}), (24.0, 107.0, {'weight': 4.0}), (24.0, 110.0, {'weight': 7.0}), (24.0, 111.0, {'weight': 1.0}), (24.0, 113.0, {'weight': 2.0}), (24.0, 119.0, {'weight': 3.0}), (24.0, 122.0, {'weight': 4.0}), (24.0, 125.0, {'weight': 1.0}), (24.0, 130.0, {'weight': 4.0}), (24.0, 141.0, {'weight': 3.0}), (24.0, 142.0, {'weight': 2.0}), (24.0, 144.0, {'weight': 2.0}), (24.0, 148.0, {'weight': 3.0}), (26.0, 5.0, {'weight': 1.0}), (26.0, 7.0, {'weight': 4.0}), (26.0, 10.0, {'weight': 1.0}), (26.0, 16.0, {'weight': 7.0}), (26.0, 29.0, {'weight': 5.0}), (26.0, 30.0, {'weight': 3.0}), (26.0, 33.0, {'weight': 4.0}), (26.0, 34.0, {'weight': 5.0}), (26.0, 39.0, {'weight': 4.0}), (26.0, 46.0, {'weight': 1.0}), (26.0, 50.0, {'weight': 3.0}), (26.0, 51.0, {'weight': 2.0}), (26.0, 54.0, {'weight': 2.0}), (26.0, 56.0, {'weight': 2.0}), (26.0, 63.0, {'weight': 2.0}), (26.0, 64.0, {'weight': 2.0}), (26.0, 65.0, {'weight': 5.0}), (26.0, 68.0, {'weight': 3.0}), (26.0, 69.0, {'weight': 2.0}), (26.0, 70.0, {'weight': 1.0}), (26.0, 79.0, {'weight': 4.0}), (26.0, 80.0, {'weight': 3.0}), (26.0, 87.0, {'weight': 1.0}), (26.0, 89.0, {'weight': 1.0}), (26.0, 91.0, {'weight': 3.0}), (26.0, 95.0, {'weight': 2.0}), (26.0, 98.0, {'weight': 1.0}), (26.0, 101.0, {'weight': 1.0}), (26.0, 102.0, {'weight': 7.0}), (26.0, 106.0, {'weight': 1.0}), (26.0, 107.0, {'weight': 7.0}), (26.0, 108.0, {'weight': 1.0}), (26.0, 110.0, {'weight': 4.0}), (26.0, 111.0, {'weight': 2.0}), (26.0, 113.0, {'weight': 4.0}), (26.0, 117.0, {'weight': 3.0}), (26.0, 119.0, {'weight': 4.0}), (26.0, 121.0, {'weight': 2.0}), (26.0, 122.0, {'weight': 7.0}), (26.0, 125.0, {'weight': 1.0}), (26.0, 130.0, {'weight': 7.0}), (26.0, 141.0, {'weight': 5.0}), (26.0, 142.0, {'weight': 2.0}), (26.0, 144.0, {'weight': 4.0}), (26.0, 148.0, {'weight': 3.0}), (33.0, 5.0, {'weight': 2.0}), (33.0, 7.0, {'weight': 2.0}), (33.0, 16.0, {'weight': 4.0}), (33.0, 29.0, {'weight': 3.0}), (33.0, 30.0, {'weight': 1.0}), (33.0, 34.0, {'weight': 3.0}), (33.0, 39.0, {'weight': 5.0}), (33.0, 44.0, {'weight': 2.0}), (33.0, 50.0, {'weight': 4.0}), (33.0, 51.0, {'weight': 4.0}), (33.0, 54.0, {'weight': 2.0}), (33.0, 56.0, {'weight': 4.0}), (33.0, 60.0, {'weight': 1.0}), (33.0, 63.0, {'weight': 3.0}), (33.0, 65.0, {'weight': 4.0}), (33.0, 68.0, {'weight': 4.0}), (33.0, 69.0, {'weight': 4.0}), (33.0, 70.0, {'weight': 3.0}), (33.0, 79.0, {'weight': 2.0}), (33.0, 80.0, {'weight': 7.0}), (33.0, 91.0, {'weight': 1.0}), (33.0, 99.0, {'weight': 1.0}), (33.0, 102.0, {'weight': 4.0}), (33.0, 104.0, {'weight': 3.0}), (33.0, 107.0, {'weight': 4.0}), (33.0, 108.0, {'weight': 3.0}), (33.0, 110.0, {'weight': 4.0}), (33.0, 111.0, {'weight': 4.0}), (33.0, 113.0, {'weight': 2.0}), (33.0, 117.0, {'weight': 3.0}), (33.0, 119.0, {'weight': 7.0}), (33.0, 121.0, {'weight': 1.0}), (33.0, 122.0, {'weight': 5.0}), (33.0, 125.0, {'weight': 4.0}), (33.0, 126.0, {'weight': 2.0}), (33.0, 130.0, {'weight': 4.0}), (33.0, 141.0, {'weight': 7.0}), (33.0, 142.0, {'weight': 4.0}), (33.0, 144.0, {'weight': 5.0}), (33.0, 148.0, {'weight': 1.0}), (39.0, 5.0, {'weight': 3.0}), (39.0, 7.0, {'weight': 2.0}), (39.0, 16.0, {'weight': 3.0}), (39.0, 29.0, {'weight': 3.0}), (39.0, 30.0, {'weight': 1.0}), (39.0, 32.0, {'weight': 2.0}), (39.0, 34.0, {'weight': 3.0}), (39.0, 44.0, {'weight': 2.0}), (39.0, 50.0, {'weight': 5.0}), (39.0, 51.0, {'weight': 4.0}), (39.0, 56.0, {'weight': 4.0}), (39.0, 60.0, {'weight': 2.0}), (39.0, 63.0, {'weight': 4.0}), (39.0, 65.0, {'weight': 4.0}), (39.0, 68.0, {'weight': 2.0}), (39.0, 69.0, {'weight': 5.0}), (39.0, 70.0, {'weight': 2.0}), (39.0, 79.0, {'weight': 1.0}), (39.0, 80.0, {'weight': 5.0}), (39.0, 91.0, {'weight': 2.0}), (39.0, 99.0, {'weight': 1.0}), (39.0, 102.0, {'weight': 3.0}), (39.0, 104.0, {'weight': 2.0}), (39.0, 107.0, {'weight': 3.0}), (39.0, 108.0, {'weight': 3.0}), (39.0, 110.0, {'weight': 3.0}), (39.0, 111.0, {'weight': 4.0}), (39.0, 113.0, {'weight': 2.0}), (39.0, 117.0, {'weight': 4.0}), (39.0, 119.0, {'weight': 7.0}), (39.0, 121.0, {'weight': 2.0}), (39.0, 122.0, {'weight': 4.0}), (39.0, 123.0, {'weight': 1.0}), (39.0, 125.0, {'weight': 4.0}), (39.0, 126.0, {'weight': 3.0}), (39.0, 130.0, {'weight': 3.0}), (39.0, 141.0, {'weight': 7.0}), (39.0, 142.0, {'weight': 4.0}), (39.0, 144.0, {'weight': 7.0}), (44.0, 5.0, {'weight': 2.0}), (44.0, 32.0, {'weight': 1.0}), (44.0, 50.0, {'weight': 3.0}), (44.0, 51.0, {'weight': 4.0}), (44.0, 56.0, {'weight': 4.0}), (44.0, 60.0, {'weight': 3.0}), (44.0, 63.0, {'weight': 2.0}), (44.0, 69.0, {'weight': 4.0}), (44.0, 70.0, {'weight': 3.0}), (44.0, 80.0, {'weight': 3.0}), (44.0, 99.0, {'weight': 5.0}), (44.0, 104.0, {'weight': 4.0}), (44.0, 108.0, {'weight': 5.0}), (44.0, 111.0, {'weight': 5.0}), (44.0, 117.0, {'weight': 1.0}), (44.0, 119.0, {'weight': 2.0}), (44.0, 123.0, {'weight': 5.0}), (44.0, 125.0, {'weight': 5.0}), (44.0, 126.0, {'weight': 3.0}), (44.0, 141.0, {'weight': 2.0}), (44.0, 142.0, {'weight': 4.0}), (44.0, 144.0, {'weight': 3.0}), (44.0, 152.0, {'weight': 3.0}), (50.0, 5.0, {'weight': 4.0}), (50.0, 7.0, {'weight': 1.0}), (50.0, 16.0, {'weight': 2.0}), (50.0, 29.0, {'weight': 1.0}), (50.0, 32.0, {'weight': 3.0}), (50.0, 34.0, {'weight': 2.0}), (50.0, 51.0, {'weight': 5.0}), (50.0, 56.0, {'weight': 5.0}), (50.0, 60.0, {'weight': 4.0}), (50.0, 63.0, {'weight': 5.0}), (50.0, 65.0, {'weight': 3.0}), (50.0, 68.0, {'weight': 1.0}), (50.0, 69.0, {'weight': 7.0}), (50.0, 70.0, {'weight': 2.0}), (50.0, 80.0, {'weight': 5.0}), (50.0, 91.0, {'weight': 1.0}), (50.0, 99.0, {'weight': 2.0}), (50.0, 102.0, {'weight': 2.0}), (50.0, 104.0, {'weight': 2.0}), (50.0, 107.0, {'weight': 2.0}), (50.0, 108.0, {'weight': 4.0}), (50.0, 110.0, {'weight': 2.0}), (50.0, 111.0, {'weight': 4.0}), (50.0, 113.0, {'weight': 1.0}), (50.0, 117.0, {'weight': 4.0}), (50.0, 119.0, {'weight': 5.0}), (50.0, 121.0, {'weight': 2.0}), (50.0, 122.0, {'weight': 2.0}), (50.0, 123.0, {'weight': 1.0}), (50.0, 125.0, {'weight': 4.0}), (50.0, 126.0, {'weight': 4.0}), (50.0, 130.0, {'weight': 2.0}), (50.0, 141.0, {'weight': 4.0}), (50.0, 142.0, {'weight': 4.0}), (50.0, 144.0, {'weight': 5.0}), (51.0, 5.0, {'weight': 4.0}), (51.0, 16.0, {'weight': 1.0}), (51.0, 29.0, {'weight': 1.0}), (51.0, 32.0, {'weight': 2.0}), (51.0, 34.0, {'weight': 1.0}), (51.0, 56.0, {'weight': 7.0}), (51.0, 60.0, {'weight': 4.0}), (51.0, 63.0, {'weight': 4.0}), (51.0, 65.0, {'weight': 2.0}), (51.0, 68.0, {'weight': 1.0}), (51.0, 69.0, {'weight': 7.0}), (51.0, 70.0, {'weight': 3.0}), (51.0, 80.0, {'weight': 5.0}), (51.0, 99.0, {'weight': 3.0}), (51.0, 102.0, {'weight': 1.0}), (51.0, 104.0, {'weight': 3.0}), (51.0, 107.0, {'weight': 1.0}), (51.0, 108.0, {'weight': 5.0}), (51.0, 110.0, {'weight': 1.0}), (51.0, 111.0, {'weight': 5.0}), (51.0, 117.0, {'weight': 3.0}), (51.0, 119.0, {'weight': 4.0}), (51.0, 121.0, {'weight': 1.0}), (51.0, 122.0, {'weight': 2.0}), (51.0, 123.0, {'weight': 2.0}), (51.0, 125.0, {'weight': 5.0}), (51.0, 126.0, {'weight': 4.0}), (51.0, 130.0, {'weight': 1.0}), (51.0, 141.0, {'weight': 4.0}), (51.0, 142.0, {'weight': 4.0}), (51.0, 144.0, {'weight': 5.0}), (51.0, 152.0, {'weight': 1.0}), (54.0, 6.0, {'weight': 3.0}), (54.0, 10.0, {'weight': 2.0}), (54.0, 16.0, {'weight': 1.0}), (54.0, 17.0, {'weight': 3.0}), (54.0, 21.0, {'weight': 4.0}), (54.0, 29.0, {'weight': 3.0}), (54.0, 52.0, {'weight': 2.0}), (54.0, 59.0, {'weight': 2.0}), (54.0, 65.0, {'weight': 1.0}), (54.0, 68.0, {'weight': 4.0}), (54.0, 70.0, {'weight': 1.0}), (54.0, 79.0, {'weight': 1.0}), (54.0, 80.0, {'weight': 1.0}), (54.0, 87.0, {'weight': 2.0}), (54.0, 96.0, {'weight': 4.0}), (54.0, 101.0, {'weight': 3.0}), (54.0, 102.0, {'weight': 1.0}), (54.0, 106.0, {'weight': 4.0}), (54.0, 107.0, {'weight': 2.0}), (54.0, 110.0, {'weight': 4.0}), (54.0, 119.0, {'weight': 1.0}), (54.0, 122.0, {'weight': 2.0}), (54.0, 130.0, {'weight': 2.0}), (54.0, 141.0, {'weight': 1.0}), (54.0, 142.0, {'weight': 1.0}), (54.0, 148.0, {'weight': 1.0}), (56.0, 5.0, {'weight': 4.0}), (56.0, 16.0, {'weight': 1.0}), (56.0, 29.0, {'weight': 1.0}), (56.0, 32.0, {'weight': 2.0}), (56.0, 34.0, {'weight': 2.0}), (56.0, 60.0, {'weight': 4.0}), (56.0, 63.0, {'weight': 4.0}), (56.0, 65.0, {'weight': 2.0}), (56.0, 68.0, {'weight': 1.0}), (56.0, 69.0, {'weight': 7.0}), (56.0, 70.0, {'weight': 3.0}), (56.0, 80.0, {'weight': 4.0}), (56.0, 99.0, {'weight': 3.0}), (56.0, 102.0, {'weight': 1.0}), (56.0, 104.0, {'weight': 3.0}), (56.0, 107.0, {'weight': 1.0}), (56.0, 108.0, {'weight': 5.0}), (56.0, 110.0, {'weight': 1.0}), (56.0, 111.0, {'weight': 5.0}), (56.0, 117.0, {'weight': 3.0}), (56.0, 119.0, {'weight': 4.0}), (56.0, 121.0, {'weight': 1.0}), (56.0, 122.0, {'weight': 2.0}), (56.0, 123.0, {'weight': 2.0}), (56.0, 125.0, {'weight': 5.0}), (56.0, 126.0, {'weight': 4.0}), (56.0, 130.0, {'weight': 1.0}), (56.0, 141.0, {'weight': 4.0}), (56.0, 142.0, {'weight': 4.0}), (56.0, 144.0, {'weight': 5.0}), (56.0, 152.0, {'weight': 1.0}), (68.0, 6.0, {'weight': 1.0}), (68.0, 7.0, {'weight': 1.0}), (68.0, 10.0, {'weight': 1.0}), (68.0, 16.0, {'weight': 2.0}), (68.0, 17.0, {'weight': 1.0}), (68.0, 21.0, {'weight': 2.0}), (68.0, 29.0, {'weight': 4.0}), (68.0, 34.0, {'weight': 1.0}), (68.0, 52.0, {'weight': 1.0}), (68.0, 59.0, {'weight': 1.0}), (68.0, 65.0, {'weight': 2.0}), (68.0, 69.0, {'weight': 2.0}), (68.0, 70.0, {'weight': 3.0}), (68.0, 79.0, {'weight': 1.0}), (68.0, 80.0, {'weight': 3.0}), (68.0, 96.0, {'weight': 2.0}), (68.0, 101.0, {'weight': 2.0}), (68.0, 102.0, {'weight': 2.0}), (68.0, 104.0, {'weight': 2.0}), (68.0, 106.0, {'weight': 2.0}), (68.0, 107.0, {'weight': 3.0}), (68.0, 108.0, {'weight': 1.0}), (68.0, 110.0, {'weight': 5.0}), (68.0, 111.0, {'weight': 2.0}), (68.0, 113.0, {'weight': 1.0}), (68.0, 119.0, {'weight': 3.0}), (68.0, 122.0, {'weight': 4.0}), (68.0, 125.0, {'weight': 2.0}), (68.0, 130.0, {'weight': 3.0}), (68.0, 141.0, {'weight': 3.0}), (68.0, 142.0, {'weight': 3.0}), (68.0, 144.0, {'weight': 2.0}), (68.0, 148.0, {'weight': 1.0}), (69.0, 5.0, {'weight': 4.0}), (69.0, 16.0, {'weight': 2.0}), (69.0, 29.0, {'weight': 1.0}), (69.0, 32.0, {'weight': 2.0}), (69.0, 34.0, {'weight': 2.0}), (69.0, 60.0, {'weight': 3.0}), (69.0, 63.0, {'weight': 4.0}), (69.0, 65.0, {'weight': 2.0}), (69.0, 70.0, {'weight': 3.0}), (69.0, 80.0, {'weight': 5.0}), (69.0, 91.0, {'weight': 1.0}), (69.0, 99.0, {'weight': 2.0}), (69.0, 102.0, {'weight': 2.0}), (69.0, 104.0, {'weight': 3.0}), (69.0, 107.0, {'weight': 2.0}), (69.0, 108.0, {'weight': 5.0}), (69.0, 110.0, {'weight': 2.0}), (69.0, 111.0, {'weight': 5.0}), (69.0, 113.0, {'weight': 1.0}), (69.0, 117.0, {'weight': 4.0}), (69.0, 119.0, {'weight': 5.0}), (69.0, 121.0, {'weight': 1.0}), (69.0, 122.0, {'weight': 2.0}), (69.0, 123.0, {'weight': 2.0}), (69.0, 125.0, {'weight': 5.0}), (69.0, 126.0, {'weight': 4.0}), (69.0, 130.0, {'weight': 2.0}), (69.0, 141.0, {'weight': 4.0}), (69.0, 142.0, {'weight': 4.0}), (69.0, 144.0, {'weight': 5.0}), (69.0, 152.0, {'weight': 1.0}), (70.0, 63.0, {'weight': 1.0}), (70.0, 80.0, {'weight': 3.0}), (70.0, 99.0, {'weight': 3.0}), (70.0, 104.0, {'weight': 7.0}), (70.0, 108.0, {'weight': 3.0}), (70.0, 110.0, {'weight': 2.0}), (70.0, 111.0, {'weight': 4.0}), (70.0, 119.0, {'weight': 3.0}), (70.0, 122.0, {'weight': 1.0}), (70.0, 123.0, {'weight': 3.0}), (70.0, 125.0, {'weight': 4.0}), (70.0, 126.0, {'weight': 1.0}), (70.0, 141.0, {'weight': 2.0}), (70.0, 142.0, {'weight': 5.0}), (70.0, 144.0, {'weight': 2.0}), (70.0, 152.0, {'weight': 1.0}), (80.0, 5.0, {'weight': 2.0}), (80.0, 7.0, {'weight': 1.0}), (80.0, 16.0, {'weight': 3.0}), (80.0, 29.0, {'weight': 3.0}), (80.0, 32.0, {'weight': 1.0}), (80.0, 34.0, {'weight': 3.0}), (80.0, 60.0, {'weight': 2.0}), (80.0, 63.0, {'weight': 3.0}), (80.0, 65.0, {'weight': 3.0}), (80.0, 79.0, {'weight': 1.0}), (80.0, 91.0, {'weight': 1.0}), (80.0, 99.0, {'weight': 1.0}), (80.0, 102.0, {'weight': 3.0}), (80.0, 104.0, {'weight': 3.0}), (80.0, 107.0, {'weight': 3.0}), (80.0, 108.0, {'weight': 4.0}), (80.0, 110.0, {'weight': 3.0}), (80.0, 111.0, {'weight': 5.0}), (80.0, 113.0, {'weight': 2.0}), (80.0, 117.0, {'weight': 3.0}), (80.0, 119.0, {'weight': 7.0}), (80.0, 121.0, {'weight': 1.0}), (80.0, 122.0, {'weight': 4.0}), (80.0, 123.0, {'weight': 1.0}), (80.0, 125.0, {'weight': 5.0}), (80.0, 126.0, {'weight': 2.0}), (80.0, 130.0, {'weight': 3.0}), (80.0, 141.0, {'weight': 5.0}), (80.0, 142.0, {'weight': 5.0}), (80.0, 144.0, {'weight': 5.0}), (99.0, 5.0, {'weight': 2.0}), (99.0, 60.0, {'weight': 3.0}), (99.0, 63.0, {'weight': 1.0}), (99.0, 104.0, {'weight': 3.0}), (99.0, 108.0, {'weight': 4.0}), (99.0, 111.0, {'weight': 3.0}), (99.0, 119.0, {'weight': 1.0}), (99.0, 123.0, {'weight': 5.0}), (99.0, 125.0, {'weight': 3.0}), (99.0, 126.0, {'weight': 3.0}), (99.0, 142.0, {'weight': 2.0}), (99.0, 144.0, {'weight': 1.0}), (99.0, 152.0, {'weight': 5.0}), (104.0, 5.0, {'weight': 1.0}), (104.0, 60.0, {'weight': 1.0}), (104.0, 63.0, {'weight': 1.0}), (104.0, 108.0, {'weight': 4.0}), (104.0, 110.0, {'weight': 1.0}), (104.0, 111.0, {'weight': 4.0}), (104.0, 119.0, {'weight': 3.0}), (104.0, 122.0, {'weight': 1.0}), (104.0, 123.0, {'weight': 4.0}), (104.0, 125.0, {'weight': 4.0}), (104.0, 126.0, {'weight': 1.0}), (104.0, 141.0, {'weight': 2.0}), (104.0, 142.0, {'weight': 5.0}), (104.0, 144.0, {'weight': 2.0}), (104.0, 152.0, {'weight': 2.0}), (108.0, 5.0, {'weight': 3.0}), (108.0, 32.0, {'weight': 1.0}), (108.0, 60.0, {'weight': 4.0}), (108.0, 63.0, {'weight': 3.0}), (108.0, 65.0, {'weight': 1.0}), (108.0, 110.0, {'weight': 1.0}), (108.0, 111.0, {'weight': 7.0}), (108.0, 117.0, {'weight': 2.0}), (108.0, 119.0, {'weight': 4.0}), (108.0, 122.0, {'weight': 1.0}), (108.0, 123.0, {'weight': 4.0}), (108.0, 125.0, {'weight': 7.0}), (108.0, 126.0, {'weight': 4.0}), (108.0, 130.0, {'weight': 1.0}), (108.0, 141.0, {'weight': 3.0}), (108.0, 142.0, {'weight': 4.0}), (108.0, 144.0, {'weight': 4.0}), (108.0, 152.0, {'weight': 2.0}), (110.0, 6.0, {'weight': 1.0}), (110.0, 7.0, {'weight': 2.0}), (110.0, 10.0, {'weight': 2.0}), (110.0, 16.0, {'weight': 4.0}), (110.0, 21.0, {'weight': 1.0}), (110.0, 29.0, {'weight': 5.0}), (110.0, 30.0, {'weight': 2.0}), (110.0, 34.0, {'weight': 3.0}), (110.0, 52.0, {'weight': 1.0}), (110.0, 59.0, {'weight': 1.0}), (110.0, 64.0, {'weight': 1.0}), (110.0, 65.0, {'weight': 3.0}), (110.0, 79.0, {'weight': 3.0}), (110.0, 87.0, {'weight': 1.0}), (110.0, 91.0, {'weight': 1.0}), (110.0, 95.0, {'weight': 1.0}), (110.0, 96.0, {'weight': 1.0}), (110.0, 101.0, {'weight': 2.0}), (110.0, 102.0, {'weight': 4.0}), (110.0, 106.0, {'weight': 3.0}), (110.0, 107.0, {'weight': 4.0}), (110.0, 111.0, {'weight': 1.0}), (110.0, 113.0, {'weight': 2.0}), (110.0, 117.0, {'weight': 1.0}), (110.0, 119.0, {'weight': 3.0}), (110.0, 122.0, {'weight': 5.0}), (110.0, 125.0, {'weight': 1.0}), (110.0, 130.0, {'weight': 5.0}), (110.0, 141.0, {'weight': 4.0}), (110.0, 142.0, {'weight': 2.0}), (110.0, 144.0, {'weight': 3.0}), (110.0, 148.0, {'weight': 3.0}), (111.0, 5.0, {'weight': 3.0}), (111.0, 16.0, {'weight': 1.0}), (111.0, 29.0, {'weight': 1.0}), (111.0, 32.0, {'weight': 1.0}), (111.0, 34.0, {'weight': 1.0}), (111.0, 60.0, {'weight': 3.0}), (111.0, 63.0, {'weight': 3.0}), (111.0, 65.0, {'weight': 1.0}), (111.0, 102.0, {'weight': 1.0}), (111.0, 107.0, {'weight': 1.0}), (111.0, 117.0, {'weight': 2.0}), (111.0, 119.0, {'weight': 4.0}), (111.0, 122.0, {'weight': 2.0}), (111.0, 123.0, {'weight': 3.0}), (111.0, 125.0, {'weight': 7.0}), (111.0, 126.0, {'weight': 3.0}), (111.0, 130.0, {'weight': 1.0}), (111.0, 141.0, {'weight': 3.0}), (111.0, 142.0, {'weight': 5.0}), (111.0, 144.0, {'weight': 4.0}), (111.0, 152.0, {'weight': 2.0}), (119.0, 5.0, {'weight': 2.0}), (119.0, 7.0, {'weight': 1.0}), (119.0, 16.0, {'weight': 3.0}), (119.0, 29.0, {'weight': 3.0}), (119.0, 30.0, {'weight': 1.0}), (119.0, 32.0, {'weight': 1.0}), (119.0, 34.0, {'weight': 3.0}), (119.0, 60.0, {'weight': 2.0}), (119.0, 63.0, {'weight': 3.0}), (119.0, 65.0, {'weight': 4.0}), (119.0, 79.0, {'weight': 1.0}), (119.0, 91.0, {'weight': 1.0}), (119.0, 102.0, {'weight': 3.0}), (119.0, 107.0, {'weight': 3.0}), (119.0, 113.0, {'weight': 2.0}), (119.0, 117.0, {'weight': 3.0}), (119.0, 121.0, {'weight': 1.0}), (119.0, 122.0, {'weight': 4.0}), (119.0, 123.0, {'weight': 1.0}), (119.0, 125.0, {'weight': 4.0}), (119.0, 126.0, {'weight': 2.0}), (119.0, 130.0, {'weight': 3.0}), (119.0, 141.0, {'weight': 7.0}), (119.0, 142.0, {'weight': 4.0}), (119.0, 144.0, {'weight': 7.0}), (122.0, 7.0, {'weight': 3.0}), (122.0, 10.0, {'weight': 1.0}), (122.0, 16.0, {'weight': 5.0}), (122.0, 29.0, {'weight': 5.0}), (122.0, 30.0, {'weight': 3.0}), (122.0, 34.0, {'weight': 4.0}), (122.0, 46.0, {'weight': 1.0}), (122.0, 52.0, {'weight': 1.0}), (122.0, 63.0, {'weight': 1.0}), (122.0, 64.0, {'weight': 1.0}), (122.0, 65.0, {'weight': 5.0}), (122.0, 79.0, {'weight': 3.0}), (122.0, 87.0, {'weight': 1.0}), (122.0, 91.0, {'weight': 2.0}), (122.0, 95.0, {'weight': 2.0}), (122.0, 101.0, {'weight': 1.0}), (122.0, 102.0, {'weight': 5.0}), (122.0, 106.0, {'weight': 2.0}), (122.0, 107.0, {'weight': 5.0}), (122.0, 113.0, {'weight': 4.0}), (122.0, 117.0, {'weight': 2.0}), (122.0, 121.0, {'weight': 1.0}), (122.0, 125.0, {'weight': 2.0}), (122.0, 130.0, {'weight': 7.0}), (122.0, 141.0, {'weight': 5.0}), (122.0, 142.0, {'weight': 2.0}), (122.0, 144.0, {'weight': 3.0}), (122.0, 148.0, {'weight': 3.0}), (123.0, 5.0, {'weight': 1.0}), (123.0, 60.0, {'weight': 2.0}), (123.0, 125.0, {'weight': 3.0}), (123.0, 126.0, {'weight': 2.0}), (123.0, 142.0, {'weight': 3.0}), (123.0, 144.0, {'weight': 1.0}), (123.0, 152.0, {'weight': 5.0}), (125.0, 5.0, {'weight': 3.0}), (125.0, 16.0, {'weight': 1.0}), (125.0, 29.0, {'weight': 1.0}), (125.0, 32.0, {'weight': 1.0}), (125.0, 34.0, {'weight': 1.0}), (125.0, 60.0, {'weight': 3.0}), (125.0, 63.0, {'weight': 3.0}), (125.0, 65.0, {'weight': 1.0}), (125.0, 102.0, {'weight': 1.0}), (125.0, 107.0, {'weight': 1.0}), (125.0, 117.0, {'weight': 2.0}), (125.0, 126.0, {'weight': 3.0}), (125.0, 130.0, {'weight': 1.0}), (125.0, 141.0, {'weight': 3.0}), (125.0, 142.0, {'weight': 5.0}), (125.0, 144.0, {'weight': 4.0}), (125.0, 152.0, {'weight': 2.0}), (126.0, 5.0, {'weight': 5.0}), (126.0, 32.0, {'weight': 4.0}), (126.0, 60.0, {'weight': 7.0}), (126.0, 63.0, {'weight': 4.0}), (126.0, 117.0, {'weight': 3.0}), (126.0, 141.0, {'weight': 2.0}), (126.0, 142.0, {'weight': 2.0}), (126.0, 144.0, {'weight': 3.0}), (126.0, 152.0, {'weight': 1.0}), (141.0, 5.0, {'weight': 2.0}), (141.0, 7.0, {'weight': 2.0}), (141.0, 16.0, {'weight': 4.0}), (141.0, 29.0, {'weight': 3.0}), (141.0, 30.0, {'weight': 2.0}), (141.0, 32.0, {'weight': 1.0}), (141.0, 34.0, {'weight': 4.0}), (141.0, 60.0, {'weight': 2.0}), (141.0, 63.0, {'weight': 3.0}), (141.0, 65.0, {'weight': 4.0}), (141.0, 79.0, {'weight': 2.0}), (141.0, 91.0, {'weight': 2.0}), (141.0, 102.0, {'weight': 4.0}), (141.0, 107.0, {'weight': 4.0}), (141.0, 113.0, {'weight': 3.0}), (141.0, 117.0, {'weight': 4.0}), (141.0, 121.0, {'weight': 2.0}), (141.0, 130.0, {'weight': 4.0}), (141.0, 142.0, {'weight': 4.0}), (141.0, 144.0, {'weight': 5.0}), (141.0, 148.0, {'weight': 1.0}), (142.0, 5.0, {'weight': 2.0}), (142.0, 16.0, {'weight': 1.0}), (142.0, 29.0, {'weight': 2.0}), (142.0, 34.0, {'weight': 1.0}), (142.0, 60.0, {'weight': 2.0}), (142.0, 63.0, {'weight': 2.0}), (142.0, 65.0, {'weight': 2.0}), (142.0, 102.0, {'weight': 1.0}), (142.0, 107.0, {'weight': 1.0}), (142.0, 117.0, {'weight': 2.0}), (142.0, 130.0, {'weight': 2.0}), (142.0, 144.0, {'weight': 4.0}), (142.0, 152.0, {'weight': 1.0}), (144.0, 5.0, {'weight': 3.0}), (144.0, 7.0, {'weight': 1.0}), (144.0, 16.0, {'weight': 3.0}), (144.0, 29.0, {'weight': 2.0}), (144.0, 30.0, {'weight': 1.0}), (144.0, 32.0, {'weight': 2.0}), (144.0, 34.0, {'weight': 3.0}), (144.0, 60.0, {'weight': 3.0}), (144.0, 63.0, {'weight': 4.0}), (144.0, 65.0, {'weight': 4.0}), (144.0, 79.0, {'weight': 1.0}), (144.0, 91.0, {'weight': 2.0}), (144.0, 102.0, {'weight': 3.0}), (144.0, 107.0, {'weight': 3.0}), (144.0, 113.0, {'weight': 2.0}), (144.0, 117.0, {'weight': 4.0}), (144.0, 121.0, {'weight': 2.0}), (144.0, 130.0, {'weight': 3.0}), (152.0, 60.0, {'weight': 1.0}), (27.0, 14.0, {'weight': 1.0}), (27.0, 18.0, {'weight': 1.0}), (27.0, 19.0, {'weight': 3.0}), (27.0, 25.0, {'weight': 3.0}), (27.0, 28.0, {'weight': 3.0}), (27.0, 41.0, {'weight': 2.0}), (27.0, 43.0, {'weight': 2.0}), (27.0, 45.0, {'weight': 2.0}), (27.0, 46.0, {'weight': 3.0}), (27.0, 49.0, {'weight': 1.0}), (27.0, 58.0, {'weight': 4.0}), (27.0, 61.0, {'weight': 1.0}), (27.0, 62.0, {'weight': 3.0}), (27.0, 64.0, {'weight': 2.0}), (27.0, 66.0, {'weight': 7.0}), (27.0, 73.0, {'weight': 3.0}), (27.0, 77.0, {'weight': 1.0}), (27.0, 78.0, {'weight': 2.0}), (27.0, 81.0, {'weight': 2.0}), (27.0, 84.0, {'weight': 2.0}), (27.0, 85.0, {'weight': 1.0}), (27.0, 89.0, {'weight': 2.0}), (27.0, 95.0, {'weight': 2.0}), (27.0, 98.0, {'weight': 3.0}), (27.0, 105.0, {'weight': 3.0}), (27.0, 112.0, {'weight': 3.0}), (27.0, 116.0, {'weight': 5.0}), (27.0, 124.0, {'weight': 4.0}), (27.0, 129.0, {'weight': 3.0}), (27.0, 131.0, {'weight': 5.0}), (27.0, 138.0, {'weight': 4.0}), (27.0, 139.0, {'weight': 2.0}), (27.0, 140.0, {'weight': 7.0}), (27.0, 143.0, {'weight': 4.0}), (27.0, 145.0, {'weight': 1.0}), (66.0, 14.0, {'weight': 1.0}), (66.0, 18.0, {'weight': 1.0}), (66.0, 19.0, {'weight': 3.0}), (66.0, 25.0, {'weight': 3.0}), (66.0, 28.0, {'weight': 2.0}), (66.0, 41.0, {'weight': 2.0}), (66.0, 43.0, {'weight': 2.0}), (66.0, 45.0, {'weight': 1.0}), (66.0, 46.0, {'weight': 3.0}), (66.0, 49.0, {'weight': 1.0}), (66.0, 58.0, {'weight': 4.0}), (66.0, 61.0, {'weight': 1.0}), (66.0, 62.0, {'weight': 2.0}), (66.0, 64.0, {'weight': 2.0}), (66.0, 73.0, {'weight': 3.0}), (66.0, 77.0, {'weight': 1.0}), (66.0, 78.0, {'weight': 3.0}), (66.0, 81.0, {'weight': 2.0}), (66.0, 84.0, {'weight': 2.0}), (66.0, 89.0, {'weight': 2.0}), (66.0, 95.0, {'weight': 1.0}), (66.0, 98.0, {'weight': 3.0}), (66.0, 105.0, {'weight': 3.0}), (66.0, 112.0, {'weight': 3.0}), (66.0, 116.0, {'weight': 5.0}), (66.0, 124.0, {'weight': 4.0}), (66.0, 129.0, {'weight': 3.0}), (66.0, 131.0, {'weight': 5.0}), (66.0, 138.0, {'weight': 4.0}), (66.0, 139.0, {'weight': 2.0}), (66.0, 140.0, {'weight': 7.0}), (66.0, 143.0, {'weight': 4.0}), (66.0, 145.0, {'weight': 1.0}), (73.0, 14.0, {'weight': 4.0}), (73.0, 15.0, {'weight': 2.0}), (73.0, 28.0, {'weight': 2.0}), (73.0, 41.0, {'weight': 1.0}), (73.0, 43.0, {'weight': 1.0}), (73.0, 49.0, {'weight': 1.0}), (73.0, 53.0, {'weight': 1.0}), (73.0, 61.0, {'weight': 2.0}), (73.0, 62.0, {'weight': 3.0}), (73.0, 72.0, {'weight': 1.0}), (73.0, 77.0, {'weight': 4.0}), (73.0, 78.0, {'weight': 5.0}), (73.0, 81.0, {'weight': 2.0}), (73.0, 84.0, {'weight': 3.0}), (73.0, 90.0, {'weight': 3.0}), (73.0, 97.0, {'weight': 1.0}), (73.0, 105.0, {'weight': 7.0}), (73.0, 112.0, {'weight': 2.0}), (73.0, 116.0, {'weight': 2.0}), (73.0, 124.0, {'weight': 2.0}), (73.0, 129.0, {'weight': 1.0}), (73.0, 131.0, {'weight': 3.0}), (73.0, 138.0, {'weight': 1.0}), (73.0, 140.0, {'weight': 3.0}), (73.0, 143.0, {'weight': 1.0}), (73.0, 145.0, {'weight': 3.0}), (78.0, 14.0, {'weight': 3.0}), (78.0, 61.0, {'weight': 1.0}), (78.0, 62.0, {'weight': 1.0}), (78.0, 77.0, {'weight': 2.0}), (78.0, 84.0, {'weight': 1.0}), (78.0, 90.0, {'weight': 2.0}), (78.0, 105.0, {'weight': 4.0}), (78.0, 116.0, {'weight': 1.0}), (78.0, 124.0, {'weight': 1.0}), (78.0, 131.0, {'weight': 2.0}), (78.0, 140.0, {'weight': 2.0}), (78.0, 143.0, {'weight': 1.0}), (78.0, 145.0, {'weight': 2.0}), (105.0, 14.0, {'weight': 4.0}), (105.0, 15.0, {'weight': 2.0}), (105.0, 28.0, {'weight': 3.0}), (105.0, 41.0, {'weight': 1.0}), (105.0, 43.0, {'weight': 2.0}), (105.0, 49.0, {'weight': 1.0}), (105.0, 53.0, {'weight': 1.0}), (105.0, 58.0, {'weight': 1.0}), (105.0, 61.0, {'weight': 3.0}), (105.0, 62.0, {'weight': 3.0}), (105.0, 72.0, {'weight': 1.0}), (105.0, 77.0, {'weight': 4.0}), (105.0, 81.0, {'weight': 2.0}), (105.0, 84.0, {'weight': 4.0}), (105.0, 90.0, {'weight': 3.0}), (105.0, 97.0, {'weight': 1.0}), (105.0, 112.0, {'weight': 2.0}), (105.0, 116.0, {'weight': 2.0}), (105.0, 124.0, {'weight': 2.0}), (105.0, 129.0, {'weight': 2.0}), (105.0, 131.0, {'weight': 3.0}), (105.0, 138.0, {'weight': 2.0}), (105.0, 140.0, {'weight': 3.0}), (105.0, 143.0, {'weight': 1.0}), (105.0, 145.0, {'weight': 3.0}), (140.0, 18.0, {'weight': 1.0}), (140.0, 19.0, {'weight': 3.0}), (140.0, 25.0, {'weight': 4.0}), (140.0, 28.0, {'weight': 2.0}), (140.0, 41.0, {'weight': 1.0}), (140.0, 43.0, {'weight': 2.0}), (140.0, 45.0, {'weight': 1.0}), (140.0, 46.0, {'weight': 3.0}), (140.0, 58.0, {'weight': 4.0}), (140.0, 61.0, {'weight': 1.0}), (140.0, 62.0, {'weight': 2.0}), (140.0, 64.0, {'weight': 2.0}), (140.0, 81.0, {'weight': 2.0}), (140.0, 84.0, {'weight': 2.0}), (140.0, 89.0, {'weight': 2.0}), (140.0, 95.0, {'weight': 2.0}), (140.0, 98.0, {'weight': 3.0}), (140.0, 112.0, {'weight': 2.0}), (140.0, 116.0, {'weight': 5.0}), (140.0, 124.0, {'weight': 4.0}), (140.0, 129.0, {'weight': 3.0}), (140.0, 131.0, {'weight': 4.0}), (140.0, 138.0, {'weight': 4.0}), (140.0, 139.0, {'weight': 2.0}), (140.0, 143.0, {'weight': 5.0}), (140.0, 145.0, {'weight': 1.0}), (143.0, 7.0, {'weight': 1.0}), (143.0, 18.0, {'weight': 3.0}), (143.0, 19.0, {'weight': 3.0}), (143.0, 25.0, {'weight': 5.0}), (143.0, 28.0, {'weight': 1.0}), (143.0, 30.0, {'weight': 2.0}), (143.0, 43.0, {'weight': 1.0}), (143.0, 45.0, {'weight': 1.0}), (143.0, 46.0, {'weight': 4.0}), (143.0, 58.0, {'weight': 4.0}), (143.0, 62.0, {'weight': 1.0}), (143.0, 64.0, {'weight': 2.0}), (143.0, 79.0, {'weight': 1.0}), (143.0, 89.0, {'weight': 4.0}), (143.0, 91.0, {'weight': 1.0}), (143.0, 95.0, {'weight': 2.0}), (143.0, 98.0, {'weight': 4.0}), (143.0, 112.0, {'weight': 1.0}), (143.0, 113.0, {'weight': 1.0}), (143.0, 116.0, {'weight': 4.0}), (143.0, 124.0, {'weight': 3.0}), (143.0, 129.0, {'weight': 2.0}), (143.0, 131.0, {'weight': 3.0}), (143.0, 138.0, {'weight': 3.0}), (143.0, 139.0, {'weight': 2.0}), (5.0, 16.0, {'weight': 1.0}), (5.0, 31.0, {'weight': 1.0}), (5.0, 32.0, {'weight': 5.0}), (5.0, 34.0, {'weight': 1.0}), (5.0, 60.0, {'weight': 5.0}), (5.0, 63.0, {'weight': 7.0}), (5.0, 65.0, {'weight': 1.0}), (5.0, 102.0, {'weight': 1.0}), (5.0, 109.0, {'weight': 1.0}), (5.0, 117.0, {'weight': 4.0}), (5.0, 121.0, {'weight': 2.0}), (16.0, 7.0, {'weight': 5.0}), (16.0, 10.0, {'weight': 1.0}), (16.0, 18.0, {'weight': 1.0}), (16.0, 19.0, {'weight': 1.0}), (16.0, 25.0, {'weight': 1.0}), (16.0, 29.0, {'weight': 5.0}), (16.0, 30.0, {'weight': 4.0}), (16.0, 34.0, {'weight': 7.0}), (16.0, 46.0, {'weight': 2.0}), (16.0, 63.0, {'weight': 2.0}), (16.0, 64.0, {'weight': 2.0}), (16.0, 65.0, {'weight': 7.0}), (16.0, 79.0, {'weight': 4.0}), (16.0, 87.0, {'weight': 1.0}), (16.0, 89.0, {'weight': 2.0}), (16.0, 91.0, {'weight': 4.0}), (16.0, 95.0, {'weight': 2.0}), (16.0, 98.0, {'weight': 2.0}), (16.0, 101.0, {'weight': 1.0}), (16.0, 102.0, {'weight': 7.0}), (16.0, 106.0, {'weight': 1.0}), (16.0, 107.0, {'weight': 7.0}), (16.0, 113.0, {'weight': 5.0}), (16.0, 117.0, {'weight': 3.0}), (16.0, 121.0, {'weight': 3.0}), (16.0, 130.0, {'weight': 5.0}), (16.0, 139.0, {'weight': 1.0}), (16.0, 148.0, {'weight': 3.0}), (31.0, 18.0, {'weight': 3.0}), (31.0, 32.0, {'weight': 2.0}), (31.0, 34.0, {'weight': 1.0}), (31.0, 63.0, {'weight': 1.0}), (31.0, 65.0, {'weight': 1.0}), (31.0, 89.0, {'weight': 1.0}), (31.0, 91.0, {'weight': 2.0}), (31.0, 109.0, {'weight': 4.0}), (31.0, 113.0, {'weight': 1.0}), (31.0, 117.0, {'weight': 2.0}), (31.0, 121.0, {'weight': 4.0}), (31.0, 149.0, {'weight': 5.0}), (32.0, 34.0, {'weight': 1.0}), (32.0, 60.0, {'weight': 4.0}), (32.0, 63.0, {'weight': 4.0}), (32.0, 109.0, {'weight': 2.0}), (32.0, 117.0, {'weight': 3.0}), (32.0, 121.0, {'weight': 2.0}), (32.0, 149.0, {'weight': 2.0}), (34.0, 7.0, {'weight': 5.0}), (34.0, 18.0, {'weight': 2.0}), (34.0, 19.0, {'weight': 1.0}), (34.0, 25.0, {'weight': 1.0}), (34.0, 29.0, {'weight': 4.0}), (34.0, 30.0, {'weight': 4.0}), (34.0, 46.0, {'weight': 2.0}), (34.0, 63.0, {'weight': 2.0}), (34.0, 64.0, {'weight': 2.0}), (34.0, 65.0, {'weight': 7.0}), (34.0, 79.0, {'weight': 4.0}), (34.0, 89.0, {'weight': 2.0}), (34.0, 91.0, {'weight': 5.0}), (34.0, 95.0, {'weight': 2.0}), (34.0, 98.0, {'weight': 2.0}), (34.0, 102.0, {'weight': 5.0}), (34.0, 107.0, {'weight': 5.0}), (34.0, 113.0, {'weight': 5.0}), (34.0, 117.0, {'weight': 4.0}), (34.0, 121.0, {'weight': 4.0}), (34.0, 130.0, {'weight': 4.0}), (34.0, 139.0, {'weight': 1.0}), (34.0, 148.0, {'weight': 2.0}), (60.0, 63.0, {'weight': 4.0}), (60.0, 117.0, {'weight': 3.0}), (63.0, 65.0, {'weight': 2.0}), (63.0, 91.0, {'weight': 1.0}), (63.0, 102.0, {'weight': 2.0}), (63.0, 107.0, {'weight': 1.0}), (63.0, 109.0, {'weight': 1.0}), (63.0, 113.0, {'weight': 1.0}), (63.0, 117.0, {'weight': 5.0}), (63.0, 121.0, {'weight': 2.0}), (63.0, 130.0, {'weight': 1.0}), (65.0, 7.0, {'weight': 4.0}), (65.0, 10.0, {'weight': 1.0}), (65.0, 18.0, {'weight': 1.0}), (65.0, 19.0, {'weight': 1.0}), (65.0, 29.0, {'weight': 4.0}), (65.0, 30.0, {'weight': 4.0}), (65.0, 46.0, {'weight': 1.0}), (65.0, 64.0, {'weight': 2.0}), (65.0, 79.0, {'weight': 4.0}), (65.0, 89.0, {'weight': 2.0}), (65.0, 91.0, {'weight': 4.0}), (65.0, 95.0, {'weight': 2.0}), (65.0, 98.0, {'weight': 1.0}), (65.0, 102.0, {'weight': 7.0}), (65.0, 106.0, {'weight': 1.0}), (65.0, 107.0, {'weight': 5.0}), (65.0, 113.0, {'weight': 5.0}), (65.0, 117.0, {'weight': 4.0}), (65.0, 121.0, {'weight': 3.0}), (65.0, 130.0, {'weight': 5.0}), (65.0, 148.0, {'weight': 2.0}), (102.0, 7.0, {'weight': 5.0}), (102.0, 10.0, {'weight': 1.0}), (102.0, 18.0, {'weight': 1.0}), (102.0, 19.0, {'weight': 1.0}), (102.0, 25.0, {'weight': 1.0}), (102.0, 29.0, {'weight': 5.0}), (102.0, 30.0, {'weight': 4.0}), (102.0, 46.0, {'weight': 2.0}), (102.0, 64.0, {'weight': 2.0}), (102.0, 79.0, {'weight': 4.0}), (102.0, 87.0, {'weight': 1.0}), (102.0, 89.0, {'weight': 2.0}), (102.0, 91.0, {'weight': 4.0}), (102.0, 95.0, {'weight': 3.0}), (102.0, 98.0, {'weight': 2.0}), (102.0, 101.0, {'weight': 1.0}), (102.0, 106.0, {'weight': 1.0}), (102.0, 107.0, {'weight': 7.0}), (102.0, 113.0, {'weight': 5.0}), (102.0, 117.0, {'weight': 3.0}), (102.0, 121.0, {'weight': 3.0}), (102.0, 130.0, {'weight': 5.0}), (102.0, 139.0, {'weight': 1.0}), (102.0, 148.0, {'weight': 3.0}), (109.0, 18.0, {'weight': 1.0}), (109.0, 117.0, {'weight': 1.0}), (109.0, 121.0, {'weight': 2.0}), (109.0, 149.0, {'weight': 5.0}), (117.0, 7.0, {'weight': 2.0}), (117.0, 18.0, {'weight': 1.0}), (117.0, 29.0, {'weight': 1.0}), (117.0, 30.0, {'weight': 1.0}), (117.0, 79.0, {'weight': 1.0}), (117.0, 91.0, {'weight': 3.0}), (117.0, 107.0, {'weight': 2.0}), (117.0, 113.0, {'weight': 2.0}), (117.0, 121.0, {'weight': 4.0}), (117.0, 130.0, {'weight': 2.0}), (117.0, 149.0, {'weight': 1.0}), (121.0, 7.0, {'weight': 3.0}), (121.0, 18.0, {'weight': 3.0}), (121.0, 25.0, {'weight': 1.0}), (121.0, 29.0, {'weight': 1.0}), (121.0, 30.0, {'weight': 2.0}), (121.0, 46.0, {'weight': 1.0}), (121.0, 79.0, {'weight': 2.0}), (121.0, 89.0, {'weight': 3.0}), (121.0, 91.0, {'weight': 5.0}), (121.0, 95.0, {'weight': 1.0}), (121.0, 98.0, {'weight': 2.0}), (121.0, 107.0, {'weight': 2.0}), (121.0, 113.0, {'weight': 3.0}), (121.0, 130.0, {'weight': 2.0}), (121.0, 149.0, {'weight': 3.0}), (6.0, 10.0, {'weight': 3.0}), (6.0, 17.0, {'weight': 3.0}), (6.0, 21.0, {'weight': 3.0}), (6.0, 29.0, {'weight': 1.0}), (6.0, 35.0, {'weight': 2.0}), (6.0, 52.0, {'weight': 5.0}), (6.0, 59.0, {'weight': 5.0}), (6.0, 85.0, {'weight': 1.0}), (6.0, 87.0, {'weight': 3.0}), (6.0, 96.0, {'weight': 4.0}), (6.0, 101.0, {'weight': 5.0}), (6.0, 106.0, {'weight': 5.0}), (6.0, 115.0, {'weight': 2.0}), (6.0, 134.0, {'weight': 3.0}), (6.0, 135.0, {'weight': 2.0}), (6.0, 136.0, {'weight': 3.0}), (6.0, 148.0, {'weight': 2.0}), (10.0, 7.0, {'weight': 2.0}), (10.0, 19.0, {'weight': 2.0}), (10.0, 29.0, {'weight': 2.0}), (10.0, 30.0, {'weight': 2.0}), (10.0, 35.0, {'weight': 5.0}), (10.0, 45.0, {'weight': 3.0}), (10.0, 46.0, {'weight': 1.0}), (10.0, 52.0, {'weight': 5.0}), (10.0, 58.0, {'weight': 1.0}), (10.0, 59.0, {'weight': 5.0}), (10.0, 64.0, {'weight': 3.0}), (10.0, 79.0, {'weight': 3.0}), (10.0, 85.0, {'weight': 4.0}), (10.0, 87.0, {'weight': 7.0}), (10.0, 92.0, {'weight': 1.0}), (10.0, 95.0, {'weight': 3.0}), (10.0, 96.0, {'weight': 1.0}), (10.0, 98.0, {'weight': 1.0}), (10.0, 101.0, {'weight': 5.0}), (10.0, 106.0, {'weight': 4.0}), (10.0, 107.0, {'weight': 2.0}), (10.0, 113.0, {'weight': 1.0}), (10.0, 115.0, {'weight': 4.0}), (10.0, 116.0, {'weight': 1.0}), (10.0, 129.0, {'weight': 1.0}), (10.0, 130.0, {'weight': 2.0}), (10.0, 134.0, {'weight': 3.0}), (10.0, 135.0, {'weight': 4.0}), (10.0, 136.0, {'weight': 3.0}), (10.0, 138.0, {'weight': 1.0}), (10.0, 139.0, {'weight': 3.0}), (10.0, 148.0, {'weight': 5.0}), (17.0, 21.0, {'weight': 5.0}), (17.0, 52.0, {'weight': 2.0}), (17.0, 59.0, {'weight': 2.0}), (17.0, 96.0, {'weight': 5.0}), (17.0, 101.0, {'weight': 2.0}), (17.0, 106.0, {'weight': 2.0}), (21.0, 52.0, {'weight': 1.0}), (21.0, 59.0, {'weight': 1.0}), (21.0, 96.0, {'weight': 5.0}), (21.0, 101.0, {'weight': 2.0}), (21.0, 106.0, {'weight': 2.0}), (29.0, 7.0, {'weight': 4.0}), (29.0, 19.0, {'weight': 1.0}), (29.0, 30.0, {'weight': 3.0}), (29.0, 35.0, {'weight': 1.0}), (29.0, 46.0, {'weight': 1.0}), (29.0, 52.0, {'weight': 2.0}), (29.0, 59.0, {'weight': 1.0}), (29.0, 64.0, {'weight': 2.0}), (29.0, 79.0, {'weight': 4.0}), (29.0, 85.0, {'weight': 1.0}), (29.0, 87.0, {'weight': 2.0}), (29.0, 89.0, {'weight': 1.0}), (29.0, 91.0, {'weight': 2.0}), (29.0, 95.0, {'weight': 2.0}), (29.0, 98.0, {'weight': 1.0}), (29.0, 101.0, {'weight': 2.0}), (29.0, 106.0, {'weight': 3.0}), (29.0, 107.0, {'weight': 5.0}), (29.0, 113.0, {'weight': 4.0}), (29.0, 130.0, {'weight': 7.0}), (29.0, 139.0, {'weight': 1.0}), (29.0, 148.0, {'weight': 4.0}), (35.0, 7.0, {'weight': 1.0}), (35.0, 19.0, {'weight': 3.0}), (35.0, 28.0, {'weight': 1.0}), (35.0, 30.0, {'weight': 2.0}), (35.0, 37.0, {'weight': 1.0}), (35.0, 41.0, {'weight': 2.0}), (35.0, 43.0, {'weight': 2.0}), (35.0, 45.0, {'weight': 4.0}), (35.0, 46.0, {'weight': 2.0}), (35.0, 49.0, {'weight': 1.0}), (35.0, 52.0, {'weight': 4.0}), (35.0, 58.0, {'weight': 2.0}), (35.0, 59.0, {'weight': 3.0}), (35.0, 62.0, {'weight': 1.0}), (35.0, 64.0, {'weight': 4.0}), (35.0, 74.0, {'weight': 1.0}), (35.0, 79.0, {'weight': 2.0}), (35.0, 81.0, {'weight': 1.0}), (35.0, 85.0, {'weight': 7.0}), (35.0, 87.0, {'weight': 5.0}), (35.0, 92.0, {'weight': 2.0}), (35.0, 95.0, {'weight': 3.0}), (35.0, 98.0, {'weight': 1.0}), (35.0, 101.0, {'weight': 3.0}), (35.0, 106.0, {'weight': 3.0}), (35.0, 107.0, {'weight': 1.0}), (35.0, 112.0, {'weight': 2.0}), (35.0, 113.0, {'weight': 1.0}), (35.0, 115.0, {'weight': 5.0}), (35.0, 116.0, {'weight': 2.0}), (35.0, 124.0, {'weight': 2.0}), (35.0, 129.0, {'weight': 3.0}), (35.0, 130.0, {'weight': 1.0}), (35.0, 131.0, {'weight': 1.0}), (35.0, 134.0, {'weight': 3.0}), (35.0, 135.0, {'weight': 4.0}), (35.0, 136.0, {'weight': 3.0}), (35.0, 138.0, {'weight': 2.0}), (35.0, 139.0, {'weight': 4.0}), (35.0, 148.0, {'weight': 4.0}), (52.0, 30.0, {'weight': 1.0}), (52.0, 45.0, {'weight': 2.0}), (52.0, 59.0, {'weight': 7.0}), (52.0, 64.0, {'weight': 1.0}), (52.0, 79.0, {'weight': 1.0}), (52.0, 85.0, {'weight': 3.0}), (52.0, 87.0, {'weight': 5.0}), (52.0, 95.0, {'weight': 1.0}), (52.0, 96.0, {'weight': 2.0}), (52.0, 101.0, {'weight': 7.0}), (52.0, 106.0, {'weight': 5.0}), (52.0, 107.0, {'weight': 1.0}), (52.0, 115.0, {'weight': 3.0}), (52.0, 130.0, {'weight': 1.0}), (52.0, 134.0, {'weight': 3.0}), (52.0, 135.0, {'weight': 4.0}), (52.0, 136.0, {'weight': 3.0}), (52.0, 139.0, {'weight': 1.0}), (52.0, 148.0, {'weight': 3.0}), (59.0, 45.0, {'weight': 1.0}), (59.0, 64.0, {'weight': 1.0}), (59.0, 79.0, {'weight': 1.0}), (59.0, 85.0, {'weight': 3.0}), (59.0, 87.0, {'weight': 5.0}), (59.0, 95.0, {'weight': 1.0}), (59.0, 96.0, {'weight': 3.0}), (59.0, 101.0, {'weight': 7.0}), (59.0, 106.0, {'weight': 5.0}), (59.0, 107.0, {'weight': 1.0}), (59.0, 115.0, {'weight': 3.0}), (59.0, 130.0, {'weight': 1.0}), (59.0, 134.0, {'weight': 4.0}), (59.0, 135.0, {'weight': 4.0}), (59.0, 136.0, {'weight': 4.0}), (59.0, 139.0, {'weight': 1.0}), (59.0, 148.0, {'weight': 3.0}), (85.0, 7.0, {'weight': 1.0}), (85.0, 19.0, {'weight': 3.0}), (85.0, 28.0, {'weight': 2.0}), (85.0, 30.0, {'weight': 2.0}), (85.0, 36.0, {'weight': 1.0}), (85.0, 37.0, {'weight': 1.0}), (85.0, 41.0, {'weight': 3.0}), (85.0, 43.0, {'weight': 3.0}), (85.0, 45.0, {'weight': 5.0}), (85.0, 46.0, {'weight': 2.0}), (85.0, 49.0, {'weight': 1.0}), (85.0, 58.0, {'weight': 3.0}), (85.0, 62.0, {'weight': 1.0}), (85.0, 64.0, {'weight': 4.0}), (85.0, 74.0, {'weight': 1.0}), (85.0, 79.0, {'weight': 2.0}), (85.0, 81.0, {'weight': 2.0}), (85.0, 87.0, {'weight': 4.0}), (85.0, 92.0, {'weight': 3.0}), (85.0, 95.0, {'weight': 3.0}), (85.0, 98.0, {'weight': 1.0}), (85.0, 101.0, {'weight': 2.0}), (85.0, 106.0, {'weight': 2.0}), (85.0, 112.0, {'weight': 3.0}), (85.0, 115.0, {'weight': 5.0}), (85.0, 116.0, {'weight': 2.0}), (85.0, 120.0, {'weight': 1.0}), (85.0, 124.0, {'weight': 3.0}), (85.0, 129.0, {'weight': 3.0}), (85.0, 131.0, {'weight': 2.0}), (85.0, 134.0, {'weight': 3.0}), (85.0, 135.0, {'weight': 4.0}), (85.0, 136.0, {'weight': 2.0}), (85.0, 138.0, {'weight': 3.0}), (85.0, 139.0, {'weight': 4.0}), (85.0, 148.0, {'weight': 3.0}), (87.0, 7.0, {'weight': 1.0}), (87.0, 19.0, {'weight': 2.0}), (87.0, 30.0, {'weight': 2.0}), (87.0, 41.0, {'weight': 1.0}), (87.0, 43.0, {'weight': 1.0}), (87.0, 45.0, {'weight': 3.0}), (87.0, 46.0, {'weight': 1.0}), (87.0, 58.0, {'weight': 1.0}), (87.0, 64.0, {'weight': 3.0}), (87.0, 79.0, {'weight': 2.0}), (87.0, 92.0, {'weight': 1.0}), (87.0, 95.0, {'weight': 3.0}), (87.0, 96.0, {'weight': 1.0}), (87.0, 101.0, {'weight': 5.0}), (87.0, 106.0, {'weight': 4.0}), (87.0, 107.0, {'weight': 1.0}), (87.0, 113.0, {'weight': 1.0}), (87.0, 115.0, {'weight': 4.0}), (87.0, 129.0, {'weight': 1.0}), (87.0, 130.0, {'weight': 1.0}), (87.0, 134.0, {'weight': 3.0}), (87.0, 135.0, {'weight': 4.0}), (87.0, 136.0, {'weight': 3.0}), (87.0, 138.0, {'weight': 1.0}), (87.0, 139.0, {'weight': 3.0}), (87.0, 148.0, {'weight': 4.0}), (96.0, 101.0, {'weight': 3.0}), (96.0, 106.0, {'weight': 3.0}), (96.0, 136.0, {'weight': 1.0}), (101.0, 7.0, {'weight': 1.0}), (101.0, 30.0, {'weight': 1.0}), (101.0, 45.0, {'weight': 1.0}), (101.0, 64.0, {'weight': 1.0}), (101.0, 79.0, {'weight': 2.0}), (101.0, 95.0, {'weight': 1.0}), (101.0, 106.0, {'weight': 7.0}), (101.0, 107.0, {'weight': 1.0}), (101.0, 115.0, {'weight': 3.0}), (101.0, 130.0, {'weight': 1.0}), (101.0, 134.0, {'weight': 3.0}), (101.0, 135.0, {'weight': 3.0}), (101.0, 136.0, {'weight': 3.0}), (101.0, 139.0, {'weight': 1.0}), (101.0, 148.0, {'weight': 3.0}), (106.0, 7.0, {'weight': 1.0}), (106.0, 30.0, {'weight': 1.0}), (106.0, 45.0, {'weight': 1.0}), (106.0, 64.0, {'weight': 1.0}), (106.0, 79.0, {'weight': 2.0}), (106.0, 95.0, {'weight': 1.0}), (106.0, 107.0, {'weight': 2.0}), (106.0, 113.0, {'weight': 1.0}), (106.0, 115.0, {'weight': 2.0}), (106.0, 130.0, {'weight': 2.0}), (106.0, 134.0, {'weight': 2.0}), (106.0, 135.0, {'weight': 3.0}), (106.0, 136.0, {'weight': 2.0}), (106.0, 139.0, {'weight': 1.0}), (106.0, 148.0, {'weight': 3.0}), (115.0, 19.0, {'weight': 2.0}), (115.0, 28.0, {'weight': 1.0}), (115.0, 36.0, {'weight': 2.0}), (115.0, 37.0, {'weight': 2.0}), (115.0, 41.0, {'weight': 3.0}), (115.0, 43.0, {'weight': 2.0}), (115.0, 45.0, {'weight': 4.0}), (115.0, 49.0, {'weight': 1.0}), (115.0, 58.0, {'weight': 1.0}), (115.0, 62.0, {'weight': 1.0}), (115.0, 64.0, {'weight': 2.0}), (115.0, 74.0, {'weight': 2.0}), (115.0, 79.0, {'weight': 1.0}), (115.0, 81.0, {'weight': 2.0}), (115.0, 92.0, {'weight': 4.0}), (115.0, 95.0, {'weight': 2.0}), (115.0, 112.0, {'weight': 2.0}), (115.0, 116.0, {'weight': 1.0}), (115.0, 118.0, {'weight': 1.0}), (115.0, 120.0, {'weight': 2.0}), (115.0, 124.0, {'weight': 2.0}), (115.0, 129.0, {'weight': 2.0}), (115.0, 131.0, {'weight': 1.0}), (115.0, 134.0, {'weight': 5.0}), (115.0, 135.0, {'weight': 7.0}), (115.0, 136.0, {'weight': 4.0}), (115.0, 138.0, {'weight': 2.0}), (115.0, 139.0, {'weight': 3.0}), (115.0, 148.0, {'weight': 2.0}), (134.0, 36.0, {'weight': 3.0}), (134.0, 37.0, {'weight': 3.0}), (134.0, 41.0, {'weight': 1.0}), (134.0, 43.0, {'weight': 1.0}), (134.0, 45.0, {'weight': 2.0}), (134.0, 74.0, {'weight': 3.0}), (134.0, 92.0, {'weight': 3.0}), (134.0, 120.0, {'weight': 2.0}), (134.0, 129.0, {'weight': 1.0}), (134.0, 135.0, {'weight': 5.0}), (134.0, 136.0, {'weight': 7.0}), (134.0, 139.0, {'weight': 1.0}), (134.0, 148.0, {'weight': 1.0}), (135.0, 19.0, {'weight': 1.0}), (135.0, 28.0, {'weight': 1.0}), (135.0, 36.0, {'weight': 2.0}), (135.0, 37.0, {'weight': 2.0}), (135.0, 41.0, {'weight': 2.0}), (135.0, 43.0, {'weight': 2.0}), (135.0, 45.0, {'weight': 3.0}), (135.0, 49.0, {'weight': 1.0}), (135.0, 58.0, {'weight': 1.0}), (135.0, 64.0, {'weight': 2.0}), (135.0, 74.0, {'weight': 2.0}), (135.0, 81.0, {'weight': 1.0}), (135.0, 92.0, {'weight': 3.0}), (135.0, 95.0, {'weight': 1.0}), (135.0, 112.0, {'weight': 1.0}), (135.0, 120.0, {'weight': 1.0}), (135.0, 124.0, {'weight': 1.0}), (135.0, 129.0, {'weight': 2.0}), (135.0, 136.0, {'weight': 5.0}), (135.0, 138.0, {'weight': 1.0}), (135.0, 139.0, {'weight': 2.0}), (135.0, 148.0, {'weight': 2.0}), (136.0, 36.0, {'weight': 3.0}), (136.0, 37.0, {'weight': 3.0}), (136.0, 45.0, {'weight': 2.0}), (136.0, 74.0, {'weight': 2.0}), (136.0, 92.0, {'weight': 2.0}), (136.0, 120.0, {'weight': 1.0}), (136.0, 148.0, {'weight': 1.0}), (148.0, 7.0, {'weight': 4.0}), (148.0, 19.0, {'weight': 3.0}), (148.0, 25.0, {'weight': 1.0}), (148.0, 30.0, {'weight': 4.0}), (148.0, 45.0, {'weight': 3.0}), (148.0, 46.0, {'weight': 3.0}), (148.0, 58.0, {'weight': 2.0}), (148.0, 64.0, {'weight': 4.0}), (148.0, 79.0, {'weight': 5.0}), (148.0, 89.0, {'weight': 2.0}), (148.0, 91.0, {'weight': 2.0}), (148.0, 95.0, {'weight': 4.0}), (148.0, 98.0, {'weight': 2.0}), (148.0, 107.0, {'weight': 3.0}), (148.0, 113.0, {'weight': 3.0}), (148.0, 116.0, {'weight': 1.0}), (148.0, 124.0, {'weight': 1.0}), (148.0, 129.0, {'weight': 1.0}), (148.0, 130.0, {'weight': 3.0}), (148.0, 138.0, {'weight': 1.0}), (148.0, 139.0, {'weight': 4.0}), (7.0, 18.0, {'weight': 2.0}), (7.0, 19.0, {'weight': 3.0}), (7.0, 25.0, {'weight': 3.0}), (7.0, 30.0, {'weight': 7.0}), (7.0, 45.0, {'weight': 1.0}), (7.0, 46.0, {'weight': 4.0}), (7.0, 58.0, {'weight': 2.0}), (7.0, 64.0, {'weight': 4.0}), (7.0, 79.0, {'weight': 7.0}), (7.0, 89.0, {'weight': 4.0}), (7.0, 91.0, {'weight': 5.0}), (7.0, 95.0, {'weight': 4.0}), (7.0, 98.0, {'weight': 3.0}), (7.0, 107.0, {'weight': 4.0}), (7.0, 113.0, {'weight': 7.0}), (7.0, 116.0, {'weight': 1.0}), (7.0, 130.0, {'weight': 4.0}), (7.0, 138.0, {'weight': 1.0}), (7.0, 139.0, {'weight': 3.0}), (18.0, 19.0, {'weight': 2.0}), (18.0, 25.0, {'weight': 4.0}), (18.0, 30.0, {'weight': 2.0}), (18.0, 46.0, {'weight': 3.0}), (18.0, 58.0, {'weight': 2.0}), (18.0, 64.0, {'weight': 1.0}), (18.0, 79.0, {'weight': 1.0}), (18.0, 89.0, {'weight': 4.0}), (18.0, 91.0, {'weight': 4.0}), (18.0, 95.0, {'weight': 2.0}), (18.0, 98.0, {'weight': 3.0}), (18.0, 113.0, {'weight': 2.0}), (18.0, 116.0, {'weight': 1.0}), (18.0, 139.0, {'weight': 1.0}), (18.0, 149.0, {'weight': 2.0}), (19.0, 25.0, {'weight': 4.0}), (19.0, 28.0, {'weight': 2.0}), (19.0, 30.0, {'weight': 3.0}), (19.0, 41.0, {'weight': 2.0}), (19.0, 43.0, {'weight': 2.0}), (19.0, 45.0, {'weight': 3.0}), (19.0, 46.0, {'weight': 5.0}), (19.0, 58.0, {'weight': 7.0}), (19.0, 62.0, {'weight': 1.0}), (19.0, 64.0, {'weight': 5.0}), (19.0, 79.0, {'weight': 3.0}), (19.0, 81.0, {'weight': 2.0}), (19.0, 89.0, {'weight': 4.0}), (19.0, 91.0, {'weight': 2.0}), (19.0, 92.0, {'weight': 1.0}), (19.0, 95.0, {'weight': 5.0}), (19.0, 98.0, {'weight': 5.0}), (19.0, 107.0, {'weight': 1.0}), (19.0, 112.0, {'weight': 2.0}), (19.0, 113.0, {'weight': 2.0}), (19.0, 116.0, {'weight': 5.0}), (19.0, 124.0, {'weight': 4.0}), (19.0, 129.0, {'weight': 4.0}), (19.0, 130.0, {'weight': 1.0}), (19.0, 131.0, {'weight': 3.0}), (19.0, 138.0, {'weight': 4.0}), (19.0, 139.0, {'weight': 5.0}), (25.0, 30.0, {'weight': 3.0}), (25.0, 45.0, {'weight': 1.0}), (25.0, 46.0, {'weight': 5.0}), (25.0, 58.0, {'weight': 4.0}), (25.0, 64.0, {'weight': 3.0}), (25.0, 79.0, {'weight': 2.0}), (25.0, 89.0, {'weight': 5.0}), (25.0, 91.0, {'weight': 3.0}), (25.0, 95.0, {'weight': 3.0}), (25.0, 98.0, {'weight': 5.0}), (25.0, 113.0, {'weight': 2.0}), (25.0, 116.0, {'weight': 4.0}), (25.0, 124.0, {'weight': 2.0}), (25.0, 129.0, {'weight': 2.0}), (25.0, 131.0, {'weight': 2.0}), (25.0, 138.0, {'weight': 3.0}), (25.0, 139.0, {'weight': 3.0}), (30.0, 45.0, {'weight': 1.0}), (30.0, 46.0, {'weight': 4.0}), (30.0, 58.0, {'weight': 3.0}), (30.0, 64.0, {'weight': 4.0}), (30.0, 79.0, {'weight': 7.0}), (30.0, 89.0, {'weight': 4.0}), (30.0, 91.0, {'weight': 4.0}), (30.0, 95.0, {'weight': 5.0}), (30.0, 98.0, {'weight': 4.0}), (30.0, 107.0, {'weight': 4.0}), (30.0, 113.0, {'weight': 5.0}), (30.0, 116.0, {'weight': 2.0}), (30.0, 124.0, {'weight': 1.0}), (30.0, 129.0, {'weight': 1.0}), (30.0, 130.0, {'weight': 4.0}), (30.0, 138.0, {'weight': 1.0}), (30.0, 139.0, {'weight': 3.0}), (45.0, 28.0, {'weight': 3.0}), (45.0, 37.0, {'weight': 1.0}), (45.0, 41.0, {'weight': 4.0}), (45.0, 43.0, {'weight': 4.0}), (45.0, 46.0, {'weight': 2.0}), (45.0, 49.0, {'weight': 2.0}), (45.0, 58.0, {'weight': 3.0}), (45.0, 61.0, {'weight': 1.0}), (45.0, 62.0, {'weight': 3.0}), (45.0, 64.0, {'weight': 3.0}), (45.0, 74.0, {'weight': 1.0}), (45.0, 79.0, {'weight': 1.0}), (45.0, 81.0, {'weight': 3.0}), (45.0, 84.0, {'weight': 1.0}), (45.0, 89.0, {'weight': 1.0}), (45.0, 92.0, {'weight': 4.0}), (45.0, 95.0, {'weight': 3.0}), (45.0, 98.0, {'weight': 2.0}), (45.0, 112.0, {'weight': 4.0}), (45.0, 116.0, {'weight': 3.0}), (45.0, 118.0, {'weight': 1.0}), (45.0, 120.0, {'weight': 2.0}), (45.0, 124.0, {'weight': 4.0}), (45.0, 129.0, {'weight': 5.0}), (45.0, 131.0, {'weight': 3.0}), (45.0, 138.0, {'weight': 4.0}), (45.0, 139.0, {'weight': 4.0}), (46.0, 43.0, {'weight': 1.0}), (46.0, 58.0, {'weight': 5.0}), (46.0, 64.0, {'weight': 5.0}), (46.0, 79.0, {'weight': 4.0}), (46.0, 89.0, {'weight': 5.0}), (46.0, 91.0, {'weight': 3.0}), (46.0, 95.0, {'weight': 5.0}), (46.0, 98.0, {'weight': 7.0}), (46.0, 107.0, {'weight': 2.0}), (46.0, 112.0, {'weight': 1.0}), (46.0, 113.0, {'weight': 3.0}), (46.0, 116.0, {'weight': 4.0}), (46.0, 124.0, {'weight': 3.0}), (46.0, 129.0, {'weight': 2.0}), (46.0, 130.0, {'weight': 1.0}), (46.0, 131.0, {'weight': 2.0}), (46.0, 138.0, {'weight': 3.0}), (46.0, 139.0, {'weight': 4.0}), (58.0, 28.0, {'weight': 2.0}), (58.0, 41.0, {'weight': 2.0}), (58.0, 43.0, {'weight': 2.0}), (58.0, 49.0, {'weight': 1.0}), (58.0, 62.0, {'weight': 2.0}), (58.0, 64.0, {'weight': 4.0}), (58.0, 79.0, {'weight': 2.0}), (58.0, 81.0, {'weight': 2.0}), (58.0, 84.0, {'weight': 1.0}), (58.0, 89.0, {'weight': 3.0}), (58.0, 91.0, {'weight': 1.0}), (58.0, 92.0, {'weight': 1.0}), (58.0, 95.0, {'weight': 4.0}), (58.0, 98.0, {'weight': 5.0}), (58.0, 112.0, {'weight': 3.0}), (58.0, 113.0, {'weight': 2.0}), (58.0, 116.0, {'weight': 5.0}), (58.0, 124.0, {'weight': 4.0}), (58.0, 129.0, {'weight': 4.0}), (58.0, 131.0, {'weight': 4.0}), (58.0, 138.0, {'weight': 5.0}), (58.0, 139.0, {'weight': 5.0}), (64.0, 28.0, {'weight': 1.0}), (64.0, 41.0, {'weight': 1.0}), (64.0, 43.0, {'weight': 1.0}), (64.0, 79.0, {'weight': 4.0}), (64.0, 81.0, {'weight': 1.0}), (64.0, 89.0, {'weight': 3.0}), (64.0, 91.0, {'weight': 2.0}), (64.0, 92.0, {'weight': 1.0}), (64.0, 95.0, {'weight': 7.0}), (64.0, 98.0, {'weight': 4.0}), (64.0, 107.0, {'weight': 2.0}), (64.0, 112.0, {'weight': 1.0}), (64.0, 113.0, {'weight': 3.0}), (64.0, 116.0, {'weight': 3.0}), (64.0, 124.0, {'weight': 3.0}), (64.0, 129.0, {'weight': 3.0}), (64.0, 130.0, {'weight': 2.0}), (64.0, 131.0, {'weight': 2.0}), (64.0, 138.0, {'weight': 3.0}), (64.0, 139.0, {'weight': 5.0}), (79.0, 89.0, {'weight': 3.0}), (79.0, 91.0, {'weight': 4.0}), (79.0, 95.0, {'weight': 5.0}), (79.0, 98.0, {'weight': 3.0}), (79.0, 107.0, {'weight': 4.0}), (79.0, 113.0, {'weight': 5.0}), (79.0, 116.0, {'weight': 1.0}), (79.0, 129.0, {'weight': 1.0}), (79.0, 130.0, {'weight': 4.0}), (79.0, 138.0, {'weight': 1.0}), (79.0, 139.0, {'weight': 3.0}), (89.0, 91.0, {'weight': 4.0}), (89.0, 95.0, {'weight': 4.0}), (89.0, 98.0, {'weight': 5.0}), (89.0, 107.0, {'weight': 1.0}), (89.0, 113.0, {'weight': 3.0}), (89.0, 116.0, {'weight': 3.0}), (89.0, 124.0, {'weight': 1.0}), (89.0, 129.0, {'weight': 1.0}), (89.0, 130.0, {'weight': 1.0}), (89.0, 131.0, {'weight': 1.0}), (89.0, 138.0, {'weight': 2.0}), (89.0, 139.0, {'weight': 3.0}), (91.0, 95.0, {'weight': 3.0}), (91.0, 98.0, {'weight': 3.0}), (91.0, 107.0, {'weight': 3.0}), (91.0, 113.0, {'weight': 5.0}), (91.0, 130.0, {'weight': 3.0}), (91.0, 139.0, {'weight': 1.0}), (91.0, 149.0, {'weight': 1.0}), (95.0, 41.0, {'weight': 1.0}), (95.0, 43.0, {'weight': 1.0}), (95.0, 98.0, {'weight': 4.0}), (95.0, 107.0, {'weight': 3.0}), (95.0, 112.0, {'weight': 1.0}), (95.0, 113.0, {'weight': 3.0}), (95.0, 116.0, {'weight': 3.0}), (95.0, 124.0, {'weight': 2.0}), (95.0, 129.0, {'weight': 2.0}), (95.0, 130.0, {'weight': 2.0}), (95.0, 131.0, {'weight': 2.0}), (95.0, 138.0, {'weight': 3.0}), (95.0, 139.0, {'weight': 5.0}), (98.0, 107.0, {'weight': 1.0}), (98.0, 112.0, {'weight': 1.0}), (98.0, 113.0, {'weight': 3.0}), (98.0, 116.0, {'weight': 4.0}), (98.0, 124.0, {'weight': 2.0}), (98.0, 129.0, {'weight': 2.0}), (98.0, 130.0, {'weight': 1.0}), (98.0, 131.0, {'weight': 2.0}), (98.0, 138.0, {'weight': 3.0}), (98.0, 139.0, {'weight': 4.0}), (107.0, 113.0, {'weight': 5.0}), (107.0, 130.0, {'weight': 7.0}), (107.0, 139.0, {'weight': 1.0}), (113.0, 130.0, {'weight': 4.0}), (113.0, 139.0, {'weight': 2.0}), (116.0, 28.0, {'weight': 3.0}), (116.0, 41.0, {'weight': 3.0}), (116.0, 43.0, {'weight': 3.0}), (116.0, 49.0, {'weight': 1.0}), (116.0, 61.0, {'weight': 1.0}), (116.0, 62.0, {'weight': 3.0}), (116.0, 81.0, {'weight': 3.0}), (116.0, 84.0, {'weight': 2.0}), (116.0, 92.0, {'weight': 1.0}), (116.0, 112.0, {'weight': 3.0}), (116.0, 124.0, {'weight': 5.0}), (116.0, 129.0, {'weight': 5.0}), (116.0, 131.0, {'weight': 5.0}), (116.0, 138.0, {'weight': 7.0}), (116.0, 139.0, {'weight': 4.0}), (130.0, 139.0, {'weight': 1.0}), (138.0, 28.0, {'weight': 4.0}), (138.0, 41.0, {'weight': 4.0}), (138.0, 43.0, {'weight': 4.0}), (138.0, 49.0, {'weight': 2.0}), (138.0, 61.0, {'weight': 2.0}), (138.0, 62.0, {'weight': 3.0}), (138.0, 81.0, {'weight': 4.0}), (138.0, 84.0, {'weight': 2.0}), (138.0, 92.0, {'weight': 2.0}), (138.0, 112.0, {'weight': 4.0}), (138.0, 124.0, {'weight': 7.0}), (138.0, 129.0, {'weight': 7.0}), (138.0, 131.0, {'weight': 5.0}), (138.0, 139.0, {'weight': 4.0}), (138.0, 145.0, {'weight': 1.0}), (139.0, 28.0, {'weight': 2.0}), (139.0, 41.0, {'weight': 2.0}), (139.0, 43.0, {'weight': 3.0}), (139.0, 49.0, {'weight': 1.0}), (139.0, 62.0, {'weight': 1.0}), (139.0, 81.0, {'weight': 2.0}), (139.0, 92.0, {'weight': 2.0}), (139.0, 112.0, {'weight': 3.0}), (139.0, 124.0, {'weight': 4.0}), (139.0, 129.0, {'weight': 4.0}), (139.0, 131.0, {'weight': 3.0}), (92.0, 28.0, {'weight': 3.0}), (92.0, 36.0, {'weight': 2.0}), (92.0, 37.0, {'weight': 4.0}), (92.0, 41.0, {'weight': 5.0}), (92.0, 43.0, {'weight': 4.0}), (92.0, 49.0, {'weight': 4.0}), (92.0, 61.0, {'weight': 2.0}), (92.0, 62.0, {'weight': 3.0}), (92.0, 72.0, {'weight': 1.0}), (92.0, 74.0, {'weight': 4.0}), (92.0, 81.0, {'weight': 4.0}), (92.0, 84.0, {'weight': 2.0}), (92.0, 103.0, {'weight': 2.0}), (92.0, 112.0, {'weight': 4.0}), (92.0, 118.0, {'weight': 3.0}), (92.0, 120.0, {'weight': 4.0}), (92.0, 124.0, {'weight': 2.0}), (92.0, 129.0, {'weight': 3.0}), (92.0, 131.0, {'weight': 2.0}), (92.0, 145.0, {'weight': 1.0}), (129.0, 28.0, {'weight': 4.0}), (129.0, 41.0, {'weight': 5.0}), (129.0, 43.0, {'weight': 5.0}), (129.0, 49.0, {'weight': 3.0}), (129.0, 61.0, {'weight': 3.0}), (129.0, 62.0, {'weight': 4.0}), (129.0, 77.0, {'weight': 1.0}), (129.0, 81.0, {'weight': 4.0}), (129.0, 84.0, {'weight': 3.0}), (129.0, 112.0, {'weight': 5.0}), (129.0, 118.0, {'weight': 1.0}), (129.0, 120.0, {'weight': 1.0}), (129.0, 124.0, {'weight': 7.0}), (129.0, 131.0, {'weight': 5.0}), (129.0, 145.0, {'weight': 1.0}), (124.0, 28.0, {'weight': 4.0}), (124.0, 41.0, {'weight': 4.0}), (124.0, 43.0, {'weight': 4.0}), (124.0, 49.0, {'weight': 3.0}), (124.0, 61.0, {'weight': 3.0}), (124.0, 62.0, {'weight': 4.0}), (124.0, 77.0, {'weight': 1.0}), (124.0, 81.0, {'weight': 4.0}), (124.0, 84.0, {'weight': 3.0}), (124.0, 112.0, {'weight': 5.0}), (124.0, 120.0, {'weight': 1.0}), (124.0, 131.0, {'weight': 7.0}), (124.0, 145.0, {'weight': 2.0}), (131.0, 14.0, {'weight': 1.0}), (131.0, 15.0, {'weight': 1.0}), (131.0, 28.0, {'weight': 4.0}), (131.0, 41.0, {'weight': 3.0}), (131.0, 43.0, {'weight': 4.0}), (131.0, 49.0, {'weight': 3.0}), (131.0, 61.0, {'weight': 3.0}), (131.0, 62.0, {'weight': 4.0}), (131.0, 77.0, {'weight': 2.0}), (131.0, 81.0, {'weight': 4.0}), (131.0, 84.0, {'weight': 3.0}), (131.0, 90.0, {'weight': 1.0}), (131.0, 112.0, {'weight': 4.0}), (131.0, 145.0, {'weight': 2.0}), (14.0, 15.0, {'weight': 4.0}), (14.0, 28.0, {'weight': 1.0}), (14.0, 49.0, {'weight': 1.0}), (14.0, 53.0, {'weight': 4.0}), (14.0, 57.0, {'weight': 3.0}), (14.0, 61.0, {'weight': 3.0}), (14.0, 62.0, {'weight': 2.0}), (14.0, 72.0, {'weight': 2.0}), (14.0, 77.0, {'weight': 5.0}), (14.0, 81.0, {'weight': 1.0}), (14.0, 84.0, {'weight': 3.0}), (14.0, 90.0, {'weight': 5.0}), (14.0, 97.0, {'weight': 2.0}), (14.0, 112.0, {'weight': 1.0}), (14.0, 145.0, {'weight': 4.0}), (14.0, 151.0, {'weight': 2.0}), (15.0, 28.0, {'weight': 2.0}), (15.0, 41.0, {'weight': 1.0}), (15.0, 43.0, {'weight': 1.0}), (15.0, 49.0, {'weight': 2.0}), (15.0, 53.0, {'weight': 5.0}), (15.0, 57.0, {'weight': 4.0}), (15.0, 61.0, {'weight': 4.0}), (15.0, 62.0, {'weight': 2.0}), (15.0, 72.0, {'weight': 5.0}), (15.0, 77.0, {'weight': 5.0}), (15.0, 81.0, {'weight': 2.0}), (15.0, 84.0, {'weight': 4.0}), (15.0, 90.0, {'weight': 5.0}), (15.0, 97.0, {'weight': 5.0}), (15.0, 103.0, {'weight': 1.0}), (15.0, 112.0, {'weight': 1.0}), (15.0, 118.0, {'weight': 1.0}), (15.0, 145.0, {'weight': 5.0}), (15.0, 151.0, {'weight': 3.0}), (28.0, 37.0, {'weight': 1.0}), (28.0, 41.0, {'weight': 5.0}), (28.0, 43.0, {'weight': 5.0}), (28.0, 49.0, {'weight': 5.0}), (28.0, 61.0, {'weight': 5.0}), (28.0, 62.0, {'weight': 7.0}), (28.0, 72.0, {'weight': 2.0}), (28.0, 74.0, {'weight': 1.0}), (28.0, 77.0, {'weight': 2.0}), (28.0, 81.0, {'weight': 7.0}), (28.0, 84.0, {'weight': 5.0}), (28.0, 90.0, {'weight': 1.0}), (28.0, 97.0, {'weight': 1.0}), (28.0, 103.0, {'weight': 1.0}), (28.0, 112.0, {'weight': 7.0}), (28.0, 118.0, {'weight': 2.0}), (28.0, 120.0, {'weight': 2.0}), (28.0, 145.0, {'weight': 3.0}), (49.0, 37.0, {'weight': 2.0}), (49.0, 41.0, {'weight': 5.0}), (49.0, 43.0, {'weight': 5.0}), (49.0, 57.0, {'weight': 1.0}), (49.0, 61.0, {'weight': 5.0}), (49.0, 62.0, {'weight': 5.0}), (49.0, 72.0, {'weight': 3.0}), (49.0, 74.0, {'weight': 2.0}), (49.0, 77.0, {'weight': 2.0}), (49.0, 81.0, {'weight': 5.0}), (49.0, 84.0, {'weight': 4.0}), (49.0, 90.0, {'weight': 1.0}), (49.0, 97.0, {'weight': 2.0}), (49.0, 103.0, {'weight': 3.0}), (49.0, 112.0, {'weight': 4.0}), (49.0, 118.0, {'weight': 4.0}), (49.0, 120.0, {'weight': 4.0}), (49.0, 145.0, {'weight': 3.0}), (53.0, 57.0, {'weight': 5.0}), (53.0, 61.0, {'weight': 2.0}), (53.0, 62.0, {'weight': 1.0}), (53.0, 72.0, {'weight': 3.0}), (53.0, 77.0, {'weight': 4.0}), (53.0, 84.0, {'weight': 2.0}), (53.0, 90.0, {'weight': 5.0}), (53.0, 97.0, {'weight': 4.0}), (53.0, 145.0, {'weight': 3.0}), (53.0, 151.0, {'weight': 4.0}), (57.0, 61.0, {'weight': 2.0}), (57.0, 72.0, {'weight': 4.0}), (57.0, 77.0, {'weight': 3.0}), (57.0, 84.0, {'weight': 1.0}), (57.0, 90.0, {'weight': 4.0}), (57.0, 97.0, {'weight': 5.0}), (57.0, 145.0, {'weight': 3.0}), (57.0, 151.0, {'weight': 5.0}), (61.0, 41.0, {'weight': 4.0}), (61.0, 43.0, {'weight': 4.0}), (61.0, 62.0, {'weight': 5.0}), (61.0, 72.0, {'weight': 4.0}), (61.0, 74.0, {'weight': 1.0}), (61.0, 77.0, {'weight': 4.0}), (61.0, 81.0, {'weight': 4.0}), (61.0, 84.0, {'weight': 7.0}), (61.0, 90.0, {'weight': 3.0}), (61.0, 97.0, {'weight': 3.0}), (61.0, 103.0, {'weight': 2.0}), (61.0, 112.0, {'weight': 4.0}), (61.0, 118.0, {'weight': 2.0}), (61.0, 120.0, {'weight': 2.0}), (61.0, 145.0, {'weight': 5.0}), (61.0, 151.0, {'weight': 1.0}), (62.0, 41.0, {'weight': 5.0}), (62.0, 43.0, {'weight': 5.0}), (62.0, 72.0, {'weight': 3.0}), (62.0, 74.0, {'weight': 1.0}), (62.0, 77.0, {'weight': 3.0}), (62.0, 81.0, {'weight': 7.0}), (62.0, 84.0, {'weight': 5.0}), (62.0, 90.0, {'weight': 2.0}), (62.0, 97.0, {'weight': 2.0}), (62.0, 103.0, {'weight': 1.0}), (62.0, 112.0, {'weight': 5.0}), (62.0, 118.0, {'weight': 2.0}), (62.0, 120.0, {'weight': 2.0}), (62.0, 145.0, {'weight': 4.0}), (72.0, 41.0, {'weight': 2.0}), (72.0, 43.0, {'weight': 2.0}), (72.0, 77.0, {'weight': 3.0}), (72.0, 81.0, {'weight': 2.0}), (72.0, 84.0, {'weight': 3.0}), (72.0, 90.0, {'weight': 3.0}), (72.0, 97.0, {'weight': 5.0}), (72.0, 103.0, {'weight': 3.0}), (72.0, 112.0, {'weight': 2.0}), (72.0, 118.0, {'weight': 3.0}), (72.0, 120.0, {'weight': 2.0}), (72.0, 145.0, {'weight': 4.0}), (72.0, 151.0, {'weight': 3.0}), (77.0, 41.0, {'weight': 1.0}), (77.0, 43.0, {'weight': 1.0}), (77.0, 81.0, {'weight': 2.0}), (77.0, 84.0, {'weight': 4.0}), (77.0, 90.0, {'weight': 7.0}), (77.0, 97.0, {'weight': 3.0}), (77.0, 112.0, {'weight': 2.0}), (77.0, 145.0, {'weight': 7.0}), (77.0, 151.0, {'weight': 2.0}), (81.0, 37.0, {'weight': 1.0}), (81.0, 41.0, {'weight': 7.0}), (81.0, 43.0, {'weight': 7.0}), (81.0, 74.0, {'weight': 1.0}), (81.0, 84.0, {'weight': 4.0}), (81.0, 90.0, {'weight': 1.0}), (81.0, 97.0, {'weight': 1.0}), (81.0, 103.0, {'weight': 2.0}), (81.0, 112.0, {'weight': 7.0}), (81.0, 118.0, {'weight': 2.0}), (81.0, 120.0, {'weight': 3.0}), (81.0, 145.0, {'weight': 3.0}), (84.0, 41.0, {'weight': 4.0}), (84.0, 43.0, {'weight': 4.0}), (84.0, 90.0, {'weight': 3.0}), (84.0, 97.0, {'weight': 3.0}), (84.0, 103.0, {'weight': 1.0}), (84.0, 112.0, {'weight': 4.0}), (84.0, 118.0, {'weight': 2.0}), (84.0, 120.0, {'weight': 1.0}), (84.0, 145.0, {'weight': 5.0}), (90.0, 97.0, {'weight': 3.0}), (90.0, 112.0, {'weight': 1.0}), (90.0, 145.0, {'weight': 5.0}), (90.0, 151.0, {'weight': 3.0}), (97.0, 41.0, {'weight': 1.0}), (97.0, 43.0, {'weight': 1.0}), (97.0, 103.0, {'weight': 2.0}), (97.0, 112.0, {'weight': 1.0}), (97.0, 118.0, {'weight': 2.0}), (97.0, 120.0, {'weight': 1.0}), (97.0, 145.0, {'weight': 4.0}), (97.0, 151.0, {'weight': 4.0}), (112.0, 37.0, {'weight': 1.0}), (112.0, 41.0, {'weight': 7.0}), (112.0, 43.0, {'weight': 7.0}), (112.0, 74.0, {'weight': 1.0}), (112.0, 103.0, {'weight': 1.0}), (112.0, 118.0, {'weight': 2.0}), (112.0, 120.0, {'weight': 2.0}), (112.0, 145.0, {'weight': 2.0}), (145.0, 41.0, {'weight': 2.0}), (145.0, 43.0, {'weight': 2.0}), (145.0, 103.0, {'weight': 1.0}), (145.0, 118.0, {'weight': 1.0}), (145.0, 151.0, {'weight': 2.0}), (41.0, 37.0, {'weight': 2.0}), (41.0, 43.0, {'weight': 7.0}), (41.0, 74.0, {'weight': 2.0}), (41.0, 103.0, {'weight': 2.0}), (41.0, 118.0, {'weight': 3.0}), (41.0, 120.0, {'weight': 3.0}), (43.0, 37.0, {'weight': 1.0}), (43.0, 74.0, {'weight': 2.0}), (43.0, 103.0, {'weight': 1.0}), (43.0, 118.0, {'weight': 2.0}), (43.0, 120.0, {'weight': 3.0}), (103.0, 36.0, {'weight': 2.0}), (103.0, 37.0, {'weight': 3.0}), (103.0, 74.0, {'weight': 3.0}), (103.0, 118.0, {'weight': 7.0}), (103.0, 120.0, {'weight': 4.0}), (118.0, 36.0, {'weight': 2.0}), (118.0, 37.0, {'weight': 3.0}), (118.0, 74.0, {'weight': 4.0}), (118.0, 120.0, {'weight': 5.0}), (37.0, 36.0, {'weight': 5.0}), (37.0, 74.0, {'weight': 7.0}), (37.0, 120.0, {'weight': 5.0}), (74.0, 36.0, {'weight': 5.0}), (74.0, 120.0, {'weight': 5.0}), (120.0, 36.0, {'weight': 3.0})]\n"
     ]
    }
   ],
   "execution_count": 12
  },
  {
   "metadata": {},
   "cell_type": "markdown",
   "source": "> Some important functions to check path validity",
   "id": "b6e57dc59b66075c"
  },
  {
   "metadata": {
    "ExecuteTime": {
     "end_time": "2025-01-11T00:56:23.836596Z",
     "start_time": "2025-01-11T00:56:23.833189Z"
    }
   },
   "cell_type": "code",
   "source": [
    "# Function to check valid paths\n",
    "# Should remove the ones with zero weights just to make sure the path is valid at all points.\n",
    "# Don't think we will be using this function anymore because have already removed all zeros transmissions\n",
    "def is_valid_path(path, graph):\n",
    "    for i in range(len(path) - 1):\n",
    "        if not graph.has_edge(path[i], path[i + 1]):\n",
    "            return False\n",
    "    return True"
   ],
   "id": "599508b0b2ea05d5",
   "outputs": [],
   "execution_count": 13
  },
  {
   "metadata": {
    "ExecuteTime": {
     "end_time": "2025-01-11T00:56:30.205778Z",
     "start_time": "2025-01-11T00:56:30.202850Z"
    }
   },
   "cell_type": "code",
   "source": "G.nodes()",
   "id": "a4feb9fc385801ba",
   "outputs": [
    {
     "data": {
      "text/plain": [
       "NodeView((1.0, 8.0, 20.0, 40.0, 42.0, 55.0, 76.0, 86.0, 93.0, 94.0, 100.0, 114.0, 127.0, 133.0, 146.0, 150.0, 2.0, 4.0, 11.0, 12.0, 13.0, 38.0, 47.0, 48.0, 67.0, 71.0, 75.0, 82.0, 83.0, 88.0, 128.0, 132.0, 137.0, 147.0, 3.0, 9.0, 22.0, 23.0, 24.0, 26.0, 33.0, 39.0, 44.0, 50.0, 51.0, 54.0, 56.0, 68.0, 69.0, 70.0, 80.0, 99.0, 104.0, 108.0, 110.0, 111.0, 119.0, 122.0, 123.0, 125.0, 126.0, 141.0, 142.0, 144.0, 152.0, 27.0, 66.0, 73.0, 78.0, 105.0, 140.0, 143.0, 5.0, 16.0, 31.0, 32.0, 34.0, 60.0, 63.0, 65.0, 102.0, 109.0, 117.0, 121.0, 6.0, 10.0, 17.0, 21.0, 29.0, 35.0, 52.0, 59.0, 85.0, 87.0, 96.0, 101.0, 106.0, 115.0, 134.0, 135.0, 136.0, 148.0, 7.0, 18.0, 19.0, 25.0, 30.0, 45.0, 46.0, 58.0, 64.0, 79.0, 89.0, 91.0, 95.0, 98.0, 107.0, 113.0, 116.0, 130.0, 138.0, 139.0, 92.0, 129.0, 149.0, 124.0, 131.0, 14.0, 15.0, 28.0, 49.0, 53.0, 57.0, 61.0, 62.0, 72.0, 77.0, 81.0, 84.0, 90.0, 97.0, 112.0, 145.0, 151.0, 41.0, 43.0, 103.0, 118.0, 37.0, 74.0, 120.0, 36.0))"
      ]
     },
     "execution_count": 14,
     "metadata": {},
     "output_type": "execute_result"
    }
   ],
   "execution_count": 14
  },
  {
   "metadata": {
    "ExecuteTime": {
     "end_time": "2025-01-11T00:56:32.285972Z",
     "start_time": "2025-01-11T00:56:32.278960Z"
    }
   },
   "cell_type": "code",
   "source": [
    "import random\n",
    "NUM_PARTICLES=1\n",
    "def initialize_population_from_df(start_node, distance_df, max_length=6):\n",
    "    \"\"\"\n",
    "    Generate population using valid connections from distance_df.\n",
    "    \"\"\"\n",
    "    population = []\n",
    "    retries = 0\n",
    "    valid_edges = list(zip(distance_df['point1'], distance_df['point2']))\n",
    "    graph = nx.Graph(valid_edges)  # Create a graph from the valid connections\n",
    "\n",
    "    while len(population) < NUM_PARTICLES and retries < 10000:\n",
    "        retries += 1\n",
    "        path = [start_node]\n",
    "        current_node = start_node\n",
    "\n",
    "        # Randomly select nodes to form a path\n",
    "        for _ in range(random.randint(1, max_length - 2)):  # Middle part length\n",
    "            neighbors = list(graph.neighbors(current_node))\n",
    "            if not neighbors:\n",
    "                break  # No valid neighbors, stop path construction\n",
    "            next_node = random.choice(neighbors)\n",
    "            if next_node not in path:  # Avoid cycles\n",
    "                path.append(next_node)\n",
    "                current_node = next_node\n",
    "\n",
    "        # Append valid end node\n",
    "        end_node = random.choice([151, 152])\n",
    "        if graph.has_edge(current_node, end_node):\n",
    "            path.append(end_node)\n",
    "            population.append(path)\n",
    "            retries = 0  # Reset retries on success\n",
    "\n",
    "    # Fallback: Print warning if retries exceeded\n",
    "    if len(population) < NUM_PARTICLES:\n",
    "        print(f\"Warning: Could only generate {len(population)} valid paths after 100 retries.\")\n",
    "    return population\n",
    "population = initialize_population_from_df(1, distance_df, max_length=20)\n",
    "print(population[0])\n",
    "print(len(population))"
   ],
   "id": "72094f0665fd63b6",
   "outputs": [
    {
     "name": "stdout",
     "output_type": "stream",
     "text": [
      "[1, 127, 86, 133, 134, 139, 85, 87, 107, 56, 29, 141, 23, 70, 3, 152]\n",
      "1\n"
     ]
    }
   ],
   "execution_count": 15
  },
  {
   "metadata": {
    "ExecuteTime": {
     "end_time": "2025-01-11T00:56:38.305408Z",
     "start_time": "2025-01-11T00:56:38.301574Z"
    }
   },
   "cell_type": "code",
   "source": [
    "def initialize_population(start_node,graph,valid_end_nodes=[151,152], max_length=50):\n",
    "    \"\"\"\n",
    "    This function initializes population in a rule of getting valid paths from\n",
    "    valid end nodes. We didn't use max length so particles can take any length they want\n",
    "    and keep on updating their path.\n",
    "    :param start_node: node to start from example 2, 1, any\n",
    "    :param graph: the graph object defined in the previous step (graph = nx.Graph(valid_edges))\n",
    "    :param valid_end_nodes: these are nodes to end the path at. For assignment, it's 151 and 152.\n",
    "    :param max_length: the maximum length of the path, we didn't use this parameter.'\n",
    "    :return:\n",
    "    \"\"\"\n",
    "    current_node = start_node # The starting point of our function.\n",
    "    elems = [current_node] # This list holds the elements of the population\n",
    "    # Basically here we loop until the last elem has valid end nodes. The neighbor are from the\n",
    "    # graph. break condition included incase we don't find neighbors.\n",
    "    while elems[-1] not in valid_end_nodes:\n",
    "        neighbors = [neighbor for neighbor in graph.neighbors(current_node) if neighbor not in elems]\n",
    "        if not neighbors:\n",
    "            break\n",
    "        next_node = random.choice(neighbors)\n",
    "        elems.append(next_node)\n",
    "        current_node = next_node\n",
    "    return elems"
   ],
   "id": "bb51cca0b560a414",
   "outputs": [],
   "execution_count": 16
  },
  {
   "metadata": {
    "ExecuteTime": {
     "end_time": "2025-01-11T00:57:11.474975Z",
     "start_time": "2025-01-11T00:57:11.452548Z"
    }
   },
   "cell_type": "code",
   "source": "populations = [initialize_population(1,G,valid_end_nodes=[151,152]) for _ in range(20)]",
   "id": "1b1d4fe318e0ec38",
   "outputs": [],
   "execution_count": 21
  },
  {
   "metadata": {
    "ExecuteTime": {
     "end_time": "2025-01-11T00:57:12.122524Z",
     "start_time": "2025-01-11T00:57:12.119890Z"
    }
   },
   "cell_type": "code",
   "source": "initialize_population(1, G)",
   "id": "c54969b684355e65",
   "outputs": [
    {
     "data": {
      "text/plain": [
       "[1,\n",
       " 40.0,\n",
       " 127.0,\n",
       " 59.0,\n",
       " 134.0,\n",
       " 52.0,\n",
       " 64.0,\n",
       " 28.0,\n",
       " 73.0,\n",
       " 129.0,\n",
       " 43.0,\n",
       " 62.0,\n",
       " 14.0,\n",
       " 61.0,\n",
       " 53.0,\n",
       " 72.0,\n",
       " 84.0,\n",
       " 120.0,\n",
       " 124.0,\n",
       " 148.0,\n",
       " 19.0,\n",
       " 66.0,\n",
       " 18.0,\n",
       " 25.0,\n",
       " 113.0,\n",
       " 69.0,\n",
       " 152.0]"
      ]
     },
     "execution_count": 22,
     "metadata": {},
     "output_type": "execute_result"
    }
   ],
   "execution_count": 22
  },
  {
   "metadata": {
    "ExecuteTime": {
     "end_time": "2025-01-11T00:57:20.906142Z",
     "start_time": "2025-01-11T00:57:20.902828Z"
    }
   },
   "cell_type": "code",
   "source": [
    "def initialize_velocities(population, graph):\n",
    "    \"\"\"\n",
    "    This  function initializes velocities for each particle in the population.\n",
    "    In our case we have introduced our own research (We don't know if it exists) into the velocities. But the velocity is (direction to go , some weight and the place to update and start search from).\n",
    "    :param population: population object defined in the previous step (population = [initialize_population(1,G,valid_end_nodes=[151,152]) for _ in range(20)])\n",
    "    :param graph: graph object defined in the previous step (graph = nx.Graph(valid_edges))\n",
    "    :return: (direction, weight_criteria, update_index)\n",
    "    \"\"\"\n",
    "    velocities = []\n",
    "    for individual in population:\n",
    "       direction = individual[-1]\n",
    "       weights = [\n",
    "            graph[individual[i]][individual[i + 1]].get('weight', float('inf'))\n",
    "            for i in range(len(individual) - 1)\n",
    "        ]\n",
    "       average_weight = np.mean(weights) if weights else float('inf')\n",
    "       update_index = random.randint(1, len(individual) - 1)\n",
    "       velocity = (direction, average_weight, update_index)\n",
    "       velocities.append(velocity)\n",
    "    return velocities"
   ],
   "id": "ed35f30514216804",
   "outputs": [],
   "execution_count": 23
  },
  {
   "metadata": {
    "ExecuteTime": {
     "end_time": "2025-01-11T00:57:22.260087Z",
     "start_time": "2025-01-11T00:57:22.256171Z"
    }
   },
   "cell_type": "code",
   "source": [
    "velocities = initialize_velocities(populations, G)\n",
    "print(populations[0])\n",
    "print(velocities[0])"
   ],
   "id": "1b81dae2d55b1776",
   "outputs": [
    {
     "name": "stdout",
     "output_type": "stream",
     "text": [
      "[1, 86.0, 106.0, 16.0, 63.0, 26.0, 70.0, 23.0, 123.0, 126.0, 119.0, 110.0, 96.0, 42.0, 93.0, 21.0, 114.0, 150.0, 100.0, 133.0, 87.0, 122.0, 111.0, 117.0, 130.0, 79.0, 30.0, 24.0, 33.0, 148.0, 58.0, 113.0, 34.0, 39.0, 144.0, 91.0, 31.0, 89.0, 12.0, 78.0, 145.0, 27.0, 25.0, 102.0, 50.0, 29.0, 52.0, 55.0, 6.0, 68.0, 9.0, 56.0, 22.0, 65.0, 64.0, 28.0, 116.0, 35.0, 124.0, 105.0, 15.0, 97.0, 62.0, 84.0, 103.0, 41.0, 92.0, 112.0, 115.0, 129.0, 46.0, 18.0, 88.0, 67.0, 38.0, 73.0, 14.0, 90.0, 53.0, 151.0]\n",
      "(151.0, 2.6582278481012658, 62)\n"
     ]
    }
   ],
   "execution_count": 24
  },
  {
   "metadata": {
    "ExecuteTime": {
     "end_time": "2025-01-11T00:57:23.139259Z",
     "start_time": "2025-01-11T00:57:23.133968Z"
    }
   },
   "cell_type": "code",
   "source": [
    "def update_velocity(position, velocity, global_best_position,\n",
    "                    personal_best_position, personal_best_fitness,\n",
    "                    global_best_fitness,current_fitness,\n",
    "                    inertia=0.7,c1=1.5, c2=1.5 ):\n",
    "    \"\"\"\n",
    "    TODO: Use global best fitness to see how it can influence the movement of particle.\n",
    "    This function chooses either to take the global best or personal best path.\n",
    "    The position is the same as the personal best position.\n",
    "    The returned values are update index (Very important),\n",
    "    direction and Some Weight(This value is computed as the minimum weight that will\n",
    "    be used in finding neighbours) (Very important)\n",
    "    I haven't used the global best fitness in the update but it works well.\n",
    "\n",
    "\n",
    "    Parameters:\n",
    "        position (list): Current position of the particle.\n",
    "        velocity (tuple): (direction, weight_criteria, update_index).\n",
    "        global_best_position (list): Global best path.\n",
    "\n",
    "    Returns:\n",
    "        tuple: Updated velocity (direction, weight_criteria, update_index).\n",
    "    \"\"\"\n",
    "    direction, weight_criteria, update_index = velocity\n",
    "\n",
    "\n",
    "    direction = global_best_position[-1]\n",
    "    momentum = inertia * weight_criteria\n",
    "\n",
    "    # Influence from personal best.\n",
    "    if personal_best_fitness < current_fitness:\n",
    "        start_index = max(0, len(personal_best_position) - update_index)\n",
    "        personal_indices = range(start_index, len(personal_best_position))\n",
    "        cognitive_difference = [personal_best_position[i] - position[i] for i in personal_indices]\n",
    "        cognitive_influence = c1 * np.random.random() * np.mean(cognitive_difference)\n",
    "    else:\n",
    "        cognitive_influence = 0.0\n",
    "\n",
    "    # Influence from the global best.\n",
    "    if np.random.random() < 0.5:\n",
    "        random_index = np.random.randint(0, len(global_best_position))\n",
    "        social_difference = global_best_position[random_index] - position[random_index]\n",
    "        social_influence = c2 * np.random.random() * social_difference\n",
    "    else:\n",
    "        social_influence = 0.0\n",
    "\n",
    "    # The weight to choose from based on the influence.\n",
    "    new_weight_criteria = momentum + cognitive_influence + social_influence\n",
    "\n",
    "    # Check if it should use personal best or global best.\n",
    "    if cognitive_influence > social_influence:\n",
    "        direction = personal_best_position[-1]\n",
    "        new_update_index = np.random.randint(max(0, len(personal_best_position) - update_index), len(personal_best_position))\n",
    "    else:\n",
    "        direction = global_best_position[-1]\n",
    "        new_update_index = np.random.randint(2, len(global_best_position))\n",
    "\n",
    "    return direction, new_weight_criteria, new_update_index\n",
    "\n",
    "    # Update weight criteria slightly towards global convergence\n",
    "    # global_weight = np.mean([global_best_position[i] for i in range(len(global_best_position))])\n",
    "    # current_weight = np.mean(position)\n",
    "    #\n",
    "    # new_weight_criteria = weight_criteria + np.random.random() * (global_weight - current_weight)\n",
    "    #\n",
    "    # new_update_index = min(len(position) - 1, len(global_best_position) - 1)\n",
    "    #\n",
    "    # # Random chance to explore slightly around the global best index\n",
    "    # if np.random.random() < 0.5:\n",
    "    #     new_update_index = np.random.randint(1, len(global_best_position) - 1)\n",
    "    #\n",
    "    # cognitive_influence = 0.5\n",
    "    # social_influence = 0.5\n",
    "    #\n",
    "    #\n",
    "    # return direction, new_weight_criteria, new_update_index"
   ],
   "id": "10da295e92b61913",
   "outputs": [],
   "execution_count": 25
  },
  {
   "metadata": {
    "ExecuteTime": {
     "end_time": "2025-01-11T00:57:23.908520Z",
     "start_time": "2025-01-11T00:57:23.903760Z"
    }
   },
   "cell_type": "code",
   "source": [
    "def update_position(position, velocity, graph):\n",
    "    \"\"\"\n",
    "    Updates the position based on velocity and graph structure.\n",
    "    Important thing here is neighbors. How to choose the direction.\n",
    "    As a bad choice can lead to very long paths and poor performance.\n",
    "    Also, we multiplied weight criteria by 0.9 / any scaler to get it to choose better number (to reduce search of weight criteria by small number.)\n",
    "    This should be updated in the future.\n",
    "\n",
    "    Parameters:\n",
    "        position (list): Current position (path) of the particle.\n",
    "        velocity (tuple): (direction, min_weight, update_index).\n",
    "        graph (networkx.Graph): The graph with weighted edges.\n",
    "\n",
    "    Returns:\n",
    "        list: Updated position (path).\n",
    "    \"\"\"\n",
    "    direction, min_weight, update_index = velocity\n",
    "    start_node = position[:update_index]  # Partial path up to the update index\n",
    "    current_node = start_node[-1]\n",
    "    elems = start_node.copy()\n",
    "\n",
    "    while elems[-1] != direction:  # Stop when reaching the desired direction\n",
    "        neighbors = [neighbor for neighbor in graph.neighbors(current_node) if neighbor not in elems]\n",
    "\n",
    "        # Prefer neighbors leading toward the target direction\n",
    "        if direction in neighbors:\n",
    "            elems.append(direction)\n",
    "            return elems\n",
    "\n",
    "        if not neighbors:\n",
    "            # If no neighbors, return the initial position\n",
    "            return position\n",
    "\n",
    "        # Choose neighbors with valid weights\n",
    "        weighted_neighbors = [\n",
    "            (neighbor, graph[current_node][neighbor].get('weight', float('inf'))) for neighbor in neighbors\n",
    "        ]\n",
    "        valid_neighbors = [neighbor for neighbor, weight in weighted_neighbors if weight >= min_weight]\n",
    "\n",
    "        if not valid_neighbors:\n",
    "            # If no valid neighbors, reduce weight criteria slightly to explore\n",
    "            min_weight *= 0.9\n",
    "            valid_neighbors = [neighbor for neighbor, weight in weighted_neighbors if weight >= min_weight]\n",
    "\n",
    "            if not valid_neighbors:\n",
    "                return position  # Return to initial position if no valid moves\n",
    "\n",
    "        # Choose a random valid neighbor\n",
    "        next_node = random.choice(valid_neighbors)\n",
    "        elems.append(next_node)\n",
    "        current_node = next_node\n",
    "\n",
    "    return elems"
   ],
   "id": "dbde04794d7a3d67",
   "outputs": [],
   "execution_count": 26
  },
  {
   "metadata": {
    "ExecuteTime": {
     "end_time": "2025-01-11T01:07:07.999115Z",
     "start_time": "2025-01-11T01:07:07.994579Z"
    }
   },
   "cell_type": "code",
   "source": [
    "# Just checking random path generated to see if everything works fine.\n",
    "update_position([1, 86.0, 150.0, 17.0, 21.0, 59.0, 10.0, 98.0, 64.0, 112.0, 27.0, 137.0, 128.0, 88.0, 4.0, 105.0, 129.0, 116.0, 115.0, 95.0, 26.0, 125.0, 111.0, 104.0, 142.0, 63.0, 60.0, 152.0], (152.0, 3.037037037037037, 13), G)"
   ],
   "id": "a697e544c5720df",
   "outputs": [
    {
     "data": {
      "text/plain": [
       "[1,\n",
       " 86.0,\n",
       " 150.0,\n",
       " 17.0,\n",
       " 21.0,\n",
       " 59.0,\n",
       " 10.0,\n",
       " 98.0,\n",
       " 64.0,\n",
       " 112.0,\n",
       " 27.0,\n",
       " 137.0,\n",
       " 128.0,\n",
       " 88.0,\n",
       " 4.0,\n",
       " 105.0,\n",
       " 129.0,\n",
       " 116.0,\n",
       " 115.0,\n",
       " 95.0,\n",
       " 26.0,\n",
       " 125.0,\n",
       " 111.0,\n",
       " 104.0,\n",
       " 142.0,\n",
       " 63.0,\n",
       " 60.0,\n",
       " 152.0]"
      ]
     },
     "execution_count": 45,
     "metadata": {},
     "output_type": "execute_result"
    }
   ],
   "execution_count": 45
  },
  {
   "metadata": {},
   "cell_type": "markdown",
   "source": "## We have come up with this fitness function where we can minimize the cost function of transmission rate and latency to obtain optimal particles.",
   "id": "ff883708899ffd10"
  },
  {
   "metadata": {},
   "cell_type": "markdown",
   "source": [
    "$$\n",
    "\\text{fitness} = w_{\\text{rate}} \\cdot (1 - \\text{norm rate}) + w_{\\text{latency}} \\cdot \\text{norm latency}\n",
    "$$"
   ],
   "id": "94ae4ab048f1173a"
  },
  {
   "metadata": {
    "ExecuteTime": {
     "end_time": "2025-01-11T00:57:27.558354Z",
     "start_time": "2025-01-11T00:57:27.553884Z"
    }
   },
   "cell_type": "code",
   "source": [
    "def fitness_function(path, graph, w_latency=1.0, w_rate=1.0):\n",
    "    \"\"\"\n",
    "    Fitness function that combines latency and transmission rate.\n",
    "\n",
    "    Parameters:\n",
    "        path (list): The particle's current path.\n",
    "        graph (networkx.Graph): The graph structure with weighted edges.\n",
    "        w_latency (float): Weight for latency.\n",
    "        w_rate (float): Weight for transmission rate.\n",
    "\n",
    "    Returns:\n",
    "        float: Fitness of the path (lower is better).\n",
    "    \"\"\"\n",
    "    total_latency = 30 * (len(path) - 1)  # Fixed latency cost per each graph path.\n",
    "    min_transmission_rate = float(\"inf\")\n",
    "\n",
    "    for i in range(len(path) - 1):\n",
    "        u, v = path[i], path[i + 1]\n",
    "        if graph.has_edge(u, v):\n",
    "            edge_data = graph[u][v]\n",
    "            min_transmission_rate = min(min_transmission_rate, edge_data[\"weight\"])\n",
    "        else:\n",
    "            return float(\"inf\")  # Invalid Paths have inf.\n",
    "\n",
    "    # Normalize and combine the metrics\n",
    "    norm_latency = total_latency / len(graph.nodes())\n",
    "    norm_rate = min_transmission_rate / max([data[\"weight\"] for _, _, data in graph.edges(data=True)])\n",
    "\n",
    "    return w_rate * (1 - norm_rate) + w_latency * norm_latency\n"
   ],
   "id": "984c3f3f23878b29",
   "outputs": [],
   "execution_count": 28
  },
  {
   "metadata": {
    "ExecuteTime": {
     "end_time": "2025-01-11T00:57:28.104655Z",
     "start_time": "2025-01-11T00:57:28.100868Z"
    }
   },
   "cell_type": "code",
   "source": "fitness_function(populations[0], G)",
   "id": "8d9248f1b1e5b9a3",
   "outputs": [
    {
     "data": {
      "text/plain": [
       "16.44924812030075"
      ]
     },
     "execution_count": 29,
     "metadata": {},
     "output_type": "execute_result"
    }
   ],
   "execution_count": 29
  },
  {
   "metadata": {
    "ExecuteTime": {
     "end_time": "2025-01-11T00:57:28.566205Z",
     "start_time": "2025-01-11T00:57:28.555683Z"
    }
   },
   "cell_type": "code",
   "source": "fitnesses = [fitness_function(path, G) for path in populations]",
   "id": "ebb37712225e8e7e",
   "outputs": [],
   "execution_count": 30
  },
  {
   "metadata": {
    "ExecuteTime": {
     "end_time": "2025-01-11T00:57:28.959289Z",
     "start_time": "2025-01-11T00:57:28.956564Z"
    }
   },
   "cell_type": "code",
   "source": "min(fitnesses), max(fitnesses)",
   "id": "ecd53041ec7abba2",
   "outputs": [
    {
     "data": {
      "text/plain": [
       "(2.6334586466165417, 27.896616541353385)"
      ]
     },
     "execution_count": 31,
     "metadata": {},
     "output_type": "execute_result"
    }
   ],
   "execution_count": 31
  },
  {
   "metadata": {
    "ExecuteTime": {
     "end_time": "2025-01-11T01:42:28.936363Z",
     "start_time": "2025-01-11T01:42:28.932997Z"
    }
   },
   "cell_type": "code",
   "source": [
    "NUM_PARTICLES = 1000\n",
    "\n",
    "def pso(graph, start_node, df, max_length=20, iterations=10):\n",
    "    \"\"\"\n",
    "    PSO implementation for pathfinding in a graph using valid paths.\n",
    "    \"\"\"\n",
    "    # Step 1: Initialize Population\n",
    "    population = [initialize_population(start_node, graph=graph, valid_end_nodes=[151, 152]) for _ in range(NUM_PARTICLES)]\n",
    "    velocities = initialize_velocities(population, graph=graph)\n",
    "    #print(f'Initial Population: {population}')\n",
    "\n",
    "    # Calculate Initial Fitness\n",
    "    fitnesses = [fitness_function(path, graph) for path in population]\n",
    "    personal_best_positions = population.copy()\n",
    "    personal_best_fitnesses = fitnesses.copy()\n",
    "\n",
    "    # Identify Initial Global Best\n",
    "    global_best_index = np.argmin(personal_best_fitnesses)\n",
    "    global_best_position = personal_best_positions[global_best_index]\n",
    "    global_best_fitness = personal_best_fitnesses[global_best_index]\n",
    "\n",
    "    final_global_best_fitnesses = []\n",
    "\n",
    "    # Step 2: Main PSO Loop\n",
    "    for iteration in range(iterations):\n",
    "        for i in range(NUM_PARTICLES):\n",
    "            current_fitness = fitness_function(population[i], graph)\n",
    "            # Update velocity\n",
    "            velocities[i] = update_velocity(\n",
    "                position=population[i],\n",
    "                velocity=velocities[i],\n",
    "                global_best_position=global_best_position,\n",
    "                global_best_fitness=global_best_fitness,\n",
    "                personal_best_position=personal_best_positions[i],\n",
    "                personal_best_fitness=personal_best_fitnesses[i],\n",
    "                current_fitness=current_fitness,\n",
    "            )\n",
    "\n",
    "            # Update position based on new velocity\n",
    "            new_position = update_position(population[i], velocities[i], graph)\n",
    "            # if population[i] == new_position:\n",
    "            #     print(f'Particle {i} did not move. Skipping iteration.')\n",
    "            # else:\n",
    "            #     print(f'Particle {i} moved to {new_position}')\n",
    "\n",
    "            # Evaluate fitness of the new position\n",
    "            new_fitness = fitness_function(new_position, graph)\n",
    "\n",
    "            # Update personal best if the new fitness is better\n",
    "            if new_fitness < personal_best_fitnesses[i]:\n",
    "                personal_best_fitnesses[i] = new_fitness\n",
    "                personal_best_positions[i] = new_position\n",
    "                if new_fitness < global_best_fitness:\n",
    "                    global_best_fitness = new_fitness\n",
    "                    global_best_position = new_position\n",
    "                population[i] = new_position\n",
    "                # print(f'Particle {i} updated personal best to {new_position} with fitness {new_fitness}')\n",
    "            else:\n",
    "                population[i] = population[i]\n",
    "\n",
    "\n",
    "        # Log progress every 10 iterations\n",
    "        if iteration % 100 == 0 or iteration == iterations - 1:\n",
    "            print(f\"Iteration {iteration}: Global Best Fitness = {global_best_fitness}\")\n",
    "            print(f\"Global Best Position: {global_best_position}\")\n",
    "\n",
    "        final_global_best_fitnesses.append(global_best_fitness)\n",
    "\n",
    "    # Step 3: Output Final Solution\n",
    "    print(f'Final Population: {population}')\n",
    "    print(\"\\nFinal Results:\")\n",
    "    print(f\"Best Path Found: {global_best_position}\")\n",
    "    print(f\"Best Fitness: {global_best_fitness}\")"
   ],
   "id": "611623e564030b58",
   "outputs": [],
   "execution_count": 65
  },
  {
   "metadata": {
    "ExecuteTime": {
     "end_time": "2025-01-11T01:44:43.755757Z",
     "start_time": "2025-01-11T01:42:29.806372Z"
    }
   },
   "cell_type": "code",
   "source": "pso(graph=G,start_node=5, df=distance_df, max_length=20, iterations=200)",
   "id": "10c3a2aff3f713bf",
   "outputs": [
    {
     "name": "stdout",
     "output_type": "stream",
     "text": [
      "Iteration 0: Global Best Fitness = 1.1090225563909775\n",
      "Global Best Position: [5, 108.0, 152.0]\n",
      "Iteration 100: Global Best Fitness = 1.1090225563909775\n",
      "Global Best Position: [5, 108.0, 152.0]\n",
      "Iteration 199: Global Best Fitness = 1.1090225563909775\n",
      "Global Best Position: [5, 108.0, 152.0]\n",
      "Final Population: [[5, 60.0, 152.0], [5, 111.0, 152.0], [5, 34.0, 142.0, 152.0], [5, 109.0, 32.0, 111.0, 152.0], [5, 108.0, 152.0], [5, 108.0, 152.0], [5, 56.0, 152.0], [5, 39.0, 69.0, 152.0], [5, 16.0, 33.0, 56.0, 152.0], [5, 22.0, 122.0, 141.0, 80.0, 125.0, 152.0], [5, 80.0, 108.0, 152.0], [5, 117.0, 125.0, 152.0], [5, 108.0, 152.0], [5, 39.0, 111.0, 152.0], [5, 109.0, 121.0, 51.0, 152.0], [5, 51.0, 152.0], [5, 80.0, 108.0, 152.0], [5, 34.0, 22.0, 119.0, 69.0, 152.0], [5, 44.0, 152.0], [5, 44.0, 152.0], [5, 39.0, 104.0, 152.0], [5, 31.0, 32.0, 60.0, 152.0], [5, 102.0, 119.0, 142.0, 152.0], [5, 60.0, 152.0], [5, 65.0, 108.0, 152.0], [5, 31.0, 18.0, 58.0, 113.0, 148.0, 22.0, 63.0, 141.0, 65.0, 79.0, 33.0, 3.0, 122.0, 52.0, 139.0, 19.0, 138.0, 62.0, 115.0, 118.0, 15.0, 43.0, 134.0, 41.0, 120.0, 135.0, 81.0, 74.0, 45.0, 143.0, 7.0, 102.0, 46.0, 95.0, 12.0, 82.0, 71.0, 48.0, 47.0, 128.0, 2.0, 38.0, 78.0, 77.0, 84.0, 27.0, 105.0, 97.0, 112.0, 98.0, 30.0, 35.0, 130.0, 69.0, 125.0, 24.0, 39.0, 34.0, 144.0, 51.0, 16.0, 80.0, 70.0, 152.0], [5, 111.0, 152.0], [5, 22.0, 56.0, 152.0], [5, 111.0, 152.0], [5, 117.0, 111.0, 152.0], [5, 44.0, 152.0], [5, 16.0, 29.0, 68.0, 125.0, 142.0, 144.0, 123.0, 152.0], [5, 50.0, 44.0, 152.0], [5, 108.0, 152.0], [5, 104.0, 152.0], [5, 104.0, 152.0], [5, 22.0, 125.0, 152.0], [5, 22.0, 142.0, 152.0], [5, 63.0, 44.0, 152.0], [5, 125.0, 152.0], [5, 44.0, 152.0], [5, 69.0, 152.0], [5, 119.0, 125.0, 152.0], [5, 50.0, 44.0, 152.0], [5, 33.0, 111.0, 152.0], [5, 144.0, 44.0, 152.0], [5, 99.0, 152.0], [5, 39.0, 56.0, 152.0], [5, 44.0, 152.0], [5, 65.0, 130.0, 26.0, 39.0, 50.0, 69.0, 152.0], [5, 51.0, 152.0], [5, 31.0, 109.0, 32.0, 69.0, 152.0], [5, 44.0, 152.0], [5, 33.0, 56.0, 152.0], [5, 32.0, 126.0, 152.0], [5, 144.0, 111.0, 152.0], [5, 99.0, 152.0], [5, 50.0, 69.0, 152.0], [5, 44.0, 152.0], [5, 144.0, 44.0, 152.0], [5, 111.0, 152.0], [5, 108.0, 152.0], [5, 111.0, 152.0], [5, 108.0, 152.0], [5, 44.0, 152.0], [5, 32.0, 126.0, 152.0], [5, 22.0, 80.0, 142.0, 152.0], [5, 50.0, 69.0, 152.0], [5, 108.0, 152.0], [5, 125.0, 152.0], [5, 126.0, 152.0], [5, 108.0, 152.0], [5, 22.0, 39.0, 70.0, 152.0], [5, 109.0, 32.0, 60.0, 152.0], [5, 32.0, 69.0, 152.0], [5, 109.0, 32.0, 126.0, 152.0], [5, 108.0, 152.0], [5, 99.0, 152.0], [5, 50.0, 51.0, 152.0], [5, 111.0, 152.0], [5, 26.0, 141.0, 63.0, 69.0, 152.0], [5, 117.0, 111.0, 152.0], [5, 34.0, 141.0, 80.0, 142.0, 152.0], [5, 34.0, 56.0, 152.0], [5, 56.0, 152.0], [5, 108.0, 152.0], [5, 50.0, 69.0, 152.0], [5, 32.0, 60.0, 152.0], [5, 50.0, 44.0, 152.0], [5, 44.0, 152.0], [5, 125.0, 152.0], [5, 26.0, 10.0, 122.0, 65.0, 34.0, 144.0, 23.0, 125.0, 70.0, 142.0, 123.0, 80.0, 126.0, 63.0, 91.0, 113.0, 39.0, 111.0, 104.0, 9.0, 119.0, 33.0, 79.0, 143.0, 28.0, 112.0, 138.0, 124.0, 45.0, 129.0, 98.0, 107.0, 22.0, 106.0, 130.0, 117.0, 29.0, 87.0, 7.0, 24.0, 101.0, 110.0, 16.0, 30.0, 116.0, 43.0, 37.0, 85.0, 95.0, 64.0, 81.0, 66.0, 78.0, 88.0, 2.0, 71.0, 48.0, 31.0, 13.0, 67.0, 12.0, 27.0, 25.0, 82.0, 75.0, 18.0, 11.0, 149.0, 83.0, 109.0, 147.0, 132.0, 47.0, 137.0, 4.0, 105.0, 38.0, 73.0, 15.0, 103.0, 84.0, 62.0, 35.0, 115.0, 148.0, 59.0, 135.0, 19.0, 131.0, 46.0, 58.0, 92.0, 136.0, 94.0, 133.0, 76.0, 55.0, 8.0, 114.0, 100.0, 146.0, 36.0, 134.0, 6.0, 68.0, 51.0, 121.0, 32.0, 69.0, 50.0, 56.0, 141.0, 102.0, 89.0, 140.0, 139.0, 49.0, 77.0, 145.0, 61.0, 72.0, 53.0, 151.0], [5, 32.0, 69.0, 152.0], [5, 125.0, 152.0], [5, 63.0, 50.0, 44.0, 152.0], [5, 56.0, 152.0], [5, 22.0, 56.0, 152.0], [5, 109.0, 117.0, 60.0, 152.0], [5, 34.0, 110.0, 144.0, 50.0, 44.0, 152.0], [5, 63.0, 69.0, 152.0], [5, 56.0, 152.0], [5, 102.0, 33.0, 56.0, 152.0], [5, 51.0, 152.0], [5, 102.0, 56.0, 152.0], [5, 51.0, 152.0], [5, 60.0, 152.0], [5, 31.0, 75.0, 2.0, 132.0, 147.0, 149.0, 121.0, 22.0, 142.0, 152.0], [5, 50.0, 104.0, 152.0], [5, 144.0, 44.0, 152.0], [5, 26.0, 69.0, 152.0], [5, 69.0, 152.0], [5, 39.0, 50.0, 44.0, 152.0], [5, 33.0, 44.0, 152.0], [5, 26.0, 122.0, 64.0, 35.0, 116.0, 139.0, 43.0, 72.0, 41.0, 112.0, 145.0, 151.0], [5, 34.0, 56.0, 152.0], [5, 104.0, 152.0], [5, 104.0, 152.0], [5, 102.0, 125.0, 152.0], [5, 32.0, 126.0, 152.0], [5, 50.0, 69.0, 152.0], [5, 125.0, 152.0], [5, 111.0, 152.0], [5, 60.0, 152.0], [5, 125.0, 152.0], [5, 63.0, 51.0, 152.0], [5, 44.0, 152.0], [5, 51.0, 152.0], [5, 16.0, 69.0, 152.0], [5, 51.0, 152.0], [5, 32.0, 125.0, 152.0], [5, 121.0, 69.0, 152.0], [5, 63.0, 39.0, 108.0, 152.0], [5, 99.0, 152.0], [5, 22.0, 122.0, 29.0, 102.0, 113.0, 79.0, 7.0, 34.0, 107.0, 26.0, 130.0, 65.0, 16.0, 33.0, 111.0, 152.0], [5, 102.0, 69.0, 152.0], [5, 99.0, 152.0], [5, 102.0, 125.0, 152.0], [5, 56.0, 152.0], [5, 121.0, 56.0, 152.0], [5, 34.0, 141.0, 126.0, 152.0], [5, 63.0, 111.0, 152.0], [5, 125.0, 152.0], [5, 39.0, 33.0, 141.0, 111.0, 152.0], [5, 60.0, 152.0], [5, 99.0, 152.0], [5, 26.0, 51.0, 152.0], [5, 26.0, 68.0, 23.0, 152.0], [5, 32.0, 31.0, 13.0, 11.0, 47.0, 67.0, 143.0, 38.0, 137.0, 82.0, 2.0, 75.0, 149.0, 18.0, 19.0, 91.0, 25.0, 58.0, 95.0, 35.0, 134.0, 135.0, 92.0, 36.0, 120.0, 28.0, 72.0, 62.0, 27.0, 89.0, 34.0, 119.0, 111.0, 152.0], [5, 119.0, 104.0, 152.0], [5, 51.0, 152.0], [5, 63.0, 56.0, 152.0], [5, 16.0, 119.0, 22.0, 144.0, 32.0, 60.0, 152.0], [5, 80.0, 111.0, 152.0], [5, 69.0, 152.0], [5, 33.0, 111.0, 152.0], [5, 121.0, 56.0, 152.0], [5, 26.0, 54.0, 23.0, 80.0, 99.0, 126.0, 142.0, 22.0, 113.0, 35.0, 106.0, 55.0, 6.0, 85.0, 124.0, 92.0, 64.0, 28.0, 118.0, 81.0, 138.0, 139.0, 25.0, 19.0, 10.0, 86.0, 114.0, 127.0, 94.0, 76.0, 20.0, 1.0, 40.0, 21.0, 52.0, 130.0, 111.0, 32.0, 144.0, 70.0, 152.0], [5, 109.0, 32.0, 44.0, 152.0], [5, 33.0, 39.0, 69.0, 152.0], [5, 31.0, 63.0, 99.0, 152.0], [5, 65.0, 69.0, 152.0], [5, 99.0, 152.0], [5, 144.0, 44.0, 152.0], [5, 39.0, 111.0, 152.0], [5, 80.0, 111.0, 152.0], [5, 119.0, 111.0, 152.0], [5, 80.0, 111.0, 152.0], [5, 56.0, 152.0], [5, 104.0, 152.0], [5, 111.0, 152.0], [5, 31.0, 83.0, 18.0, 140.0, 129.0, 43.0, 92.0, 72.0, 28.0, 105.0, 66.0, 145.0, 62.0, 120.0, 115.0, 94.0, 17.0, 59.0, 110.0, 51.0, 69.0, 60.0, 141.0, 7.0, 22.0, 79.0, 121.0, 107.0, 89.0, 95.0, 116.0, 19.0, 35.0, 106.0, 64.0, 113.0, 130.0, 87.0, 139.0, 124.0, 67.0, 137.0, 88.0, 25.0, 138.0, 10.0, 134.0, 146.0, 1.0, 20.0, 150.0, 96.0, 101.0, 86.0, 127.0, 42.0, 8.0, 114.0, 133.0, 135.0, 45.0, 84.0, 49.0, 41.0, 73.0, 90.0, 15.0, 61.0, 74.0, 103.0, 112.0, 85.0, 81.0, 27.0, 78.0, 77.0, 151.0], [5, 108.0, 152.0], [5, 80.0, 125.0, 152.0], [5, 22.0, 117.0, 34.0, 39.0, 69.0, 152.0], [5, 31.0, 109.0, 149.0, 121.0, 117.0, 63.0, 39.0, 50.0, 44.0, 152.0], [5, 50.0, 111.0, 152.0], [5, 121.0, 56.0, 152.0], [5, 51.0, 152.0], [5, 99.0, 152.0], [5, 44.0, 152.0], [5, 44.0, 152.0], [5, 22.0, 108.0, 152.0], [5, 125.0, 152.0], [5, 121.0, 51.0, 152.0], [5, 51.0, 152.0], [5, 111.0, 152.0], [5, 117.0, 125.0, 152.0], [5, 144.0, 44.0, 152.0], [5, 65.0, 51.0, 152.0], [5, 32.0, 60.0, 152.0], [5, 111.0, 152.0], [5, 16.0, 34.0, 26.0, 70.0, 152.0], [5, 104.0, 152.0], [5, 56.0, 152.0], [5, 26.0, 39.0, 141.0, 3.0, 152.0], [5, 111.0, 152.0], [5, 26.0, 130.0, 51.0, 152.0], [5, 34.0, 111.0, 152.0], [5, 125.0, 152.0], [5, 141.0, 104.0, 152.0], [5, 108.0, 152.0], [5, 125.0, 152.0], [5, 125.0, 152.0], [5, 44.0, 152.0], [5, 26.0, 125.0, 152.0], [5, 65.0, 56.0, 152.0], [5, 125.0, 152.0], [5, 26.0, 102.0, 107.0, 113.0, 29.0, 110.0, 141.0, 56.0, 152.0], [5, 50.0, 44.0, 152.0], [5, 60.0, 152.0], [5, 44.0, 152.0], [5, 108.0, 152.0], [5, 102.0, 125.0, 152.0], [5, 50.0, 69.0, 152.0], [5, 69.0, 152.0], [5, 111.0, 152.0], [5, 99.0, 152.0], [5, 111.0, 152.0], [5, 126.0, 152.0], [5, 33.0, 69.0, 152.0], [5, 39.0, 56.0, 152.0], [5, 141.0, 104.0, 152.0], [5, 104.0, 152.0], [5, 56.0, 152.0], [5, 32.0, 126.0, 152.0], [5, 22.0, 119.0, 3.0, 152.0], [5, 51.0, 152.0], [5, 33.0, 69.0, 152.0], [5, 31.0, 18.0, 47.0, 2.0, 75.0, 82.0, 67.0, 66.0, 116.0, 95.0, 139.0, 30.0, 148.0, 130.0, 79.0, 122.0, 24.0, 16.0, 39.0, 65.0, 50.0, 108.0, 152.0], [5, 108.0, 152.0], [5, 121.0, 51.0, 152.0], [5, 117.0, 125.0, 152.0], [5, 144.0, 44.0, 152.0], [5, 56.0, 152.0], [5, 16.0, 24.0, 9.0, 3.0, 152.0], [5, 50.0, 69.0, 152.0], [5, 60.0, 152.0], [5, 141.0, 104.0, 152.0], [5, 22.0, 108.0, 152.0], [5, 63.0, 111.0, 152.0], [5, 65.0, 125.0, 152.0], [5, 123.0, 152.0], [5, 102.0, 69.0, 152.0], [5, 111.0, 152.0], [5, 119.0, 44.0, 152.0], [5, 39.0, 24.0, 50.0, 121.0, 51.0, 123.0, 152.0], [5, 26.0, 119.0, 68.0, 23.0, 152.0], [5, 117.0, 125.0, 152.0], [5, 125.0, 152.0], [5, 56.0, 152.0], [5, 108.0, 152.0], [5, 123.0, 152.0], [5, 16.0, 142.0, 152.0], [5, 69.0, 152.0], [5, 99.0, 152.0], [5, 102.0, 69.0, 152.0], [5, 32.0, 51.0, 152.0], [5, 117.0, 111.0, 152.0], [5, 125.0, 152.0], [5, 32.0, 126.0, 152.0], [5, 80.0, 33.0, 119.0, 39.0, 144.0, 69.0, 152.0], [5, 109.0, 32.0, 56.0, 152.0], [5, 50.0, 108.0, 152.0], [5, 22.0, 34.0, 56.0, 152.0], [5, 99.0, 152.0], [5, 111.0, 152.0], [5, 44.0, 152.0], [5, 60.0, 152.0], [5, 44.0, 152.0], [5, 31.0, 18.0, 19.0, 89.0, 46.0, 102.0, 117.0, 113.0, 119.0, 39.0, 126.0, 152.0], [5, 99.0, 152.0], [5, 31.0, 63.0, 104.0, 152.0], [5, 26.0, 63.0, 125.0, 152.0], [5, 102.0, 80.0, 70.0, 152.0], [5, 34.0, 122.0, 68.0, 70.0, 152.0], [5, 99.0, 152.0], [5, 108.0, 152.0], [5, 108.0, 152.0], [5, 108.0, 152.0], [5, 16.0, 141.0, 3.0, 152.0], [5, 22.0, 80.0, 56.0, 152.0], [5, 121.0, 51.0, 152.0], [5, 44.0, 152.0], [5, 56.0, 152.0], [5, 33.0, 3.0, 152.0], [5, 39.0, 125.0, 152.0], [5, 44.0, 152.0], [5, 104.0, 152.0], [5, 44.0, 152.0], [5, 119.0, 104.0, 152.0], [5, 63.0, 56.0, 152.0], [5, 65.0, 69.0, 152.0], [5, 39.0, 104.0, 152.0], [5, 63.0, 111.0, 152.0], [5, 39.0, 125.0, 152.0], [5, 63.0, 125.0, 152.0], [5, 65.0, 51.0, 152.0], [5, 32.0, 60.0, 152.0], [5, 65.0, 125.0, 152.0], [5, 99.0, 152.0], [5, 104.0, 152.0], [5, 51.0, 152.0], [5, 33.0, 125.0, 152.0], [5, 119.0, 108.0, 152.0], [5, 60.0, 152.0], [5, 31.0, 121.0, 65.0, 7.0, 95.0, 89.0, 58.0, 19.0, 140.0, 67.0, 128.0, 2.0, 75.0, 132.0, 13.0, 71.0, 147.0, 11.0, 47.0, 12.0, 98.0, 139.0, 148.0, 30.0, 16.0, 122.0, 68.0, 119.0, 102.0, 39.0, 26.0, 107.0, 141.0, 142.0, 152.0], [5, 26.0, 144.0, 126.0, 152.0], [5, 104.0, 152.0], [5, 34.0, 16.0, 98.0, 102.0, 26.0, 80.0, 50.0, 125.0, 152.0], [5, 44.0, 152.0], [5, 141.0, 104.0, 152.0], [5, 26.0, 70.0, 152.0], [5, 109.0, 32.0, 60.0, 152.0], [5, 26.0, 69.0, 152.0], [5, 121.0, 69.0, 152.0], [5, 144.0, 44.0, 152.0], [5, 22.0, 29.0, 107.0, 130.0, 102.0, 113.0, 7.0, 91.0, 34.0, 65.0, 26.0, 141.0, 80.0, 111.0, 152.0], [5, 63.0, 111.0, 152.0], [5, 119.0, 125.0, 152.0], [5, 109.0, 32.0, 56.0, 152.0], [5, 31.0, 47.0, 82.0, 88.0, 128.0, 38.0, 137.0, 2.0, 132.0, 83.0, 109.0, 32.0, 149.0, 121.0, 107.0, 29.0, 24.0, 142.0, 152.0], [5, 56.0, 152.0], [5, 63.0, 111.0, 152.0], [5, 39.0, 44.0, 152.0], [5, 33.0, 104.0, 152.0], [5, 111.0, 152.0], [5, 51.0, 152.0], [5, 111.0, 152.0], [5, 111.0, 152.0], [5, 69.0, 152.0], [5, 121.0, 56.0, 152.0], [5, 60.0, 152.0], [5, 102.0, 119.0, 104.0, 152.0], [5, 56.0, 152.0], [5, 108.0, 152.0], [5, 44.0, 152.0], [5, 80.0, 111.0, 152.0], [5, 99.0, 152.0], [5, 44.0, 152.0], [5, 102.0, 142.0, 152.0], [5, 117.0, 111.0, 152.0], [5, 144.0, 44.0, 152.0], [5, 51.0, 152.0], [5, 26.0, 130.0, 65.0, 102.0, 16.0, 113.0, 91.0, 121.0, 117.0, 144.0, 111.0, 152.0], [5, 111.0, 152.0], [5, 16.0, 33.0, 23.0, 152.0], [5, 125.0, 152.0], [5, 121.0, 69.0, 152.0], [5, 56.0, 152.0], [5, 44.0, 152.0], [5, 119.0, 125.0, 152.0], [5, 22.0, 51.0, 152.0], [5, 126.0, 152.0], [5, 34.0, 33.0, 3.0, 152.0], [5, 99.0, 152.0], [5, 34.0, 51.0, 152.0], [5, 65.0, 33.0, 111.0, 152.0], [5, 32.0, 126.0, 152.0], [5, 44.0, 152.0], [5, 144.0, 44.0, 152.0], [5, 104.0, 152.0], [5, 34.0, 125.0, 152.0], [5, 50.0, 44.0, 152.0], [5, 80.0, 111.0, 152.0], [5, 126.0, 152.0], [5, 44.0, 152.0], [5, 63.0, 44.0, 152.0], [5, 104.0, 152.0], [5, 44.0, 152.0], [5, 121.0, 56.0, 152.0], [5, 80.0, 125.0, 152.0], [5, 32.0, 51.0, 152.0], [5, 56.0, 152.0], [5, 109.0, 32.0, 56.0, 152.0], [5, 142.0, 152.0], [5, 50.0, 99.0, 152.0], [5, 104.0, 152.0], [5, 60.0, 152.0], [5, 125.0, 152.0], [5, 117.0, 111.0, 152.0], [5, 39.0, 125.0, 152.0], [5, 63.0, 44.0, 152.0], [5, 65.0, 80.0, 33.0, 99.0, 152.0], [5, 119.0, 104.0, 152.0], [5, 119.0, 125.0, 152.0], [5, 33.0, 69.0, 152.0], [5, 121.0, 51.0, 152.0], [5, 99.0, 152.0], [5, 60.0, 152.0], [5, 111.0, 152.0], [5, 125.0, 152.0], [5, 80.0, 51.0, 152.0], [5, 121.0, 69.0, 152.0], [5, 31.0, 117.0, 111.0, 152.0], [5, 50.0, 125.0, 152.0], [5, 63.0, 69.0, 152.0], [5, 119.0, 44.0, 152.0], [5, 108.0, 152.0], [5, 125.0, 152.0], [5, 44.0, 152.0], [5, 119.0, 125.0, 152.0], [5, 125.0, 152.0], [5, 144.0, 44.0, 152.0], [5, 69.0, 152.0], [5, 34.0, 69.0, 152.0], [5, 33.0, 3.0, 152.0], [5, 108.0, 152.0], [5, 117.0, 108.0, 152.0], [5, 50.0, 125.0, 152.0], [5, 44.0, 152.0], [5, 125.0, 152.0], [5, 119.0, 108.0, 152.0], [5, 99.0, 152.0], [5, 22.0, 33.0, 119.0, 122.0, 130.0, 24.0, 9.0, 70.0, 152.0], [5, 144.0, 44.0, 152.0], [5, 56.0, 152.0], [5, 80.0, 104.0, 152.0], [5, 125.0, 152.0], [5, 44.0, 152.0], [5, 108.0, 152.0], [5, 31.0, 117.0, 108.0, 152.0], [5, 65.0, 56.0, 152.0], [5, 65.0, 39.0, 69.0, 152.0], [5, 99.0, 152.0], [5, 56.0, 152.0], [5, 108.0, 152.0], [5, 44.0, 152.0], [5, 119.0, 111.0, 152.0], [5, 119.0, 104.0, 152.0], [5, 121.0, 56.0, 152.0], [5, 125.0, 152.0], [5, 44.0, 152.0], [5, 108.0, 152.0], [5, 39.0, 3.0, 50.0, 108.0, 117.0, 56.0, 126.0, 144.0, 142.0, 33.0, 63.0, 26.0, 64.0, 116.0, 25.0, 16.0, 110.0, 34.0, 18.0, 66.0, 129.0, 62.0, 118.0, 41.0, 138.0, 131.0, 43.0, 120.0, 49.0, 92.0, 72.0, 97.0, 81.0, 28.0, 61.0, 78.0, 77.0, 53.0, 105.0, 143.0, 137.0, 75.0, 13.0, 4.0, 82.0, 89.0, 121.0, 7.0, 148.0, 10.0, 86.0, 100.0, 8.0, 133.0, 74.0, 35.0, 45.0, 52.0, 42.0, 21.0, 6.0, 94.0, 1.0, 40.0, 55.0, 146.0, 136.0, 36.0, 150.0, 115.0, 101.0, 85.0, 112.0, 84.0, 58.0, 98.0, 46.0, 95.0, 139.0, 91.0, 79.0, 19.0, 65.0, 22.0, 106.0, 130.0, 69.0, 102.0, 141.0, 107.0, 30.0, 87.0, 96.0, 76.0, 127.0, 20.0, 17.0, 24.0, 80.0, 68.0, 9.0, 54.0, 23.0, 99.0, 111.0, 152.0], [5, 56.0, 152.0], [5, 99.0, 152.0], [5, 60.0, 152.0], [5, 16.0, 110.0, 70.0, 152.0], [5, 39.0, 44.0, 152.0], [5, 34.0, 56.0, 152.0], [5, 144.0, 44.0, 152.0], [5, 39.0, 51.0, 152.0], [5, 44.0, 152.0], [5, 65.0, 56.0, 152.0], [5, 69.0, 152.0], [5, 16.0, 33.0, 119.0, 126.0, 152.0], [5, 16.0, 125.0, 152.0], [5, 51.0, 152.0], [5, 102.0, 51.0, 152.0], [5, 121.0, 69.0, 152.0], [5, 34.0, 119.0, 111.0, 152.0], [5, 69.0, 152.0], [5, 125.0, 152.0], [5, 123.0, 152.0], [5, 32.0, 60.0, 152.0], [5, 144.0, 44.0, 152.0], [5, 32.0, 60.0, 152.0], [5, 44.0, 152.0], [5, 22.0, 111.0, 152.0], [5, 26.0, 142.0, 152.0], [5, 44.0, 152.0], [5, 32.0, 60.0, 152.0], [5, 34.0, 91.0, 26.0, 16.0, 39.0, 51.0, 152.0], [5, 111.0, 152.0], [5, 121.0, 56.0, 152.0], [5, 125.0, 152.0], [5, 34.0, 69.0, 152.0], [5, 144.0, 44.0, 152.0], [5, 56.0, 152.0], [5, 26.0, 142.0, 152.0], [5, 69.0, 152.0], [5, 65.0, 142.0, 152.0], [5, 117.0, 111.0, 152.0], [5, 22.0, 102.0, 91.0, 117.0, 50.0, 125.0, 152.0], [5, 141.0, 108.0, 152.0], [5, 102.0, 69.0, 152.0], [5, 39.0, 125.0, 152.0], [5, 63.0, 44.0, 152.0], [5, 141.0, 125.0, 152.0], [5, 144.0, 44.0, 152.0], [5, 117.0, 125.0, 152.0], [5, 125.0, 152.0], [5, 31.0, 117.0, 69.0, 152.0], [5, 65.0, 69.0, 152.0], [5, 99.0, 152.0], [5, 32.0, 126.0, 152.0], [5, 125.0, 152.0], [5, 33.0, 104.0, 152.0], [5, 39.0, 125.0, 152.0], [5, 102.0, 117.0, 69.0, 152.0], [5, 33.0, 111.0, 152.0], [5, 111.0, 152.0], [5, 117.0, 144.0, 44.0, 152.0], [5, 117.0, 111.0, 152.0], [5, 144.0, 44.0, 152.0], [5, 60.0, 152.0], [5, 121.0, 51.0, 152.0], [5, 108.0, 152.0], [5, 104.0, 152.0], [5, 65.0, 142.0, 152.0], [5, 99.0, 152.0], [5, 26.0, 54.0, 22.0, 65.0, 56.0, 152.0], [5, 102.0, 111.0, 152.0], [5, 109.0, 32.0, 51.0, 152.0], [5, 141.0, 125.0, 152.0], [5, 104.0, 152.0], [5, 65.0, 80.0, 44.0, 152.0], [5, 69.0, 152.0], [5, 50.0, 44.0, 152.0], [5, 44.0, 152.0], [5, 34.0, 142.0, 152.0], [5, 99.0, 152.0], [5, 111.0, 152.0], [5, 60.0, 152.0], [5, 26.0, 111.0, 152.0], [5, 44.0, 152.0], [5, 111.0, 152.0], [5, 26.0, 56.0, 152.0], [5, 125.0, 152.0], [5, 16.0, 65.0, 29.0, 130.0, 26.0, 141.0, 56.0, 152.0], [5, 39.0, 69.0, 152.0], [5, 125.0, 152.0], [5, 44.0, 152.0], [5, 117.0, 69.0, 152.0], [5, 60.0, 152.0], [5, 50.0, 69.0, 152.0], [5, 102.0, 111.0, 152.0], [5, 108.0, 152.0], [5, 44.0, 152.0], [5, 50.0, 111.0, 152.0], [5, 50.0, 56.0, 152.0], [5, 56.0, 152.0], [5, 108.0, 152.0], [5, 50.0, 69.0, 152.0], [5, 50.0, 111.0, 152.0], [5, 125.0, 152.0], [5, 102.0, 56.0, 152.0], [5, 60.0, 152.0], [5, 99.0, 152.0], [5, 126.0, 152.0], [5, 51.0, 152.0], [5, 33.0, 56.0, 152.0], [5, 44.0, 152.0], [5, 32.0, 125.0, 152.0], [5, 109.0, 63.0, 51.0, 152.0], [5, 34.0, 16.0, 65.0, 102.0, 130.0, 26.0, 29.0, 107.0, 33.0, 50.0, 63.0, 60.0, 152.0], [5, 117.0, 111.0, 152.0], [5, 63.0, 44.0, 152.0], [5, 117.0, 108.0, 152.0], [5, 119.0, 104.0, 152.0], [5, 26.0, 69.0, 152.0], [5, 141.0, 108.0, 152.0], [5, 65.0, 80.0, 3.0, 152.0], [5, 39.0, 108.0, 152.0], [5, 125.0, 152.0], [5, 111.0, 152.0], [5, 125.0, 152.0], [5, 109.0, 31.0, 32.0, 126.0, 152.0], [5, 108.0, 152.0], [5, 108.0, 152.0], [5, 33.0, 111.0, 152.0], [5, 69.0, 152.0], [5, 108.0, 152.0], [5, 117.0, 108.0, 152.0], [5, 34.0, 33.0, 3.0, 152.0], [5, 60.0, 152.0], [5, 60.0, 152.0], [5, 56.0, 152.0], [5, 39.0, 104.0, 152.0], [5, 121.0, 69.0, 152.0], [5, 144.0, 44.0, 152.0], [5, 33.0, 70.0, 152.0], [5, 104.0, 152.0], [5, 104.0, 152.0], [5, 34.0, 142.0, 152.0], [5, 109.0, 63.0, 99.0, 152.0], [5, 99.0, 152.0], [5, 44.0, 152.0], [5, 32.0, 60.0, 69.0, 141.0, 26.0, 22.0, 95.0, 122.0, 117.0, 119.0, 63.0, 125.0, 70.0, 51.0, 68.0, 108.0, 123.0, 80.0, 142.0, 56.0, 39.0, 144.0, 113.0, 19.0, 29.0, 64.0, 30.0, 52.0, 101.0, 107.0, 110.0, 91.0, 58.0, 43.0, 49.0, 97.0, 72.0, 62.0, 53.0, 57.0, 61.0, 92.0, 139.0, 59.0, 136.0, 96.0, 9.0, 17.0, 76.0, 93.0, 1.0, 150.0, 54.0, 106.0, 102.0, 121.0, 47.0, 38.0, 105.0, 90.0, 73.0, 145.0, 129.0, 140.0, 66.0, 138.0, 124.0, 143.0, 27.0, 98.0, 18.0, 12.0, 48.0, 137.0, 128.0, 13.0, 83.0, 71.0, 11.0, 75.0, 109.0, 31.0, 149.0, 82.0, 4.0, 2.0, 147.0, 132.0], [5, 144.0, 44.0, 152.0], [5, 50.0, 44.0, 152.0], [5, 109.0, 32.0, 56.0, 152.0], [5, 33.0, 108.0, 152.0], [5, 117.0, 111.0, 152.0], [5, 16.0, 91.0, 30.0, 79.0, 29.0, 34.0, 141.0, 51.0, 152.0], [5, 104.0, 152.0], [5, 121.0, 56.0, 152.0], [5, 50.0, 69.0, 152.0], [5, 34.0, 33.0, 24.0, 68.0, 130.0, 113.0, 16.0, 80.0, 70.0, 152.0], [5, 80.0, 125.0, 152.0], [5, 31.0, 121.0, 34.0, 16.0, 122.0, 130.0, 65.0, 26.0, 33.0, 111.0, 152.0], [5, 65.0, 142.0, 152.0], [5, 60.0, 152.0], [5, 32.0, 126.0, 152.0], [5, 34.0, 102.0, 65.0, 130.0, 26.0, 122.0, 22.0, 33.0, 80.0, 39.0, 69.0, 152.0], [5, 141.0, 44.0, 152.0], [5, 144.0, 44.0, 152.0], [5, 104.0, 152.0], [5, 31.0, 91.0, 117.0, 69.0, 152.0], [5, 80.0, 111.0, 152.0], [5, 141.0, 125.0, 152.0], [5, 50.0, 69.0, 152.0], [5, 44.0, 152.0], [5, 16.0, 111.0, 152.0], [5, 109.0, 32.0, 126.0, 152.0], [5, 142.0, 152.0], [5, 39.0, 111.0, 152.0], [5, 80.0, 51.0, 152.0], [5, 125.0, 152.0], [5, 34.0, 141.0, 104.0, 152.0], [5, 56.0, 152.0], [5, 108.0, 152.0], [5, 109.0, 63.0, 142.0, 152.0], [5, 125.0, 152.0], [5, 26.0, 56.0, 152.0], [5, 111.0, 152.0], [5, 104.0, 152.0], [5, 117.0, 111.0, 152.0], [5, 125.0, 152.0], [5, 141.0, 125.0, 152.0], [5, 60.0, 152.0], [5, 26.0, 33.0, 69.0, 152.0], [5, 125.0, 152.0], [5, 33.0, 108.0, 152.0], [5, 80.0, 108.0, 152.0], [5, 111.0, 152.0], [5, 102.0, 69.0, 152.0], [5, 51.0, 152.0], [5, 65.0, 51.0, 152.0], [5, 108.0, 152.0], [5, 34.0, 33.0, 80.0, 111.0, 152.0], [5, 33.0, 111.0, 152.0], [5, 65.0, 34.0, 69.0, 152.0], [5, 33.0, 104.0, 152.0], [5, 33.0, 111.0, 152.0], [5, 111.0, 152.0], [5, 109.0, 32.0, 56.0, 152.0], [5, 144.0, 44.0, 152.0], [5, 121.0, 56.0, 152.0], [5, 125.0, 152.0], [5, 63.0, 125.0, 152.0], [5, 31.0, 117.0, 60.0, 125.0, 99.0, 3.0, 24.0, 70.0, 23.0, 69.0, 68.0, 101.0, 130.0, 113.0, 121.0, 25.0, 47.0, 83.0, 11.0, 147.0, 71.0, 149.0, 109.0, 63.0, 16.0, 22.0, 26.0, 33.0, 91.0, 64.0, 66.0, 137.0, 48.0, 75.0, 4.0, 105.0, 129.0, 10.0, 29.0, 139.0, 18.0, 82.0, 128.0, 78.0, 61.0, 41.0, 43.0, 28.0, 135.0, 45.0, 92.0, 19.0, 7.0, 39.0, 79.0, 35.0, 95.0, 89.0, 131.0, 73.0, 140.0, 112.0, 103.0, 49.0, 62.0, 115.0, 138.0, 85.0, 87.0, 46.0, 102.0, 106.0, 9.0, 141.0, 148.0, 134.0, 136.0, 6.0, 54.0, 122.0, 110.0, 104.0, 56.0, 111.0, 50.0, 51.0, 32.0, 126.0, 152.0], [5, 69.0, 152.0], [5, 69.0, 152.0], [5, 51.0, 152.0], [5, 56.0, 152.0], [5, 99.0, 152.0], [5, 60.0, 152.0], [5, 141.0, 125.0, 152.0], [5, 108.0, 152.0], [5, 26.0, 56.0, 152.0], [5, 125.0, 152.0], [5, 99.0, 152.0], [5, 44.0, 152.0], [5, 51.0, 152.0], [5, 50.0, 111.0, 152.0], [5, 111.0, 152.0], [5, 32.0, 69.0, 152.0], [5, 125.0, 152.0], [5, 32.0, 60.0, 152.0], [5, 34.0, 91.0, 22.0, 29.0, 110.0, 65.0, 51.0, 152.0], [5, 125.0, 152.0], [5, 65.0, 119.0, 60.0, 152.0], [5, 69.0, 152.0], [5, 125.0, 152.0], [5, 121.0, 56.0, 152.0], [5, 125.0, 152.0], [5, 119.0, 111.0, 152.0], [5, 32.0, 60.0, 152.0], [5, 108.0, 152.0], [5, 39.0, 125.0, 152.0], [5, 39.0, 108.0, 152.0], [5, 26.0, 34.0, 117.0, 144.0, 126.0, 152.0], [5, 121.0, 69.0, 152.0], [5, 34.0, 144.0, 69.0, 152.0], [5, 33.0, 69.0, 152.0], [5, 69.0, 152.0], [5, 69.0, 152.0], [5, 119.0, 125.0, 152.0], [5, 144.0, 44.0, 152.0], [5, 125.0, 152.0], [5, 99.0, 152.0], [5, 26.0, 142.0, 152.0], [5, 109.0, 117.0, 51.0, 152.0], [5, 50.0, 111.0, 152.0], [5, 80.0, 111.0, 152.0], [5, 125.0, 152.0], [5, 39.0, 125.0, 152.0], [5, 108.0, 152.0], [5, 121.0, 51.0, 152.0], [5, 125.0, 152.0], [5, 33.0, 3.0, 152.0], [5, 69.0, 152.0], [5, 39.0, 44.0, 152.0], [5, 121.0, 69.0, 152.0], [5, 119.0, 108.0, 152.0], [5, 60.0, 152.0], [5, 99.0, 152.0], [5, 117.0, 56.0, 152.0], [5, 26.0, 119.0, 51.0, 152.0], [5, 80.0, 51.0, 152.0], [5, 22.0, 125.0, 152.0], [5, 111.0, 152.0], [5, 63.0, 111.0, 152.0], [5, 39.0, 142.0, 152.0], [5, 111.0, 152.0], [5, 65.0, 107.0, 148.0, 46.0, 85.0, 87.0, 30.0, 22.0, 117.0, 63.0, 111.0, 152.0], [5, 99.0, 152.0], [5, 144.0, 44.0, 152.0], [5, 26.0, 70.0, 152.0], [5, 39.0, 142.0, 152.0], [5, 50.0, 108.0, 152.0], [5, 44.0, 152.0], [5, 26.0, 69.0, 152.0], [5, 117.0, 51.0, 152.0], [5, 39.0, 125.0, 152.0], [5, 125.0, 152.0], [5, 22.0, 56.0, 152.0], [5, 141.0, 111.0, 152.0], [5, 111.0, 152.0], [5, 56.0, 152.0], [5, 34.0, 69.0, 152.0], [5, 111.0, 152.0], [5, 50.0, 108.0, 152.0], [5, 16.0, 33.0, 3.0, 152.0], [5, 26.0, 119.0, 51.0, 152.0], [5, 119.0, 104.0, 152.0], [5, 65.0, 56.0, 152.0], [5, 141.0, 108.0, 152.0], [5, 50.0, 69.0, 152.0], [5, 44.0, 152.0], [5, 144.0, 44.0, 152.0], [5, 32.0, 56.0, 152.0], [5, 26.0, 110.0, 24.0, 141.0, 102.0, 39.0, 70.0, 152.0], [5, 111.0, 152.0], [5, 16.0, 68.0, 108.0, 152.0], [5, 22.0, 3.0, 152.0], [5, 125.0, 152.0], [5, 111.0, 152.0], [5, 117.0, 125.0, 152.0], [5, 99.0, 152.0], [5, 22.0, 54.0, 110.0, 69.0, 152.0], [5, 16.0, 56.0, 152.0], [5, 80.0, 104.0, 152.0], [5, 16.0, 122.0, 102.0, 22.0, 141.0, 56.0, 152.0], [5, 26.0, 16.0, 69.0, 152.0], [5, 99.0, 152.0], [5, 121.0, 56.0, 152.0], [5, 65.0, 56.0, 152.0], [5, 104.0, 152.0], [5, 39.0, 51.0, 152.0], [5, 119.0, 125.0, 152.0], [5, 119.0, 44.0, 152.0], [5, 102.0, 69.0, 152.0], [5, 109.0, 32.0, 111.0, 152.0], [5, 26.0, 108.0, 152.0], [5, 26.0, 50.0, 144.0, 56.0, 152.0], [5, 119.0, 104.0, 152.0], [5, 69.0, 152.0], [5, 99.0, 152.0], [5, 51.0, 152.0], [5, 111.0, 152.0], [5, 102.0, 142.0, 152.0], [5, 109.0, 63.0, 104.0, 152.0], [5, 51.0, 152.0], [5, 102.0, 69.0, 152.0], [5, 125.0, 152.0], [5, 31.0, 18.0, 132.0, 47.0, 128.0, 82.0, 12.0, 46.0, 67.0, 105.0, 4.0, 11.0, 88.0, 137.0, 66.0, 95.0, 112.0, 15.0, 61.0, 116.0, 85.0, 81.0, 45.0, 131.0, 143.0, 30.0, 124.0, 35.0, 134.0, 76.0, 1.0, 40.0, 93.0, 21.0, 100.0, 86.0, 136.0, 106.0, 65.0, 111.0, 99.0, 108.0, 141.0, 107.0, 63.0, 50.0, 60.0, 39.0, 122.0, 54.0, 10.0, 101.0, 68.0, 148.0, 29.0, 56.0, 121.0, 130.0, 125.0, 144.0, 44.0, 119.0, 26.0, 110.0, 69.0, 104.0, 123.0, 51.0, 24.0, 64.0, 58.0, 28.0, 139.0, 52.0, 17.0, 9.0, 22.0, 7.0, 33.0, 117.0, 102.0, 79.0, 113.0, 80.0, 23.0, 3.0, 152.0], [5, 44.0, 152.0], [5, 142.0, 152.0], [5, 26.0, 68.0, 23.0, 152.0], [5, 16.0, 29.0, 22.0, 26.0, 141.0, 39.0, 69.0, 152.0], [5, 104.0, 152.0], [5, 56.0, 152.0], [5, 33.0, 108.0, 152.0], [5, 63.0, 111.0, 152.0], [5, 50.0, 111.0, 152.0], [5, 125.0, 152.0], [5, 22.0, 26.0, 39.0, 125.0, 152.0], [5, 117.0, 50.0, 44.0, 152.0], [5, 142.0, 152.0], [5, 22.0, 111.0, 152.0], [5, 80.0, 3.0, 152.0], [5, 16.0, 111.0, 152.0], [5, 108.0, 152.0], [5, 69.0, 152.0], [5, 108.0, 152.0], [5, 99.0, 152.0], [5, 63.0, 125.0, 152.0], [5, 144.0, 44.0, 152.0], [5, 111.0, 152.0], [5, 99.0, 152.0], [5, 16.0, 69.0, 152.0], [5, 44.0, 152.0], [5, 65.0, 33.0, 50.0, 117.0, 144.0, 69.0, 152.0], [5, 60.0, 152.0], [5, 60.0, 152.0], [5, 51.0, 152.0], [5, 125.0, 152.0], [5, 51.0, 152.0], [5, 16.0, 122.0, 141.0, 50.0, 125.0, 152.0], [5, 16.0, 111.0, 152.0], [5, 60.0, 152.0], [5, 22.0, 63.0, 44.0, 152.0], [5, 33.0, 51.0, 152.0], [5, 60.0, 152.0], [5, 33.0, 125.0, 152.0], [5, 125.0, 152.0], [5, 125.0, 152.0], [5, 65.0, 125.0, 152.0], [5, 104.0, 152.0], [5, 39.0, 104.0, 152.0], [5, 109.0, 117.0, 44.0, 152.0], [5, 125.0, 152.0], [5, 50.0, 104.0, 152.0], [5, 142.0, 152.0], [5, 125.0, 152.0], [5, 26.0, 142.0, 152.0], [5, 63.0, 126.0, 152.0], [5, 56.0, 152.0], [5, 34.0, 16.0, 33.0, 51.0, 152.0], [5, 102.0, 65.0, 141.0, 69.0, 152.0], [5, 63.0, 111.0, 152.0], [5, 99.0, 152.0], [5, 60.0, 152.0], [5, 108.0, 152.0], [5, 109.0, 63.0, 51.0, 152.0], [5, 44.0, 152.0], [5, 111.0, 152.0], [5, 144.0, 44.0, 152.0], [5, 125.0, 152.0], [5, 108.0, 152.0], [5, 117.0, 111.0, 152.0], [5, 125.0, 152.0], [5, 80.0, 111.0, 152.0], [5, 26.0, 51.0, 152.0], [5, 108.0, 152.0], [5, 44.0, 152.0], [5, 102.0, 142.0, 152.0], [5, 117.0, 108.0, 152.0], [5, 108.0, 152.0], [5, 56.0, 152.0], [5, 65.0, 56.0, 152.0], [5, 16.0, 26.0, 22.0, 33.0, 144.0, 50.0, 39.0, 69.0, 152.0], [5, 50.0, 70.0, 152.0], [5, 125.0, 152.0], [5, 141.0, 104.0, 152.0], [5, 50.0, 125.0, 152.0], [5, 125.0, 152.0], [5, 16.0, 113.0, 107.0, 122.0, 102.0, 22.0, 130.0, 65.0, 26.0, 34.0, 91.0, 121.0, 117.0, 141.0, 69.0, 152.0], [5, 111.0, 152.0], [5, 111.0, 152.0], [5, 121.0, 69.0, 152.0], [5, 63.0, 111.0, 152.0], [5, 22.0, 142.0, 152.0], [5, 26.0, 51.0, 152.0], [5, 33.0, 23.0, 152.0], [5, 34.0, 33.0, 22.0, 7.0, 65.0, 107.0, 30.0, 58.0, 62.0, 77.0, 49.0, 138.0, 84.0, 43.0, 81.0, 41.0, 45.0, 131.0, 85.0, 136.0, 106.0, 21.0, 150.0, 134.0, 74.0, 120.0, 61.0, 105.0, 28.0, 140.0, 25.0, 143.0, 47.0, 75.0, 67.0, 11.0, 83.0, 121.0, 16.0, 39.0, 111.0, 152.0], [5, 60.0, 152.0], [5, 104.0, 152.0], [5, 144.0, 44.0, 152.0], [5, 121.0, 51.0, 152.0], [5, 111.0, 152.0], [5, 144.0, 125.0, 152.0], [5, 39.0, 111.0, 152.0], [5, 60.0, 152.0], [5, 144.0, 44.0, 152.0], [5, 44.0, 152.0], [5, 111.0, 152.0], [5, 123.0, 152.0], [5, 50.0, 69.0, 152.0], [5, 102.0, 50.0, 60.0, 152.0], [5, 102.0, 69.0, 152.0], [5, 121.0, 51.0, 152.0], [5, 99.0, 152.0], [5, 39.0, 69.0, 152.0], [5, 51.0, 152.0], [5, 31.0, 65.0, 125.0, 152.0], [5, 80.0, 125.0, 152.0], [5, 60.0, 152.0], [5, 80.0, 111.0, 152.0], [5, 63.0, 50.0, 51.0, 152.0], [5, 109.0, 32.0, 50.0, 69.0, 152.0], [5, 109.0, 63.0, 141.0, 108.0, 152.0], [5, 44.0, 152.0], [5, 99.0, 152.0], [5, 34.0, 144.0, 111.0, 152.0], [5, 60.0, 152.0], [5, 80.0, 70.0, 152.0], [5, 117.0, 108.0, 152.0], [5, 69.0, 152.0], [5, 102.0, 141.0, 56.0, 152.0], [5, 111.0, 152.0], [5, 51.0, 152.0], [5, 33.0, 56.0, 152.0], [5, 104.0, 152.0], [5, 125.0, 152.0], [5, 16.0, 117.0, 51.0, 152.0], [5, 108.0, 152.0], [5, 109.0, 63.0, 125.0, 152.0], [5, 109.0, 32.0, 63.0, 56.0, 152.0], [5, 102.0, 69.0, 152.0], [5, 69.0, 152.0], [5, 26.0, 144.0, 50.0, 111.0, 152.0], [5, 108.0, 152.0], [5, 63.0, 108.0, 152.0], [5, 16.0, 56.0, 152.0], [5, 60.0, 152.0], [5, 104.0, 152.0], [5, 31.0, 117.0, 65.0, 142.0, 152.0], [5, 32.0, 60.0, 152.0], [5, 65.0, 34.0, 91.0, 102.0, 107.0, 26.0, 119.0, 111.0, 152.0], [5, 56.0, 152.0], [5, 34.0, 26.0, 16.0, 30.0, 79.0, 91.0, 65.0, 119.0, 56.0, 152.0], [5, 22.0, 69.0, 152.0], [5, 39.0, 44.0, 152.0], [5, 69.0, 152.0], [5, 125.0, 152.0], [5, 117.0, 111.0, 152.0], [5, 39.0, 111.0, 152.0], [5, 63.0, 111.0, 152.0], [5, 80.0, 111.0, 152.0], [5, 119.0, 104.0, 152.0], [5, 51.0, 152.0], [5, 109.0, 63.0, 111.0, 152.0], [5, 80.0, 125.0, 152.0], [5, 33.0, 104.0, 152.0], [5, 121.0, 69.0, 152.0], [5, 144.0, 44.0, 152.0], [5, 99.0, 152.0], [5, 16.0, 33.0, 142.0, 152.0], [5, 50.0, 108.0, 152.0], [5, 32.0, 126.0, 152.0], [5, 50.0, 44.0, 152.0], [5, 22.0, 56.0, 152.0], [5, 26.0, 56.0, 152.0], [5, 51.0, 152.0], [5, 104.0, 152.0], [5, 44.0, 152.0], [5, 34.0, 69.0, 152.0], [5, 125.0, 152.0], [5, 50.0, 69.0, 152.0], [5, 144.0, 44.0, 152.0], [5, 34.0, 24.0, 59.0, 148.0, 46.0, 12.0, 116.0, 112.0, 139.0, 113.0, 119.0, 44.0, 152.0], [5, 44.0, 152.0], [5, 63.0, 111.0, 152.0], [5, 63.0, 56.0, 152.0], [5, 44.0, 152.0], [5, 99.0, 152.0], [5, 22.0, 125.0, 152.0], [5, 33.0, 111.0, 152.0], [5, 16.0, 39.0, 44.0, 152.0], [5, 102.0, 56.0, 152.0], [5, 111.0, 152.0], [5, 44.0, 152.0], [5, 123.0, 152.0], [5, 80.0, 104.0, 152.0], [5, 44.0, 152.0], [5, 50.0, 44.0, 152.0], [5, 80.0, 108.0, 152.0], [5, 117.0, 125.0, 152.0], [5, 60.0, 152.0], [5, 60.0, 152.0], [5, 44.0, 152.0], [5, 26.0, 56.0, 152.0], [5, 109.0, 63.0, 70.0, 152.0], [5, 56.0, 152.0], [5, 121.0, 69.0, 152.0], [5, 144.0, 44.0, 152.0], [5, 108.0, 152.0], [5, 69.0, 152.0], [5, 31.0, 32.0, 126.0, 152.0], [5, 119.0, 44.0, 152.0], [5, 69.0, 152.0], [5, 111.0, 152.0], [5, 33.0, 104.0, 152.0], [5, 22.0, 142.0, 152.0], [5, 108.0, 152.0], [5, 16.0, 102.0, 107.0, 113.0, 95.0, 79.0, 64.0, 116.0, 25.0, 98.0, 18.0, 91.0, 130.0, 144.0, 50.0, 65.0, 39.0, 125.0, 152.0], [5, 39.0, 108.0, 152.0], [5, 51.0, 152.0], [5, 111.0, 152.0], [5, 111.0, 152.0], [5, 99.0, 152.0], [5, 39.0, 44.0, 152.0], [5, 111.0, 152.0], [5, 51.0, 152.0], [5, 102.0, 68.0, 104.0, 152.0], [5, 56.0, 152.0], [5, 69.0, 152.0], [5, 44.0, 152.0], [5, 144.0, 51.0, 152.0], [5, 60.0, 152.0], [5, 32.0, 126.0, 152.0], [5, 51.0, 152.0], [5, 108.0, 152.0], [5, 34.0, 50.0, 70.0, 152.0], [5, 32.0, 69.0, 152.0], [5, 111.0, 152.0], [5, 60.0, 152.0]]\n",
      "\n",
      "Final Results:\n",
      "Best Path Found: [5, 108.0, 152.0]\n",
      "Best Fitness: 1.1090225563909775\n"
     ]
    }
   ],
   "execution_count": 66
  },
  {
   "metadata": {
    "ExecuteTime": {
     "end_time": "2025-01-11T01:46:53.287617Z",
     "start_time": "2025-01-11T01:46:53.282228Z"
    }
   },
   "cell_type": "code",
   "source": [
    "\"\"\"\n",
    "TODO:\n",
    "1. Finish Parreto front function.\n",
    "2. Calculate the rate and latency of each path.\n",
    "3. Find the Pareto-optimal solutions.\n",
    "4. Print the results.\n",
    "\"\"\"\n",
    "solutions = [\n",
    "\n",
    "]\n",
    "\n",
    "\n",
    "# Simulate Objective Calculation Function\n",
    "# For each path, compute objectives like latency, rate, or hops\n",
    "def calculate_objectives(path):\n",
    "    \"\"\"Calculate metrics (latency, rate, hops) for a given path.\"\"\"\n",
    "    latency = 30 * (len(path) - 1)  # Latency is the number of hops (edges)\n",
    "\n",
    "    for i in range(len(path) - 1):\n",
    "        # Get the weight of the edge (path[i] -> path[i+1])\n",
    "        edge_weight = G.get((path[i], path[i + 1]), None)\n",
    "        if edge_weight is None:\n",
    "            raise ValueError(f\"Edge ({path[i]}, {path[i + 1]}) not found in the weights dictionary\")\n",
    "\n",
    "        # Rate is the minimum of the maximum weights\n",
    "        rate = min(rate, edge_weight)\n",
    "    hops = len(path)  # Total hops (number of nodes in the path)\n",
    "    return latency, rate, hops\n",
    "\n",
    "\n",
    "# Prepare objectives for all solutions\n",
    "objectives = [calculate_objectives(path) for path in solutions]\n",
    "\n",
    "\n",
    "# Pareto Front Functions\n",
    "def is_dominated(solution, other_solution):\n",
    "    \"\"\"Check if one solution is dominated by another.\"\"\"\n",
    "    return all(x <= y for x, y in zip(solution, other_solution)) and any(\n",
    "        x < y for x, y in zip(solution, other_solution)\n",
    "    )\n",
    "\n",
    "\n",
    "def pareto_front(objectives):\n",
    "    \"\"\"Filter solutions to find Pareto-optimal set.\"\"\"\n",
    "    pareto_solutions = []\n",
    "    for i, sol1 in enumerate(objectives):\n",
    "        if not any(is_dominated(sol1, sol2) for j, sol2 in enumerate(objectives) if i != j):\n",
    "            pareto_solutions.append(sol1)\n",
    "    return pareto_solutions\n",
    "\n",
    "\n",
    "# Compute Pareto front from objectives\n",
    "pareto_optimal = pareto_front(objectives)\n",
    "\n",
    "# Print Results\n",
    "print(\"Pareto-Optimal Solutions:\")\n",
    "for sol in pareto_optimal:\n",
    "    print(f\"Latency: {sol[0]}, Rate: {sol[1]}, Hops: {sol[2]}, Solution: {solutions[objectives.index(sol)]}\")\n"
   ],
   "id": "87e5518defcc3b0a",
   "outputs": [
    {
     "name": "stdout",
     "output_type": "stream",
     "text": [
      "Pareto-Optimal Solutions:\n"
     ]
    }
   ],
   "execution_count": 71
  },
  {
   "metadata": {
    "ExecuteTime": {
     "end_time": "2025-01-11T01:44:43.767735Z",
     "start_time": "2025-01-11T01:44:43.765344Z"
    }
   },
   "cell_type": "code",
   "source": [
    "#12 -> 143 -> 25 -> 46 -> 19 -> 116 -> 124 -> 112 -> 28 -> 61 -> 145 -> 15 -> 53 -> 57 -> 151, Maximum Transmission Rate: 151, Latency: 420 ms\n",
    "fitness_function([5, 108.0, 152.0], G)"
   ],
   "id": "5586a1c925c9e9b4",
   "outputs": [
    {
     "data": {
      "text/plain": [
       "1.1090225563909775"
      ]
     },
     "execution_count": 67,
     "metadata": {},
     "output_type": "execute_result"
    }
   ],
   "execution_count": 67
  },
  {
   "metadata": {
    "ExecuteTime": {
     "end_time": "2025-01-11T00:58:13.008971Z",
     "start_time": "2025-01-11T00:58:13.005395Z"
    }
   },
   "cell_type": "code",
   "source": [
    "def plot_points(df, nodes):\n",
    "    coordinate_x = df['Position1']\n",
    "    coordinate_y = df['Position2']\n",
    "\n",
    "    # Compute the positions of the nodes passed\n",
    "    path_list = [tuple(position_data.loc[i, ['Position1', 'Position2']].tolist()) for i in nodes]\n",
    "    plt.figure(figsize = (12, 8))\n",
    "    plt.title('Nodes Location')\n",
    "    plt.scatter(coordinate_x, coordinate_y)\n",
    "    for j in range(len(path_list) -1):\n",
    "        plt.plot([path_list[j][0], path_list[j + 1][0]], [path_list[j][1], path_list[j + 1][1]], 'r-', label=\"Line Path\" if j == 0 else \"\")\n",
    "    plt.legend(loc='upper right')\n",
    "    plt.show()"
   ],
   "id": "ca308d94f8b3425a",
   "outputs": [],
   "execution_count": 36
  },
  {
   "metadata": {
    "ExecuteTime": {
     "end_time": "2025-01-11T01:45:45.445036Z",
     "start_time": "2025-01-11T01:45:45.386602Z"
    }
   },
   "cell_type": "code",
   "source": "plot_points(position_data, [5, 144.0, 44.0, 152.0])",
   "id": "62d8f21ca542e3df",
   "outputs": [
    {
     "data": {
      "text/plain": [
       "<Figure size 1200x800 with 1 Axes>"
      ],
      "image/png": "[encoded data removed]"
     },
     "metadata": {},
     "output_type": "display_data"
    }
   ],
   "execution_count": 70
  },
  {
   "metadata": {},
   "cell_type": "code",
   "outputs": [],
   "execution_count": null,
   "source": "",
   "id": "4206a6aa26e5bce6"
  }
 ],
 "metadata": {
  "kernelspec": {
   "display_name": "Python 3",
   "language": "python",
   "name": "python3"
  },
  "language_info": {
   "codemirror_mode": {
    "name": "ipython",
    "version": 2
   },
   "file_extension": ".py",
   "mimetype": "text/x-python",
   "name": "python",
   "nbconvert_exporter": "python",
   "pygments_lexer": "ipython2",
   "version": "2.7.6"
  }
 },
 "nbformat": 4,
 "nbformat_minor": 5
}
