{
 "cells": [
  {
   "cell_type": "code",
   "id": "initial_id",
   "metadata": {
    "collapsed": true,
    "ExecuteTime": {
     "end_time": "2024-11-26T01:24:50.379081Z",
     "start_time": "2024-11-26T01:24:50.375673Z"
    }
   },
   "source": [
    "import numpy as np\n",
    "import pandas as pd\n",
    "from scipy.optimize import linprog"
   ],
   "outputs": [],
   "execution_count": 42
  },
  {
   "metadata": {
    "ExecuteTime": {
     "end_time": "2024-11-26T01:24:50.787334Z",
     "start_time": "2024-11-26T01:24:50.783779Z"
    }
   },
   "cell_type": "code",
   "source": [
    "costs = pd.DataFrame({\n",
    "    \"A\": [10, 12, 6],\n",
    "    \"B\": [5, 7, 12],\n",
    "    \"C\": [20, 12, 16],\n",
    "    \"D\": [12, 19, 17],\n",
    "}, index=[1, 2, 3])\n",
    "costs"
   ],
   "id": "621e4c721bb893df",
   "outputs": [
    {
     "data": {
      "text/plain": [
       "    A   B   C   D\n",
       "1  10   5  20  12\n",
       "2  12   7  12  19\n",
       "3   6  12  16  17"
      ],
      "text/html": [
       "<div>\n",
       "<style scoped>\n",
       "    .dataframe tbody tr th:only-of-type {\n",
       "        vertical-align: middle;\n",
       "    }\n",
       "\n",
       "    .dataframe tbody tr th {\n",
       "        vertical-align: top;\n",
       "    }\n",
       "\n",
       "    .dataframe thead th {\n",
       "        text-align: right;\n",
       "    }\n",
       "</style>\n",
       "<table border=\"1\" class=\"dataframe\">\n",
       "  <thead>\n",
       "    <tr style=\"text-align: right;\">\n",
       "      <th></th>\n",
       "      <th>A</th>\n",
       "      <th>B</th>\n",
       "      <th>C</th>\n",
       "      <th>D</th>\n",
       "    </tr>\n",
       "  </thead>\n",
       "  <tbody>\n",
       "    <tr>\n",
       "      <th>1</th>\n",
       "      <td>10</td>\n",
       "      <td>5</td>\n",
       "      <td>20</td>\n",
       "      <td>12</td>\n",
       "    </tr>\n",
       "    <tr>\n",
       "      <th>2</th>\n",
       "      <td>12</td>\n",
       "      <td>7</td>\n",
       "      <td>12</td>\n",
       "      <td>19</td>\n",
       "    </tr>\n",
       "    <tr>\n",
       "      <th>3</th>\n",
       "      <td>6</td>\n",
       "      <td>12</td>\n",
       "      <td>16</td>\n",
       "      <td>17</td>\n",
       "    </tr>\n",
       "  </tbody>\n",
       "</table>\n",
       "</div>"
      ]
     },
     "execution_count": 43,
     "metadata": {},
     "output_type": "execute_result"
    }
   ],
   "execution_count": 43
  },
  {
   "metadata": {
    "ExecuteTime": {
     "end_time": "2024-11-26T01:52:08.782470Z",
     "start_time": "2024-11-26T01:52:08.777397Z"
    }
   },
   "cell_type": "code",
   "source": [
    "supply = [11, 25, 14]\n",
    "demand = [5, 15, 13, 17]\n",
    "c = [10, 5, 20, 12, 12, 7, 12, 19, 6, 12, 16, 17]\n",
    "num_supply = len(supply)\n",
    "num_demand = len(demand)\n",
    "A_eq = np.zeros((num_supply + num_demand, num_supply * num_demand))\n",
    "for i in range(num_supply):\n",
    "    A_eq[i, i * num_demand:(i + 1)* num_demand] = 1\n",
    "for j in range(num_demand):\n",
    "    A_eq[num_supply + j, j::num_demand] = 1\n",
    "print(A_eq)\n",
    "A_eq = A_eq.tolist()\n",
    "b_eq = supply + demand\n",
    "X_bounds = [(0, None)] * num_supply * num_demand\n",
    "result = linprog(c, A_eq=A_eq, b_eq=b_eq, bounds=X_bounds, method='highs')\n",
    "print(result.x)\n",
    "print(np.array(result.x).reshape(num_supply, num_demand))"
   ],
   "id": "b4daf57472c03a4",
   "outputs": [
    {
     "name": "stdout",
     "output_type": "stream",
     "text": [
      "[[1. 1. 1. 1. 0. 0. 0. 0. 0. 0. 0. 0.]\n",
      " [0. 0. 0. 0. 1. 1. 1. 1. 0. 0. 0. 0.]\n",
      " [0. 0. 0. 0. 0. 0. 0. 0. 1. 1. 1. 1.]\n",
      " [1. 0. 0. 0. 1. 0. 0. 0. 1. 0. 0. 0.]\n",
      " [0. 1. 0. 0. 0. 1. 0. 0. 0. 1. 0. 0.]\n",
      " [0. 0. 1. 0. 0. 0. 1. 0. 0. 0. 1. 0.]\n",
      " [0. 0. 0. 1. 0. 0. 0. 1. 0. 0. 0. 1.]]\n",
      "[ 0.  3.  0.  8.  0. 12. 13.  0.  5.  0.  0.  9.]\n",
      "[[ 0.  3.  0.  8.]\n",
      " [ 0. 12. 13.  0.]\n",
      " [ 5.  0.  0.  9.]]\n"
     ]
    }
   ],
   "execution_count": 73
  },
  {
   "metadata": {
    "ExecuteTime": {
     "end_time": "2024-11-26T01:47:20.950280Z",
     "start_time": "2024-11-26T01:47:20.943828Z"
    }
   },
   "cell_type": "code",
   "source": [
    "c = [3,7,4,6,5,5,4,2,5,1,6,3,2,2,4]\n",
    "num_stores = 5\n",
    "num_warehouse = 3\n",
    "A_eq = np.zeros((num_warehouse + num_stores, num_warehouse * num_stores))\n",
    "\n",
    "for i in range(num_warehouse):\n",
    "    A_eq[i, i*num_stores:(i+1)*num_stores] = 1\n",
    "for j in range(num_stores):\n",
    "    A_eq[num_warehouse +j, j::num_stores ] = 1\n",
    "A_eq  = A_eq.tolist()\n",
    "b_eq = [150, 110, 90, 50, 100, 70, 70, 60]\n",
    "\n",
    "X_bounds = [(0, None)] * num_stores * num_warehouse\n",
    "result = linprog(c, A_eq=A_eq, b_eq=b_eq, bounds=X_bounds, method='highs')\n",
    "print(result.fun)\n",
    "print(result.x)"
   ],
   "id": "e861a9470cdfc29f",
   "outputs": [
    {
     "name": "stdout",
     "output_type": "stream",
     "text": [
      "1100.0\n",
      "[50.  0. 70. 30.  0.  0. 50.  0.  0. 60.  0. 50.  0. 40.  0.]\n"
     ]
    }
   ],
   "execution_count": 66
  },
  {
   "metadata": {
    "ExecuteTime": {
     "end_time": "2024-11-26T18:01:42.175328Z",
     "start_time": "2024-11-26T18:01:41.724024Z"
    }
   },
   "cell_type": "code",
   "source": [
    "import numpy as np\n",
    "import pandas as pd\n",
    "import pyomo.environ as pyo\n",
    "\n",
    "# Problem Statement Parameters\n",
    "c = [3,7,4,6,5,5,4,2,5,1,6,3,2,2,4]\n",
    "warehouse_supply = [150, 110, 90]\n",
    "store_demand = [70,70, 60, 50, 100]\n",
    "\n",
    "num_warehouse = len(warehouse_supply)\n",
    "num_stores = len(store_demand)\n",
    "\n",
    "# Pyomo model\n",
    "model = pyo.ConcreteModel()\n",
    "model.I = pyo.RangeSet(num_warehouse)\n",
    "model.J = pyo.RangeSet(num_stores)\n",
    "\n",
    "cost_matrix = {(i, j): c[(i - 1) * num_stores + (j -1)] for i in model.I for j in model.J }\n",
    "\n",
    "# Parameters for supply and demand\n",
    "model.supply = pyo.Param(model.I, initialize={i: warehouse_supply[i -1] for i in model.I})\n",
    "model.demand = pyo.Param(model.J, initialize={j: store_demand[j -1] for j in model.J})\n",
    "\n",
    "# Define variables\n",
    "model.x = pyo.Var(model.I, model.J, domain=pyo.NonNegativeReals)\n",
    "\n",
    "def objective_rule(model):\n",
    "    return sum(cost_matrix[i, j] * model.x[i, j] for i in model.I for j in model.J)\n",
    "model.objective = pyo.Objective(rule=objective_rule, sense=pyo.minimize)\n",
    "\n",
    "def supply_rule(model, i):\n",
    "    return sum(model.x[i, j] for j in model.J) <= model.supply[i]\n",
    "model.supply_constraint = pyo.Constraint(model.I, rule=supply_rule)\n",
    "\n",
    "def demand_rule(model, j):\n",
    "    return sum(model.x[i, j] for i in model.I) >= model.demand[j]\n",
    "model.demand_constraint = pyo.Constraint(model.J, rule=demand_rule)\n",
    "\n",
    "solver = pyo.SolverFactory('cbc')\n",
    "result = solver.solve(model, tee=True)\n",
    "print(f'Optimal cost: {pyo.value(model.objective)}')\n",
    "for i in model.I:\n",
    "    for j in model.J:\n",
    "        print(f'x[{i}{j}] = {pyo.value(model.x[i, j])}')"
   ],
   "id": "3ba50f20de9d48fd",
   "outputs": [
    {
     "name": "stdout",
     "output_type": "stream",
     "text": [
      "Welcome to the CBC MILP Solver \n",
      "Version: 2.10.12 \n",
      "Build Date: Sep  3 2024 \n",
      "\n",
      "command line - /opt/anaconda3/envs/learning/bin/cbc -printingOptions all -import /var/folders/j0/tr2332417vjbmj74tfc0dcd40000gn/T/tmpvire78nd.pyomo.lp -stat=1 -solve -solu /var/folders/j0/tr2332417vjbmj74tfc0dcd40000gn/T/tmpvire78nd.pyomo.soln (default strategy 1)\n",
      "Option for printingOptions changed from normal to all\n",
      "Presolve 8 (0) rows, 15 (0) columns and 30 (0) elements\n",
      "Statistics for presolved model\n",
      "\n",
      "\n",
      "Problem has 8 rows, 15 columns (15 with objective) and 30 elements\n",
      "Column breakdown:\n",
      "15 of type 0.0->inf, 0 of type 0.0->up, 0 of type lo->inf, \n",
      "0 of type lo->up, 0 of type free, 0 of type fixed, \n",
      "0 of type -inf->0.0, 0 of type -inf->up, 0 of type 0.0->1.0 \n",
      "Row breakdown:\n",
      "0 of type E 0.0, 0 of type E 1.0, 0 of type E -1.0, \n",
      "0 of type E other, 0 of type G 0.0, 0 of type G 1.0, \n",
      "5 of type G other, 0 of type L 0.0, 0 of type L 1.0, \n",
      "3 of type L other, 0 of type Range 0.0->1.0, 0 of type Range other, \n",
      "0 of type Free \n",
      "Presolve 8 (0) rows, 15 (0) columns and 30 (0) elements\n",
      "0  Obj 0 Primal inf 350 (5)\n",
      "9  Obj 950\n",
      "Optimal - objective value 950\n",
      "Optimal objective 950 - 9 iterations time 0.002\n",
      "Total time (CPU seconds):       0.00   (Wallclock seconds):       0.00\n",
      "\n",
      "Optimal cost: 950.0\n",
      "x[11] = 70.0\n",
      "x[12] = 20.0\n",
      "x[13] = 60.0\n",
      "x[14] = 0.0\n",
      "x[15] = 0.0\n",
      "x[21] = 0.0\n",
      "x[22] = 10.0\n",
      "x[23] = 0.0\n",
      "x[24] = 0.0\n",
      "x[25] = 100.0\n",
      "x[31] = 0.0\n",
      "x[32] = 40.0\n",
      "x[33] = 0.0\n",
      "x[34] = 50.0\n",
      "x[35] = 0.0\n"
     ]
    }
   ],
   "execution_count": 3
  },
  {
   "metadata": {
    "ExecuteTime": {
     "end_time": "2024-11-26T17:35:41.189180Z",
     "start_time": "2024-11-26T17:35:41.185242Z"
    }
   },
   "cell_type": "code",
   "source": [
    "warehouse = [150, 110, 90, 50, 100]\n",
    "dict(zip(range(len(warehouse)), warehouse))"
   ],
   "id": "b63a83a035c9f80b",
   "outputs": [
    {
     "data": {
      "text/plain": [
       "{0: 150, 1: 110, 2: 90, 3: 50, 4: 100}"
      ]
     },
     "execution_count": 1,
     "metadata": {},
     "output_type": "execute_result"
    }
   ],
   "execution_count": 1
  },
  {
   "metadata": {
    "ExecuteTime": {
     "end_time": "2024-11-26T01:42:49.153555Z",
     "start_time": "2024-11-26T01:42:49.144287Z"
    }
   },
   "cell_type": "code",
   "source": [
    "import numpy as np\n",
    "from scipy.optimize import linprog\n",
    "\n",
    "# Step 1: Define the costs, supply, and demand (adjusted)\n",
    "supply = [14, 25, 11]  # Adjusted total supply to 50\n",
    "demand = [5, 15, 13, 17]  # Total demand remains 50\n",
    "c = [10, 5, 20, 12, 12, 7, 12, 19, 6, 12, 16, 17]  # Flattened cost matrix\n",
    "\n",
    "num_supply = len(supply)  # Number of suppliers\n",
    "num_demand = len(demand)  # Number of customers\n",
    "\n",
    "# Step 2: Create the equality constraint matrix (A_eq)\n",
    "A_eq = np.zeros((num_supply + num_demand, num_supply * num_demand))\n",
    "\n",
    "# Supply constraints\n",
    "for i in range(num_supply):\n",
    "    for j in range(num_demand):\n",
    "        A_eq[i, i * num_demand + j] = 1\n",
    "\n",
    "# Demand constraints\n",
    "for j in range(num_demand):\n",
    "    for i in range(num_supply):\n",
    "        A_eq[num_supply + j, i * num_demand + j] = 1\n",
    "\n",
    "# Step 3: Create the right-hand side vector (b_eq)\n",
    "b_eq = supply + demand\n",
    "\n",
    "# Step 4: Set bounds for decision variables (non-negative)\n",
    "X_bounds = [(0, None)] * (num_supply * num_demand)\n",
    "\n",
    "# Step 5: Solve the transportation problem\n",
    "result = linprog(c, A_eq=A_eq, b_eq=b_eq, bounds=X_bounds, method=\"highs\")\n",
    "\n",
    "# Step 6: Display results\n",
    "if result.success:\n",
    "    print(\"Optimal solution found!\")\n",
    "    print(\"Total Cost:\", result.fun)\n",
    "    print(\"Transportation Plan:\")\n",
    "    print(np.array(result.x).reshape(num_supply, num_demand))\n",
    "else:\n",
    "    print(\"No feasible solution found.\")"
   ],
   "id": "d4ce27ca02208ca",
   "outputs": [
    {
     "name": "stdout",
     "output_type": "stream",
     "text": [
      "Optimal solution found!\n",
      "Total Cost: 519.0\n",
      "Transportation Plan:\n",
      "[[ 0.  3.  0. 11.]\n",
      " [ 0. 12. 13.  0.]\n",
      " [ 5.  0.  0.  6.]]\n"
     ]
    }
   ],
   "execution_count": 57
  },
  {
   "metadata": {},
   "cell_type": "code",
   "outputs": [],
   "execution_count": null,
   "source": "",
   "id": "43668d5cd98631f"
  }
 ],
 "metadata": {
  "kernelspec": {
   "display_name": "Python 3",
   "language": "python",
   "name": "python3"
  },
  "language_info": {
   "codemirror_mode": {
    "name": "ipython",
    "version": 2
   },
   "file_extension": ".py",
   "mimetype": "text/x-python",
   "name": "python",
   "nbconvert_exporter": "python",
   "pygments_lexer": "ipython2",
   "version": "2.7.6"
  }
 },
 "nbformat": 4,
 "nbformat_minor": 5
}
